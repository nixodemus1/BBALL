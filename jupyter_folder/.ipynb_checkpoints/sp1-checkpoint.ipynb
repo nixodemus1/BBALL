{
 "cells": [
  {
   "cell_type": "markdown",
   "id": "79111278-1381-40be-87f7-e14fb19f76ff",
   "metadata": {},
   "source": [
    "# Senior Project 1 Presentation\n",
    "Ismail Conze\n",
    "Nick Chowa\n",
    "Kaylyn Matthews"
   ]
  },
  {
   "cell_type": "markdown",
   "id": "29b75beb-2a23-487a-9dc6-056cd51df5b5",
   "metadata": {},
   "source": [
    "## Introduction"
   ]
  },
  {
   "cell_type": "markdown",
   "id": "ed22a191-5849-40b6-b30d-164786ed75be",
   "metadata": {},
   "source": []
  },
  {
   "cell_type": "code",
   "execution_count": 1,
   "id": "671cfe50-c113-4745-872c-a0983996e2df",
   "metadata": {},
   "outputs": [],
   "source": [
    "import numpy as np\n",
    "import pandas as pd\n",
    "import matplotlib.pyplot as pyplot\n",
    "from sklearn.impute import SimpleImputer\n",
    "from sklearn.preprocessing import MinMaxScaler\n",
    "from sklearn.metrics import confusion_matrix, ConfusionMatrixDisplay, classification_report\n",
    "from sklearn.model_selection import train_test_split\n",
    "from sklearn.svm import SVC\n",
    "from sklearn.model_selection import cross_val_score, cross_val_predict"
   ]
  },
  {
   "cell_type": "markdown",
   "id": "275ceba4-f1b0-42c4-9bf8-e82e815f1aba",
   "metadata": {},
   "source": [
    "## Preprocessing"
   ]
  },
  {
   "cell_type": "markdown",
   "id": "577eda72-13fe-4cd7-aab5-42d415c43e5b",
   "metadata": {},
   "source": [
    "### Methods"
   ]
  },
  {
   "cell_type": "code",
   "execution_count": 3,
   "id": "02196a99-2a6f-4906-9d4c-7af2be8913e8",
   "metadata": {},
   "outputs": [],
   "source": [
    "def pull_team(team, games):\n",
    "    teams_games = games.loc[(games['TEAM_ABBREVIATION_HOME'] == team) |\n",
    "                            (games['TEAM_ABBREVIATION_AWAY'] == team)]\n",
    "    print('Number of games')\n",
    "    print(len(teams_games))\n",
    "    return teams_games\n"
   ]
  },
  {
   "cell_type": "code",
   "execution_count": 4,
   "id": "d3d31546-999b-49ca-876e-c56c83c0590e",
   "metadata": {},
   "outputs": [],
   "source": [
    "def find_outliers(x):\n",
    "    q1 = np.percentile(x, 25)\n",
    "    q3 = np.percentile(x, 75)\n",
    "    iqr = q3 - q1\n",
    "    floor = q1 - 1.5 * iqr\n",
    "    ceiling = q3 + 1.5 * iqr\n",
    "    outlier_indices = list(x.index[(x < floor) | (x > ceiling)])\n",
    "    outlier_values = list(x[outlier_indices])\n",
    "    return outlier_indices, outlier_values"
   ]
  },
  {
   "cell_type": "code",
   "execution_count": 5,
   "id": "0664d473-9d24-4a96-b04f-12a363983c86",
   "metadata": {},
   "outputs": [],
   "source": [
    "def remove_outliers(x):\n",
    "    indices = []\n",
    "    for c in x.columns:\n",
    "        if not x[c].map(type).eq(str).any():\n",
    "            if not c == \"GAME_ID\" or c == \"GAME_DATE\":\n",
    "                indices += find_outliers(x[c])[0]\n",
    "    x = x.drop(indices)\n",
    "    return x"
   ]
  },
  {
   "cell_type": "code",
   "execution_count": 10,
   "id": "21e16b80-1602-441c-90cd-b1b4d2fbfb0f",
   "metadata": {},
   "outputs": [],
   "source": [
    "def clean_team(x):\n",
    "    # separate numerical features and categorical features\n",
    "    categorical_columns = []\n",
    "    numeric_columns = []\n",
    "    for c in x.columns:\n",
    "        if x[c].map(type).eq(str).any():\n",
    "            categorical_columns.append(c)\n",
    "        else:\n",
    "            numeric_columns.append(c)\n",
    "\n",
    "    # create two dataframes to hold the two types\n",
    "    data_numeric = x[numeric_columns]\n",
    "    data_categorical = pd.DataFrame(x[categorical_columns])\n",
    "\n",
    "    # replace missing values in numerical columns with median and then add the two types back together\n",
    "    imp = SimpleImputer(missing_values=np.nan, strategy='median')\n",
    "    data_numeric = pd.DataFrame(imp.fit_transform(data_numeric), columns=data_numeric.columns, index=data_numeric.index)\n",
    "    x = pd.concat([data_numeric, data_categorical], axis=1)\n",
    "    return x"
   ]
  },
  {
   "cell_type": "markdown",
   "id": "5f44ce48-902f-4888-82e8-32113f2dbe11",
   "metadata": {},
   "source": [
    "### Process"
   ]
  },
  {
   "cell_type": "markdown",
   "id": "87b4ba02-210f-432d-85fa-29c64e62fd0e",
   "metadata": {},
   "source": [
    "Read in the dataset"
   ]
  },
  {
   "cell_type": "code",
   "execution_count": 2,
   "id": "f28e6245-5919-46a0-a7ad-8abfcae9dcc0",
   "metadata": {},
   "outputs": [],
   "source": [
    " df = pd.read_csv('games.csv')\n",
    " df['WL_HOME'] = [0 if x == 'L' else 1 for x in df['WL_HOME']]"
   ]
  },
  {
   "cell_type": "markdown",
   "id": "f33b5c92-b892-4818-ab62-d209cef5045f",
   "metadata": {},
   "source": [
    "Here we create a subeset of the dataset containing all of the games for the selected team from the dataset. We then check for any missing values in the dataframe and replace them with that team's average performance for that category. After doing so we check again for missing values to ensure that there are none."
   ]
  },
  {
   "cell_type": "code",
   "execution_count": 7,
   "id": "7d38452f-28df-4125-abae-44ccea01609d",
   "metadata": {},
   "outputs": [
    {
     "name": "stdout",
     "output_type": "stream",
     "text": [
      "Number of games\n",
      "411\n",
      "Missing Values GAME_ID                     0\n",
      "GAME_DATE                   0\n",
      "TEAM_ABBREVIATION_HOME      0\n",
      "TEAM_ABBREVIATION_HOME.1    0\n",
      "FGM_HOME                    0\n",
      "FGA_HOME                    0\n",
      "FG_PCT_HOME                 0\n",
      "FG3M_HOME                   0\n",
      "FG3A_HOME                   0\n",
      "FG3_PCT_HOME                0\n",
      "FTM_HOME                    0\n",
      "FTA_HOME                    0\n",
      "FT_PCT_HOME                 0\n",
      "OREB_HOME                   0\n",
      "DREB_HOME                   0\n",
      "REB_HOME                    0\n",
      "AST_HOME                    0\n",
      "STL_HOME                    0\n",
      "BLK_HOME                    0\n",
      "TOV_HOME                    0\n",
      "PF_HOME                     0\n",
      "PTS_HOME                    0\n",
      "PTS_2ND_CHANCE_HOME         1\n",
      "PTS_PAINT_HOME              1\n",
      "TEAM_ABBREVIATION_AWAY      0\n",
      "FGM_AWAY                    0\n",
      "FGA_AWAY                    0\n",
      "FG_PCT_AWAY                 0\n",
      "FG3M_AWAY                   0\n",
      "FG3A_AWAY                   0\n",
      "FG3_PCT_AWAY                0\n",
      "FTM_AWAY                    0\n",
      "FTA_AWAY                    0\n",
      "FT_PCT_AWAY                 0\n",
      "OREB_AWAY                   0\n",
      "DREB_AWAY                   0\n",
      "REB_AWAY                    0\n",
      "AST_AWAY                    0\n",
      "STL_AWAY                    0\n",
      "BLK_AWAY                    0\n",
      "TOV_AWAY                    0\n",
      "PF_AWAY                     0\n",
      "PTS_AWAY                    0\n",
      "PTS_2ND_CHANCE_AWAY         1\n",
      "PTS_PAINT_AWAY              1\n",
      "MIN_HOME                    0\n",
      "ATTENDANCE                  1\n",
      "WL_HOME                     0\n",
      "dtype: int64\n",
      "Missing Values GAME_ID                     0\n",
      "FGM_HOME                    0\n",
      "FGA_HOME                    0\n",
      "FG_PCT_HOME                 0\n",
      "FG3M_HOME                   0\n",
      "FG3A_HOME                   0\n",
      "FG3_PCT_HOME                0\n",
      "FTM_HOME                    0\n",
      "FTA_HOME                    0\n",
      "FT_PCT_HOME                 0\n",
      "OREB_HOME                   0\n",
      "DREB_HOME                   0\n",
      "REB_HOME                    0\n",
      "AST_HOME                    0\n",
      "STL_HOME                    0\n",
      "BLK_HOME                    0\n",
      "TOV_HOME                    0\n",
      "PF_HOME                     0\n",
      "PTS_HOME                    0\n",
      "PTS_2ND_CHANCE_HOME         0\n",
      "PTS_PAINT_HOME              0\n",
      "FGM_AWAY                    0\n",
      "FGA_AWAY                    0\n",
      "FG_PCT_AWAY                 0\n",
      "FG3M_AWAY                   0\n",
      "FG3A_AWAY                   0\n",
      "FG3_PCT_AWAY                0\n",
      "FTM_AWAY                    0\n",
      "FTA_AWAY                    0\n",
      "FT_PCT_AWAY                 0\n",
      "OREB_AWAY                   0\n",
      "DREB_AWAY                   0\n",
      "REB_AWAY                    0\n",
      "AST_AWAY                    0\n",
      "STL_AWAY                    0\n",
      "BLK_AWAY                    0\n",
      "TOV_AWAY                    0\n",
      "PF_AWAY                     0\n",
      "PTS_AWAY                    0\n",
      "PTS_2ND_CHANCE_AWAY         0\n",
      "PTS_PAINT_AWAY              0\n",
      "MIN_HOME                    0\n",
      "ATTENDANCE                  0\n",
      "WL_HOME                     0\n",
      "GAME_DATE                   0\n",
      "TEAM_ABBREVIATION_HOME      0\n",
      "TEAM_ABBREVIATION_HOME.1    0\n",
      "TEAM_ABBREVIATION_AWAY      0\n",
      "dtype: int64\n"
     ]
    }
   ],
   "source": [
    "x = pull_team(\"MIN\", df)\n",
    "print('Missing Values', x.isnull().sum())\n",
    "x = clean_team(x)\n",
    "print('Missing Values', x.isnull().sum())\n",
    "x = remove_outliers(x)"
   ]
  },
  {
   "cell_type": "code",
   "execution_count": 8,
   "id": "e8d962e1-bb96-4180-b84c-615e9b99759b",
   "metadata": {},
   "outputs": [],
   "source": [
    "teamIF = x.drop(['WL_HOME', 'GAME_ID', 'GAME_DATE', 'TEAM_ABBREVIATION_HOME.1', 'TEAM_ABBREVIATION_HOME',\n",
    "                     'TEAM_ABBREVIATION_AWAY'], axis=1)\n",
    "teamOF = x.WL_HOME"
   ]
  },
  {
   "cell_type": "code",
   "execution_count": 9,
   "id": "409f0947-a8ef-4d32-ae8c-8ea43a450f00",
   "metadata": {},
   "outputs": [
    {
     "name": "stdout",
     "output_type": "stream",
     "text": [
      "      FGM_HOME  FGA_HOME  FG_PCT_HOME  FG3M_HOME  FG3A_HOME  FG3_PCT_HOME  \\\n",
      "14        43.0      82.0        0.524        4.0       15.0         0.267   \n",
      "19        37.0      76.0        0.487        4.0       10.0         0.400   \n",
      "33        38.0      85.0        0.447        4.0       12.0         0.333   \n",
      "59        36.0      82.0        0.439        8.0       21.0         0.381   \n",
      "85        41.0      78.0        0.526        5.0       13.0         0.385   \n",
      "...        ...       ...          ...        ...        ...           ...   \n",
      "6096      43.0      94.0        0.457        7.0       39.0         0.179   \n",
      "6113      43.0      86.0        0.500        8.0       24.0         0.333   \n",
      "6130      46.0      85.0        0.541       10.0       23.0         0.435   \n",
      "6140      38.0      91.0        0.418       13.0       42.0         0.310   \n",
      "6152      39.0      87.0        0.448       10.0       33.0         0.303   \n",
      "\n",
      "      FTM_HOME  FTA_HOME  FT_PCT_HOME  OREB_HOME  ...  AST_AWAY  STL_AWAY  \\\n",
      "14        15.0      20.0        0.750       10.0  ...      20.0       8.0   \n",
      "19        19.0      28.0        0.679       10.0  ...      20.0       3.0   \n",
      "33        25.0      31.0        0.806       13.0  ...      15.0       3.0   \n",
      "59        11.0      17.0        0.647        7.0  ...      22.0       9.0   \n",
      "85        15.0      17.0        0.882        6.0  ...      13.0       9.0   \n",
      "...        ...       ...          ...        ...  ...       ...       ...   \n",
      "6096      15.0      19.0        0.789       12.0  ...      26.0       6.0   \n",
      "6113      17.0      21.0        0.810        9.0  ...      24.0      10.0   \n",
      "6130      24.0      29.0        0.828        6.0  ...      27.0       6.0   \n",
      "6140      11.0      14.0        0.786        5.0  ...      24.0      10.0   \n",
      "6152      11.0      17.0        0.647       12.0  ...      24.0       6.0   \n",
      "\n",
      "      BLK_AWAY  TOV_AWAY  PF_AWAY  PTS_AWAY  PTS_2ND_CHANCE_AWAY  \\\n",
      "14         4.0      23.0     21.0     101.0                 17.0   \n",
      "19         5.0      12.0     24.0      91.0                 15.0   \n",
      "33         8.0      17.0     24.0     106.0                  8.0   \n",
      "59         4.0      13.0     21.0      98.0                 16.0   \n",
      "85         2.0      16.0     17.0      92.0                 25.0   \n",
      "...        ...       ...      ...       ...                  ...   \n",
      "6096       3.0      10.0     25.0     110.0                  4.0   \n",
      "6113       6.0      17.0     23.0     109.0                 15.0   \n",
      "6130       4.0      14.0     30.0     132.0                 21.0   \n",
      "6140       5.0      18.0     17.0     120.0                 11.0   \n",
      "6152       0.0      10.0     22.0      95.0                  9.0   \n",
      "\n",
      "      PTS_PAINT_AWAY  MIN_HOME  ATTENDANCE  \n",
      "14              34.0     240.0     17731.0  \n",
      "19              40.0     240.0     18296.0  \n",
      "33              34.0     240.0     19356.0  \n",
      "59              36.0     240.0     16302.0  \n",
      "85              48.0     240.0     19735.0  \n",
      "...              ...       ...         ...  \n",
      "6096            46.0     240.0     19576.0  \n",
      "6113            58.0     240.0     17763.0  \n",
      "6130            56.0     240.0     18978.0  \n",
      "6140            48.0     240.0     16119.0  \n",
      "6152            38.0     240.0     16332.0  \n",
      "\n",
      "[294 rows x 42 columns]\n",
      "14      1.0\n",
      "19      1.0\n",
      "33      0.0\n",
      "59      0.0\n",
      "85      1.0\n",
      "       ... \n",
      "6096    0.0\n",
      "6113    1.0\n",
      "6130    0.0\n",
      "6140    0.0\n",
      "6152    1.0\n",
      "Name: WL_HOME, Length: 294, dtype: float64\n"
     ]
    }
   ],
   "source": [
    "print(teamIF)\n",
    "print(teamOF)"
   ]
  },
  {
   "cell_type": "code",
   "execution_count": null,
   "id": "f577dcd3-7b05-4564-a086-455d36ccd520",
   "metadata": {},
   "outputs": [],
   "source": []
  },
  {
   "cell_type": "code",
   "execution_count": null,
   "id": "8da07578-e367-47fc-9607-4d30cef1871b",
   "metadata": {},
   "outputs": [],
   "source": []
  }
 ],
 "metadata": {
  "kernelspec": {
   "display_name": "Python 3 (ipykernel)",
   "language": "python",
   "name": "python3"
  },
  "language_info": {
   "codemirror_mode": {
    "name": "ipython",
    "version": 3
   },
   "file_extension": ".py",
   "mimetype": "text/x-python",
   "name": "python",
   "nbconvert_exporter": "python",
   "pygments_lexer": "ipython3",
   "version": "3.9.13"
  }
 },
 "nbformat": 4,
 "nbformat_minor": 5
}
