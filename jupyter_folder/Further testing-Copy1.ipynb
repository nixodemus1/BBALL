{
 "cells": [
  {
   "cell_type": "markdown",
   "id": "79111278-1381-40be-87f7-e14fb19f76ff",
   "metadata": {
    "id": "79111278-1381-40be-87f7-e14fb19f76ff"
   },
   "source": [
    "# Testing model with estimation of stats for future games, impacts of models trained on different eras, and size of training data"
   ]
  },
  {
   "cell_type": "markdown",
   "id": "ed22a191-5849-40b6-b30d-164786ed75be",
   "metadata": {
    "id": "ed22a191-5849-40b6-b30d-164786ed75be"
   },
   "source": [
    "In this round of testing we used the average of the past ten games to test our model on estimated data. We also tested with varying sizes and time periods of datasets as well as putting together validition vs test accuracy graphs in order to detect an underfitting or overfitting issues."
   ]
  },
  {
   "cell_type": "code",
   "execution_count": 19,
   "id": "671cfe50-c113-4745-872c-a0983996e2df",
   "metadata": {
    "id": "671cfe50-c113-4745-872c-a0983996e2df"
   },
   "outputs": [],
   "source": [
    "import numpy as np\n",
    "import pandas as pd\n",
    "import matplotlib.pyplot as pyplot\n",
    "from sklearn.impute import SimpleImputer\n",
    "from sklearn.preprocessing import MinMaxScaler\n",
    "from sklearn.metrics import confusion_matrix, ConfusionMatrixDisplay, classification_report\n",
    "from sklearn.model_selection import train_test_split\n",
    "from sklearn.model_selection import LearningCurveDisplay, ShuffleSplit\n",
    "from sklearn.model_selection import validation_curve\n",
    "from sklearn.svm import SVC\n",
    "from sklearn.model_selection import cross_val_score, cross_val_predict"
   ]
  },
  {
   "cell_type": "markdown",
   "id": "577eda72-13fe-4cd7-aab5-42d415c43e5b",
   "metadata": {
    "id": "577eda72-13fe-4cd7-aab5-42d415c43e5b"
   },
   "source": [
    "### Functions"
   ]
  },
  {
   "cell_type": "markdown",
   "id": "fef8656f-db8f-46b9-9ec8-7c401b694343",
   "metadata": {
    "id": "fef8656f-db8f-46b9-9ec8-7c401b694343"
   },
   "source": [
    "Takes in a dataframe and team name, returns a dataframe containing all of the games for the requested team."
   ]
  },
  {
   "cell_type": "code",
   "execution_count": 20,
   "id": "02196a99-2a6f-4906-9d4c-7af2be8913e8",
   "metadata": {
    "id": "02196a99-2a6f-4906-9d4c-7af2be8913e8"
   },
   "outputs": [],
   "source": [
    "def pull_team(team, games):\n",
    "    teams_games = games.loc[(games['TEAM_ABBREVIATION_HOME'] == team) |\n",
    "                            (games['TEAM_ABBREVIATION_AWAY'] == team)]\n",
    "    return teams_games\n"
   ]
  },
  {
   "cell_type": "markdown",
   "id": "39272297-bc3f-40df-bb54-52ce4209c860",
   "metadata": {
    "id": "39272297-bc3f-40df-bb54-52ce4209c860"
   },
   "source": [
    "Returns the indices and values of all elements considered outliers by the tukey method."
   ]
  },
  {
   "cell_type": "code",
   "execution_count": 21,
   "id": "d3d31546-999b-49ca-876e-c56c83c0590e",
   "metadata": {
    "id": "d3d31546-999b-49ca-876e-c56c83c0590e"
   },
   "outputs": [],
   "source": [
    "def find_outliers(x):\n",
    "    q1 = np.percentile(x, 25)\n",
    "    q3 = np.percentile(x, 75)\n",
    "    iqr = q3 - q1\n",
    "    floor = q1 - 1.5 * iqr\n",
    "    ceiling = q3 + 1.5 * iqr\n",
    "    outlier_indices = list(x.index[(x < floor) | (x > ceiling)])\n",
    "    outlier_values = list(x[outlier_indices])\n",
    "    return outlier_indices, outlier_values"
   ]
  },
  {
   "cell_type": "markdown",
   "id": "ae0e1a32-5af4-4b68-b528-74f8008db0e2",
   "metadata": {
    "id": "ae0e1a32-5af4-4b68-b528-74f8008db0e2"
   },
   "source": [
    "drops the indices of games containing outliers in a statistical category"
   ]
  },
  {
   "cell_type": "code",
   "execution_count": 22,
   "id": "0664d473-9d24-4a96-b04f-12a363983c86",
   "metadata": {
    "id": "0664d473-9d24-4a96-b04f-12a363983c86"
   },
   "outputs": [],
   "source": [
    "def remove_outliers(x):\n",
    "    indices = []\n",
    "    for c in x.columns:\n",
    "        if not x[c].map(type).eq(str).any():\n",
    "            if not c == \"GAME_ID\" or c == \"GAME_DATE\":\n",
    "                indices += find_outliers(x[c])[0]\n",
    "    x = x.drop(indices)\n",
    "    return x"
   ]
  },
  {
   "cell_type": "markdown",
   "id": "62385f65-1bbf-4e88-bc4d-8bca85cde05e",
   "metadata": {
    "id": "62385f65-1bbf-4e88-bc4d-8bca85cde05e"
   },
   "source": [
    "Separates teams into numerical and string columns, replaces missing numerical values with the median value of the statistic, and puts the two types of dataframes back together"
   ]
  },
  {
   "cell_type": "code",
   "execution_count": 23,
   "id": "21e16b80-1602-441c-90cd-b1b4d2fbfb0f",
   "metadata": {
    "id": "21e16b80-1602-441c-90cd-b1b4d2fbfb0f"
   },
   "outputs": [],
   "source": [
    "def clean_team(x):\n",
    "    # separate numerical features and categorical features\n",
    "    categorical_columns = []\n",
    "    numeric_columns = []\n",
    "    for c in x.columns:\n",
    "        if x[c].map(type).eq(str).any():\n",
    "            categorical_columns.append(c)\n",
    "        else:\n",
    "            numeric_columns.append(c)\n",
    "\n",
    "    # create two dataframes to hold the two types\n",
    "    data_numeric = x[numeric_columns]\n",
    "    data_categorical = pd.DataFrame(x[categorical_columns])\n",
    "\n",
    "    # replace missing values in numerical columns with median and then add the two types back together\n",
    "    imp = SimpleImputer(missing_values=np.nan, strategy='mean')\n",
    "    data_numeric = pd.DataFrame(imp.fit_transform(data_numeric), columns=data_numeric.columns, index=data_numeric.index)\n",
    "    x = pd.concat([data_numeric, data_categorical], axis=1)\n",
    "    return x"
   ]
  },
  {
   "cell_type": "markdown",
   "id": "5f44ce48-902f-4888-82e8-32113f2dbe11",
   "metadata": {
    "id": "5f44ce48-902f-4888-82e8-32113f2dbe11"
   },
   "source": [
    "### Process"
   ]
  },
  {
   "cell_type": "code",
   "execution_count": 24,
   "id": "f28e6245-5919-46a0-a7ad-8abfcae9dcc0",
   "metadata": {
    "id": "f28e6245-5919-46a0-a7ad-8abfcae9dcc0"
   },
   "outputs": [
    {
     "name": "stdout",
     "output_type": "stream",
     "text": [
      "number of games in 1990-2019 set:  34552\n"
     ]
    }
   ],
   "source": [
    "df = pd.read_csv('1990_2019.csv')\n",
    "df['WL_HOME'] = [0 if x == 'L' else 1 for x in df['WL_HOME']]\n",
    "print(\"number of games in 1990-2019 set: \",len(df))"
   ]
  },
  {
   "cell_type": "code",
   "execution_count": 25,
   "id": "7d38452f-28df-4125-abae-44ccea01609d",
   "metadata": {
    "id": "7d38452f-28df-4125-abae-44ccea01609d",
    "outputId": "1bce557d-4d8a-4ec4-ff91-33f54522ac38"
   },
   "outputs": [
    {
     "name": "stdout",
     "output_type": "stream",
     "text": [
      "number of Minnesota games in 1990-2019 set pre removal:  2364\n",
      "number of Minnesota games in 1990-2019 set post removal:  1405\n"
     ]
    }
   ],
   "source": [
    "x = pull_team(\"MIN\", df)\n",
    "print(\"number of Minnesota games in 1990-2019 set pre removal: \", len(x))\n",
    "x = clean_team(x)\n",
    "x = remove_outliers(x)\n",
    "print(\"number of Minnesota games in 1990-2019 set post removal: \", len(x))"
   ]
  },
  {
   "cell_type": "markdown",
   "id": "7b82ff84-dc4c-42b7-b632-642d523ac7c6",
   "metadata": {
    "id": "7b82ff84-dc4c-42b7-b632-642d523ac7c6"
   },
   "source": [
    "Drops columns of identifying information that does not affect outcome and separates the outcome into a separate dataframe."
   ]
  },
  {
   "cell_type": "code",
   "execution_count": 26,
   "id": "e8d962e1-bb96-4180-b84c-615e9b99759b",
   "metadata": {
    "id": "e8d962e1-bb96-4180-b84c-615e9b99759b"
   },
   "outputs": [],
   "source": [
    "teamIF = x.drop(['WL_HOME', 'GAME_ID', 'GAME_DATE', 'TEAM_ABBREVIATION_HOME',\n",
    "                        'TEAM_ABBREVIATION_AWAY', 'PTS_PAINT_HOME', 'PTS_PAINT_AWAY',\n",
    "                        'PTS_2ND_CHANCE_AWAY','PTS_2ND_CHANCE_AWAY'], axis=1)\n",
    "teamOF = x.WL_HOME"
   ]
  },
  {
   "cell_type": "markdown",
   "id": "7c960e26-14e0-4296-ac4f-f5f1bfc802c6",
   "metadata": {
    "id": "7c960e26-14e0-4296-ac4f-f5f1bfc802c6"
   },
   "source": [
    "**Trained on full league, tested on single team (without outlier removal)**"
   ]
  },
  {
   "cell_type": "code",
   "execution_count": 27,
   "id": "adfd501b-0493-4c00-ac3c-b7d029c24f45",
   "metadata": {
    "id": "adfd501b-0493-4c00-ac3c-b7d029c24f45"
   },
   "outputs": [],
   "source": [
    "league = clean_team(df)\n",
    "leagueIF = league.drop(['WL_HOME', 'GAME_ID', 'GAME_DATE', 'TEAM_ABBREVIATION_HOME',\n",
    "                        'TEAM_ABBREVIATION_AWAY', 'PTS_PAINT_HOME', 'PTS_PAINT_AWAY',\n",
    "                        'PTS_2ND_CHANCE_AWAY','PTS_2ND_CHANCE_AWAY'], axis=1)\n",
    "leagueOF = league.WL_HOME"
   ]
  },
  {
   "cell_type": "code",
   "execution_count": null,
   "id": "8da07578-e367-47fc-9607-4d30cef1871b",
   "metadata": {
    "id": "8da07578-e367-47fc-9607-4d30cef1871b"
   },
   "outputs": [],
   "source": [
    "leagueIF_train, leagueIF_test, leagueOF_train, leagueOF_test = train_test_split(leagueIF, leagueOF, test_size=.20)\n",
    "scale = MinMaxScaler()\n",
    "scale.fit(leagueIF_train)\n",
    "leagueIF_train_scale = scale.transform(leagueIF_train)\n",
    "leagueIF_test_scale = scale.transform(leagueIF_test)\n",
    "league_svm = SVC(kernel = \"rbf\", gamma = .001)\n",
    "league_svm.fit(leagueIF_train_scale, leagueOF_train)"
   ]
  },
  {
   "cell_type": "code",
   "execution_count": null,
   "id": "f088500a-f7d0-46f5-a0af-988742b5dd07",
   "metadata": {
    "id": "f088500a-f7d0-46f5-a0af-988742b5dd07",
    "outputId": "6265db57-bfad-4dd2-da07-8788bf200cbd",
    "scrolled": true
   },
   "outputs": [],
   "source": [
    "x = pull_team(\"MIN\", df)\n",
    "x = clean_team(x)\n",
    "teamIF = x.drop(['WL_HOME', 'GAME_ID', 'GAME_DATE', 'TEAM_ABBREVIATION_HOME',\n",
    "                        'TEAM_ABBREVIATION_AWAY', 'PTS_PAINT_HOME', 'PTS_PAINT_AWAY',\n",
    "                        'PTS_2ND_CHANCE_AWAY','PTS_2ND_CHANCE_AWAY'], axis=1)\n",
    "teamOF = x.WL_HOME"
   ]
  },
  {
   "cell_type": "code",
   "execution_count": null,
   "id": "e9cef1d6-ffc9-47f5-9deb-d8fabb496b2c",
   "metadata": {
    "id": "e9cef1d6-ffc9-47f5-9deb-d8fabb496b2c"
   },
   "outputs": [],
   "source": [
    "teamIF_train, teamIF_test, teamOF_train, teamOF_test = train_test_split(teamIF, teamOF, test_size=.25)\n",
    "scale = MinMaxScaler()\n",
    "scale.fit(teamIF_train)\n",
    "teamIF_train_scale = scale.transform(teamIF_train)\n",
    "teamIF_test_scale = scale.transform(teamIF_test)"
   ]
  },
  {
   "cell_type": "code",
   "execution_count": null,
   "id": "460db92b-70c9-4abc-836f-8d52c180d5dc",
   "metadata": {
    "id": "460db92b-70c9-4abc-836f-8d52c180d5dc"
   },
   "outputs": [],
   "source": [
    "pred = league_svm.predict(teamIF_test_scale)"
   ]
  },
  {
   "cell_type": "code",
   "execution_count": null,
   "id": "88b10623-1e9a-4d44-b10b-d3bac22c5728",
   "metadata": {
    "id": "88b10623-1e9a-4d44-b10b-d3bac22c5728",
    "outputId": "fdc7ee9b-ef1b-4b23-af2e-ec97ddb8a93b"
   },
   "outputs": [],
   "source": [
    "scores = cross_val_score(league_svm, teamIF, teamOF, cv=5)\n",
    "print(classification_report(teamOF_test, pred))\n",
    "print(league_svm.score(teamIF_test_scale, teamOF_test))"
   ]
  },
  {
   "cell_type": "markdown",
   "id": "d2f40d28",
   "metadata": {},
   "source": [
    "## Learning curve"
   ]
  },
  {
   "cell_type": "code",
   "execution_count": null,
   "id": "5002cb6f",
   "metadata": {},
   "outputs": [],
   "source": [
    "\n",
    "fig, ax = pyplot.subplots(nrows=1, ncols=2, figsize=(10, 6), sharey=True)\n",
    "\n",
    "common_params = {\n",
    "    \"X\": leagueIF,\n",
    "    \"y\": leagueOF,\n",
    "    \"train_sizes\": np.linspace(0.1, 1.0, 5),\n",
    "    \"cv\": ShuffleSplit(n_splits=5, test_size=0.2, random_state=0),\n",
    "    \"score_type\": \"both\",\n",
    "    \"n_jobs\": 4,\n",
    "    \"line_kw\": {\"marker\": \"o\"},\n",
    "    \"std_display_style\": \"fill_between\",\n",
    "    \"score_name\": \"Accuracy\",\n",
    "}\n",
    "\n",
    "for ax_idx, estimator in enumerate([league_svm]):\n",
    "    LearningCurveDisplay.from_estimator(estimator, **common_params, ax=ax[ax_idx])\n",
    "    handles, label = ax[ax_idx].get_legend_handles_labels()\n",
    "    ax[ax_idx].legend(handles[:2], [\"Training Score\", \"Test Score\"])\n",
    "    ax[ax_idx].set_title(f\"Learning Curve for SVM\")"
   ]
  },
  {
   "cell_type": "markdown",
   "id": "2ff6d8f4",
   "metadata": {},
   "source": [
    "## validation curve"
   ]
  },
  {
   "cell_type": "code",
   "execution_count": 16,
   "id": "a04a9865",
   "metadata": {},
   "outputs": [
    {
     "data": {
      "image/png": "[encoded data removed]",
      "text/plain": [
       "<Figure size 640x480 with 1 Axes>"
      ]
     },
     "metadata": {},
     "output_type": "display_data"
    }
   ],
   "source": [
    "X, y = leagueIF, leagueOF\n",
    "\n",
    "param_range = np.logspace(-6, -1, 5)\n",
    "train_scores, test_scores = validation_curve(\n",
    "    league_svm,\n",
    "    X,\n",
    "    y,\n",
    "    param_name=\"gamma\",\n",
    "    param_range=param_range,\n",
    "    scoring=\"accuracy\",\n",
    "    n_jobs=2,\n",
    ")\n",
    "train_scores_mean = np.mean(train_scores, axis=1)\n",
    "train_scores_std = np.std(train_scores, axis=1)\n",
    "test_scores_mean = np.mean(test_scores, axis=1)\n",
    "test_scores_std = np.std(test_scores, axis=1)\n",
    "\n",
    "pyplot.title(\"Validation Curve\")\n",
    "pyplot.xlabel(r\"$\\gamma$\")\n",
    "pyplot.ylabel(\"Accuracy\")\n",
    "pyplot.ylim(0.0, 1.1)\n",
    "lw = 2\n",
    "pyplot.semilogx(\n",
    "    param_range, train_scores_mean, label=\"Training score\", color=\"darkorange\", lw=lw\n",
    ")\n",
    "pyplot.fill_between(\n",
    "    param_range,\n",
    "    train_scores_mean - train_scores_std,\n",
    "    train_scores_mean + train_scores_std,\n",
    "    alpha=0.2,\n",
    "    color=\"darkorange\",\n",
    "    lw=lw,\n",
    ")\n",
    "pyplot.semilogx(\n",
    "    param_range, test_scores_mean, label=\"Cross-validation score\", color=\"navy\", lw=lw\n",
    ")\n",
    "pyplot.fill_between(\n",
    "    param_range,\n",
    "    test_scores_mean - test_scores_std,\n",
    "    test_scores_mean + test_scores_std,\n",
    "    alpha=0.2,\n",
    "    color=\"navy\",\n",
    "    lw=lw,\n",
    ")\n",
    "pyplot.legend(loc=\"best\")\n",
    "pyplot.show()"
   ]
  },
  {
   "cell_type": "markdown",
   "id": "8fedafd6",
   "metadata": {},
   "source": [
    "## validation curve"
   ]
  },
  {
   "cell_type": "code",
   "execution_count": 17,
   "id": "22508d4e",
   "metadata": {},
   "outputs": [
    {
     "ename": "ValueError",
     "evalue": "\n\\C\n^\nUnknown symbol: \\C, found '\\'  (at char 0), (line:1, col:1)",
     "output_type": "error",
     "traceback": [
      "\u001b[1;31m---------------------------------------------------------------------------\u001b[0m",
      "\u001b[1;31mParseFatalException\u001b[0m                       Traceback (most recent call last)",
      "File \u001b[1;32m~\\AppData\\Local\\Packages\\PythonSoftwareFoundation.Python.3.9_qbz5n2kfra8p0\\LocalCache\\local-packages\\Python39\\site-packages\\matplotlib\\_mathtext.py:1983\u001b[0m, in \u001b[0;36mParser.parse\u001b[1;34m(self, s, fonts_object, fontsize, dpi)\u001b[0m\n\u001b[0;32m   1982\u001b[0m \u001b[38;5;28;01mtry\u001b[39;00m:\n\u001b[1;32m-> 1983\u001b[0m     result \u001b[38;5;241m=\u001b[39m \u001b[38;5;28;43mself\u001b[39;49m\u001b[38;5;241;43m.\u001b[39;49m\u001b[43m_expression\u001b[49m\u001b[38;5;241;43m.\u001b[39;49m\u001b[43mparseString\u001b[49m\u001b[43m(\u001b[49m\u001b[43ms\u001b[49m\u001b[43m)\u001b[49m\n\u001b[0;32m   1984\u001b[0m \u001b[38;5;28;01mexcept\u001b[39;00m ParseBaseException \u001b[38;5;28;01mas\u001b[39;00m err:\n",
      "File \u001b[1;32m~\\AppData\\Local\\Packages\\PythonSoftwareFoundation.Python.3.9_qbz5n2kfra8p0\\LocalCache\\local-packages\\Python39\\site-packages\\pyparsing\\core.py:1141\u001b[0m, in \u001b[0;36mParserElement.parse_string\u001b[1;34m(self, instring, parse_all, parseAll)\u001b[0m\n\u001b[0;32m   1139\u001b[0m     \u001b[38;5;28;01melse\u001b[39;00m:\n\u001b[0;32m   1140\u001b[0m         \u001b[38;5;66;03m# catch and re-raise exception from here, clearing out pyparsing internal stack trace\u001b[39;00m\n\u001b[1;32m-> 1141\u001b[0m         \u001b[38;5;28;01mraise\u001b[39;00m exc\u001b[38;5;241m.\u001b[39mwith_traceback(\u001b[38;5;28;01mNone\u001b[39;00m)\n\u001b[0;32m   1142\u001b[0m \u001b[38;5;28;01melse\u001b[39;00m:\n",
      "\u001b[1;31mParseFatalException\u001b[0m: Unknown symbol: \\C, found '\\'  (at char 0), (line:1, col:1)",
      "\nThe above exception was the direct cause of the following exception:\n",
      "\u001b[1;31mValueError\u001b[0m                                Traceback (most recent call last)",
      "File \u001b[1;32m~\\AppData\\Local\\Packages\\PythonSoftwareFoundation.Python.3.9_qbz5n2kfra8p0\\LocalCache\\local-packages\\Python39\\site-packages\\IPython\\core\\formatters.py:338\u001b[0m, in \u001b[0;36mBaseFormatter.__call__\u001b[1;34m(self, obj)\u001b[0m\n\u001b[0;32m    336\u001b[0m     \u001b[38;5;28;01mpass\u001b[39;00m\n\u001b[0;32m    337\u001b[0m \u001b[38;5;28;01melse\u001b[39;00m:\n\u001b[1;32m--> 338\u001b[0m     \u001b[38;5;28;01mreturn\u001b[39;00m \u001b[43mprinter\u001b[49m\u001b[43m(\u001b[49m\u001b[43mobj\u001b[49m\u001b[43m)\u001b[49m\n\u001b[0;32m    339\u001b[0m \u001b[38;5;66;03m# Finally look for special method names\u001b[39;00m\n\u001b[0;32m    340\u001b[0m method \u001b[38;5;241m=\u001b[39m get_real_method(obj, \u001b[38;5;28mself\u001b[39m\u001b[38;5;241m.\u001b[39mprint_method)\n",
      "File \u001b[1;32m~\\AppData\\Local\\Packages\\PythonSoftwareFoundation.Python.3.9_qbz5n2kfra8p0\\LocalCache\\local-packages\\Python39\\site-packages\\IPython\\core\\pylabtools.py:152\u001b[0m, in \u001b[0;36mprint_figure\u001b[1;34m(fig, fmt, bbox_inches, base64, **kwargs)\u001b[0m\n\u001b[0;32m    149\u001b[0m     \u001b[38;5;28;01mfrom\u001b[39;00m \u001b[38;5;21;01mmatplotlib\u001b[39;00m\u001b[38;5;21;01m.\u001b[39;00m\u001b[38;5;21;01mbackend_bases\u001b[39;00m \u001b[38;5;28;01mimport\u001b[39;00m FigureCanvasBase\n\u001b[0;32m    150\u001b[0m     FigureCanvasBase(fig)\n\u001b[1;32m--> 152\u001b[0m fig\u001b[38;5;241m.\u001b[39mcanvas\u001b[38;5;241m.\u001b[39mprint_figure(bytes_io, \u001b[38;5;241m*\u001b[39m\u001b[38;5;241m*\u001b[39mkw)\n\u001b[0;32m    153\u001b[0m data \u001b[38;5;241m=\u001b[39m bytes_io\u001b[38;5;241m.\u001b[39mgetvalue()\n\u001b[0;32m    154\u001b[0m \u001b[38;5;28;01mif\u001b[39;00m fmt \u001b[38;5;241m==\u001b[39m \u001b[38;5;124m'\u001b[39m\u001b[38;5;124msvg\u001b[39m\u001b[38;5;124m'\u001b[39m:\n",
      "File \u001b[1;32m~\\AppData\\Local\\Packages\\PythonSoftwareFoundation.Python.3.9_qbz5n2kfra8p0\\LocalCache\\local-packages\\Python39\\site-packages\\matplotlib\\backend_bases.py:2314\u001b[0m, in \u001b[0;36mFigureCanvasBase.print_figure\u001b[1;34m(self, filename, dpi, facecolor, edgecolor, orientation, format, bbox_inches, pad_inches, bbox_extra_artists, backend, **kwargs)\u001b[0m\n\u001b[0;32m   2308\u001b[0m     renderer \u001b[38;5;241m=\u001b[39m _get_renderer(\n\u001b[0;32m   2309\u001b[0m         \u001b[38;5;28mself\u001b[39m\u001b[38;5;241m.\u001b[39mfigure,\n\u001b[0;32m   2310\u001b[0m         functools\u001b[38;5;241m.\u001b[39mpartial(\n\u001b[0;32m   2311\u001b[0m             print_method, orientation\u001b[38;5;241m=\u001b[39morientation)\n\u001b[0;32m   2312\u001b[0m     )\n\u001b[0;32m   2313\u001b[0m     \u001b[38;5;28;01mwith\u001b[39;00m \u001b[38;5;28mgetattr\u001b[39m(renderer, \u001b[38;5;124m\"\u001b[39m\u001b[38;5;124m_draw_disabled\u001b[39m\u001b[38;5;124m\"\u001b[39m, nullcontext)():\n\u001b[1;32m-> 2314\u001b[0m         \u001b[38;5;28;43mself\u001b[39;49m\u001b[38;5;241;43m.\u001b[39;49m\u001b[43mfigure\u001b[49m\u001b[38;5;241;43m.\u001b[39;49m\u001b[43mdraw\u001b[49m\u001b[43m(\u001b[49m\u001b[43mrenderer\u001b[49m\u001b[43m)\u001b[49m\n\u001b[0;32m   2316\u001b[0m \u001b[38;5;28;01mif\u001b[39;00m bbox_inches:\n\u001b[0;32m   2317\u001b[0m     \u001b[38;5;28;01mif\u001b[39;00m bbox_inches \u001b[38;5;241m==\u001b[39m \u001b[38;5;124m\"\u001b[39m\u001b[38;5;124mtight\u001b[39m\u001b[38;5;124m\"\u001b[39m:\n",
      "File \u001b[1;32m~\\AppData\\Local\\Packages\\PythonSoftwareFoundation.Python.3.9_qbz5n2kfra8p0\\LocalCache\\local-packages\\Python39\\site-packages\\matplotlib\\artist.py:74\u001b[0m, in \u001b[0;36m_finalize_rasterization.<locals>.draw_wrapper\u001b[1;34m(artist, renderer, *args, **kwargs)\u001b[0m\n\u001b[0;32m     72\u001b[0m \u001b[38;5;129m@wraps\u001b[39m(draw)\n\u001b[0;32m     73\u001b[0m \u001b[38;5;28;01mdef\u001b[39;00m \u001b[38;5;21mdraw_wrapper\u001b[39m(artist, renderer, \u001b[38;5;241m*\u001b[39margs, \u001b[38;5;241m*\u001b[39m\u001b[38;5;241m*\u001b[39mkwargs):\n\u001b[1;32m---> 74\u001b[0m     result \u001b[38;5;241m=\u001b[39m draw(artist, renderer, \u001b[38;5;241m*\u001b[39margs, \u001b[38;5;241m*\u001b[39m\u001b[38;5;241m*\u001b[39mkwargs)\n\u001b[0;32m     75\u001b[0m     \u001b[38;5;28;01mif\u001b[39;00m renderer\u001b[38;5;241m.\u001b[39m_rasterizing:\n\u001b[0;32m     76\u001b[0m         renderer\u001b[38;5;241m.\u001b[39mstop_rasterizing()\n",
      "File \u001b[1;32m~\\AppData\\Local\\Packages\\PythonSoftwareFoundation.Python.3.9_qbz5n2kfra8p0\\LocalCache\\local-packages\\Python39\\site-packages\\matplotlib\\artist.py:51\u001b[0m, in \u001b[0;36mallow_rasterization.<locals>.draw_wrapper\u001b[1;34m(artist, renderer)\u001b[0m\n\u001b[0;32m     48\u001b[0m     \u001b[38;5;28;01mif\u001b[39;00m artist\u001b[38;5;241m.\u001b[39mget_agg_filter() \u001b[38;5;129;01mis\u001b[39;00m \u001b[38;5;129;01mnot\u001b[39;00m \u001b[38;5;28;01mNone\u001b[39;00m:\n\u001b[0;32m     49\u001b[0m         renderer\u001b[38;5;241m.\u001b[39mstart_filter()\n\u001b[1;32m---> 51\u001b[0m     \u001b[38;5;28;01mreturn\u001b[39;00m \u001b[43mdraw\u001b[49m\u001b[43m(\u001b[49m\u001b[43martist\u001b[49m\u001b[43m,\u001b[49m\u001b[43m \u001b[49m\u001b[43mrenderer\u001b[49m\u001b[43m)\u001b[49m\n\u001b[0;32m     52\u001b[0m \u001b[38;5;28;01mfinally\u001b[39;00m:\n\u001b[0;32m     53\u001b[0m     \u001b[38;5;28;01mif\u001b[39;00m artist\u001b[38;5;241m.\u001b[39mget_agg_filter() \u001b[38;5;129;01mis\u001b[39;00m \u001b[38;5;129;01mnot\u001b[39;00m \u001b[38;5;28;01mNone\u001b[39;00m:\n",
      "File \u001b[1;32m~\\AppData\\Local\\Packages\\PythonSoftwareFoundation.Python.3.9_qbz5n2kfra8p0\\LocalCache\\local-packages\\Python39\\site-packages\\matplotlib\\figure.py:3071\u001b[0m, in \u001b[0;36mFigure.draw\u001b[1;34m(self, renderer)\u001b[0m\n\u001b[0;32m   3068\u001b[0m         \u001b[38;5;66;03m# ValueError can occur when resizing a window.\u001b[39;00m\n\u001b[0;32m   3070\u001b[0m \u001b[38;5;28mself\u001b[39m\u001b[38;5;241m.\u001b[39mpatch\u001b[38;5;241m.\u001b[39mdraw(renderer)\n\u001b[1;32m-> 3071\u001b[0m \u001b[43mmimage\u001b[49m\u001b[38;5;241;43m.\u001b[39;49m\u001b[43m_draw_list_compositing_images\u001b[49m\u001b[43m(\u001b[49m\n\u001b[0;32m   3072\u001b[0m \u001b[43m    \u001b[49m\u001b[43mrenderer\u001b[49m\u001b[43m,\u001b[49m\u001b[43m \u001b[49m\u001b[38;5;28;43mself\u001b[39;49m\u001b[43m,\u001b[49m\u001b[43m \u001b[49m\u001b[43martists\u001b[49m\u001b[43m,\u001b[49m\u001b[43m \u001b[49m\u001b[38;5;28;43mself\u001b[39;49m\u001b[38;5;241;43m.\u001b[39;49m\u001b[43msuppressComposite\u001b[49m\u001b[43m)\u001b[49m\n\u001b[0;32m   3074\u001b[0m \u001b[38;5;28;01mfor\u001b[39;00m sfig \u001b[38;5;129;01min\u001b[39;00m \u001b[38;5;28mself\u001b[39m\u001b[38;5;241m.\u001b[39msubfigs:\n\u001b[0;32m   3075\u001b[0m     sfig\u001b[38;5;241m.\u001b[39mdraw(renderer)\n",
      "File \u001b[1;32m~\\AppData\\Local\\Packages\\PythonSoftwareFoundation.Python.3.9_qbz5n2kfra8p0\\LocalCache\\local-packages\\Python39\\site-packages\\matplotlib\\image.py:131\u001b[0m, in \u001b[0;36m_draw_list_compositing_images\u001b[1;34m(renderer, parent, artists, suppress_composite)\u001b[0m\n\u001b[0;32m    129\u001b[0m \u001b[38;5;28;01mif\u001b[39;00m not_composite \u001b[38;5;129;01mor\u001b[39;00m \u001b[38;5;129;01mnot\u001b[39;00m has_images:\n\u001b[0;32m    130\u001b[0m     \u001b[38;5;28;01mfor\u001b[39;00m a \u001b[38;5;129;01min\u001b[39;00m artists:\n\u001b[1;32m--> 131\u001b[0m         \u001b[43ma\u001b[49m\u001b[38;5;241;43m.\u001b[39;49m\u001b[43mdraw\u001b[49m\u001b[43m(\u001b[49m\u001b[43mrenderer\u001b[49m\u001b[43m)\u001b[49m\n\u001b[0;32m    132\u001b[0m \u001b[38;5;28;01melse\u001b[39;00m:\n\u001b[0;32m    133\u001b[0m     \u001b[38;5;66;03m# Composite any adjacent images together\u001b[39;00m\n\u001b[0;32m    134\u001b[0m     image_group \u001b[38;5;241m=\u001b[39m []\n",
      "File \u001b[1;32m~\\AppData\\Local\\Packages\\PythonSoftwareFoundation.Python.3.9_qbz5n2kfra8p0\\LocalCache\\local-packages\\Python39\\site-packages\\matplotlib\\artist.py:51\u001b[0m, in \u001b[0;36mallow_rasterization.<locals>.draw_wrapper\u001b[1;34m(artist, renderer)\u001b[0m\n\u001b[0;32m     48\u001b[0m     \u001b[38;5;28;01mif\u001b[39;00m artist\u001b[38;5;241m.\u001b[39mget_agg_filter() \u001b[38;5;129;01mis\u001b[39;00m \u001b[38;5;129;01mnot\u001b[39;00m \u001b[38;5;28;01mNone\u001b[39;00m:\n\u001b[0;32m     49\u001b[0m         renderer\u001b[38;5;241m.\u001b[39mstart_filter()\n\u001b[1;32m---> 51\u001b[0m     \u001b[38;5;28;01mreturn\u001b[39;00m \u001b[43mdraw\u001b[49m\u001b[43m(\u001b[49m\u001b[43martist\u001b[49m\u001b[43m,\u001b[49m\u001b[43m \u001b[49m\u001b[43mrenderer\u001b[49m\u001b[43m)\u001b[49m\n\u001b[0;32m     52\u001b[0m \u001b[38;5;28;01mfinally\u001b[39;00m:\n\u001b[0;32m     53\u001b[0m     \u001b[38;5;28;01mif\u001b[39;00m artist\u001b[38;5;241m.\u001b[39mget_agg_filter() \u001b[38;5;129;01mis\u001b[39;00m \u001b[38;5;129;01mnot\u001b[39;00m \u001b[38;5;28;01mNone\u001b[39;00m:\n",
      "File \u001b[1;32m~\\AppData\\Local\\Packages\\PythonSoftwareFoundation.Python.3.9_qbz5n2kfra8p0\\LocalCache\\local-packages\\Python39\\site-packages\\matplotlib\\axes\\_base.py:3107\u001b[0m, in \u001b[0;36m_AxesBase.draw\u001b[1;34m(self, renderer)\u001b[0m\n\u001b[0;32m   3104\u001b[0m         a\u001b[38;5;241m.\u001b[39mdraw(renderer)\n\u001b[0;32m   3105\u001b[0m     renderer\u001b[38;5;241m.\u001b[39mstop_rasterizing()\n\u001b[1;32m-> 3107\u001b[0m \u001b[43mmimage\u001b[49m\u001b[38;5;241;43m.\u001b[39;49m\u001b[43m_draw_list_compositing_images\u001b[49m\u001b[43m(\u001b[49m\n\u001b[0;32m   3108\u001b[0m \u001b[43m    \u001b[49m\u001b[43mrenderer\u001b[49m\u001b[43m,\u001b[49m\u001b[43m \u001b[49m\u001b[38;5;28;43mself\u001b[39;49m\u001b[43m,\u001b[49m\u001b[43m \u001b[49m\u001b[43martists\u001b[49m\u001b[43m,\u001b[49m\u001b[43m \u001b[49m\u001b[38;5;28;43mself\u001b[39;49m\u001b[38;5;241;43m.\u001b[39;49m\u001b[43mfigure\u001b[49m\u001b[38;5;241;43m.\u001b[39;49m\u001b[43msuppressComposite\u001b[49m\u001b[43m)\u001b[49m\n\u001b[0;32m   3110\u001b[0m renderer\u001b[38;5;241m.\u001b[39mclose_group(\u001b[38;5;124m'\u001b[39m\u001b[38;5;124maxes\u001b[39m\u001b[38;5;124m'\u001b[39m)\n\u001b[0;32m   3111\u001b[0m \u001b[38;5;28mself\u001b[39m\u001b[38;5;241m.\u001b[39mstale \u001b[38;5;241m=\u001b[39m \u001b[38;5;28;01mFalse\u001b[39;00m\n",
      "File \u001b[1;32m~\\AppData\\Local\\Packages\\PythonSoftwareFoundation.Python.3.9_qbz5n2kfra8p0\\LocalCache\\local-packages\\Python39\\site-packages\\matplotlib\\image.py:131\u001b[0m, in \u001b[0;36m_draw_list_compositing_images\u001b[1;34m(renderer, parent, artists, suppress_composite)\u001b[0m\n\u001b[0;32m    129\u001b[0m \u001b[38;5;28;01mif\u001b[39;00m not_composite \u001b[38;5;129;01mor\u001b[39;00m \u001b[38;5;129;01mnot\u001b[39;00m has_images:\n\u001b[0;32m    130\u001b[0m     \u001b[38;5;28;01mfor\u001b[39;00m a \u001b[38;5;129;01min\u001b[39;00m artists:\n\u001b[1;32m--> 131\u001b[0m         \u001b[43ma\u001b[49m\u001b[38;5;241;43m.\u001b[39;49m\u001b[43mdraw\u001b[49m\u001b[43m(\u001b[49m\u001b[43mrenderer\u001b[49m\u001b[43m)\u001b[49m\n\u001b[0;32m    132\u001b[0m \u001b[38;5;28;01melse\u001b[39;00m:\n\u001b[0;32m    133\u001b[0m     \u001b[38;5;66;03m# Composite any adjacent images together\u001b[39;00m\n\u001b[0;32m    134\u001b[0m     image_group \u001b[38;5;241m=\u001b[39m []\n",
      "File \u001b[1;32m~\\AppData\\Local\\Packages\\PythonSoftwareFoundation.Python.3.9_qbz5n2kfra8p0\\LocalCache\\local-packages\\Python39\\site-packages\\matplotlib\\artist.py:51\u001b[0m, in \u001b[0;36mallow_rasterization.<locals>.draw_wrapper\u001b[1;34m(artist, renderer)\u001b[0m\n\u001b[0;32m     48\u001b[0m     \u001b[38;5;28;01mif\u001b[39;00m artist\u001b[38;5;241m.\u001b[39mget_agg_filter() \u001b[38;5;129;01mis\u001b[39;00m \u001b[38;5;129;01mnot\u001b[39;00m \u001b[38;5;28;01mNone\u001b[39;00m:\n\u001b[0;32m     49\u001b[0m         renderer\u001b[38;5;241m.\u001b[39mstart_filter()\n\u001b[1;32m---> 51\u001b[0m     \u001b[38;5;28;01mreturn\u001b[39;00m \u001b[43mdraw\u001b[49m\u001b[43m(\u001b[49m\u001b[43martist\u001b[49m\u001b[43m,\u001b[49m\u001b[43m \u001b[49m\u001b[43mrenderer\u001b[49m\u001b[43m)\u001b[49m\n\u001b[0;32m     52\u001b[0m \u001b[38;5;28;01mfinally\u001b[39;00m:\n\u001b[0;32m     53\u001b[0m     \u001b[38;5;28;01mif\u001b[39;00m artist\u001b[38;5;241m.\u001b[39mget_agg_filter() \u001b[38;5;129;01mis\u001b[39;00m \u001b[38;5;129;01mnot\u001b[39;00m \u001b[38;5;28;01mNone\u001b[39;00m:\n",
      "File \u001b[1;32m~\\AppData\\Local\\Packages\\PythonSoftwareFoundation.Python.3.9_qbz5n2kfra8p0\\LocalCache\\local-packages\\Python39\\site-packages\\matplotlib\\axis.py:1316\u001b[0m, in \u001b[0;36mAxis.draw\u001b[1;34m(self, renderer, *args, **kwargs)\u001b[0m\n\u001b[0;32m   1310\u001b[0m \u001b[38;5;66;03m# Scale up the axis label box to also find the neighbors, not just the\u001b[39;00m\n\u001b[0;32m   1311\u001b[0m \u001b[38;5;66;03m# tick labels that actually overlap.  We need a *copy* of the axis\u001b[39;00m\n\u001b[0;32m   1312\u001b[0m \u001b[38;5;66;03m# label box because we don't want to scale the actual bbox.\u001b[39;00m\n\u001b[0;32m   1314\u001b[0m \u001b[38;5;28mself\u001b[39m\u001b[38;5;241m.\u001b[39m_update_label_position(renderer)\n\u001b[1;32m-> 1316\u001b[0m \u001b[38;5;28;43mself\u001b[39;49m\u001b[38;5;241;43m.\u001b[39;49m\u001b[43mlabel\u001b[49m\u001b[38;5;241;43m.\u001b[39;49m\u001b[43mdraw\u001b[49m\u001b[43m(\u001b[49m\u001b[43mrenderer\u001b[49m\u001b[43m)\u001b[49m\n\u001b[0;32m   1318\u001b[0m \u001b[38;5;28mself\u001b[39m\u001b[38;5;241m.\u001b[39m_update_offset_text_position(tlb1, tlb2)\n\u001b[0;32m   1319\u001b[0m \u001b[38;5;28mself\u001b[39m\u001b[38;5;241m.\u001b[39moffsetText\u001b[38;5;241m.\u001b[39mset_text(\u001b[38;5;28mself\u001b[39m\u001b[38;5;241m.\u001b[39mmajor\u001b[38;5;241m.\u001b[39mformatter\u001b[38;5;241m.\u001b[39mget_offset())\n",
      "File \u001b[1;32m~\\AppData\\Local\\Packages\\PythonSoftwareFoundation.Python.3.9_qbz5n2kfra8p0\\LocalCache\\local-packages\\Python39\\site-packages\\matplotlib\\artist.py:51\u001b[0m, in \u001b[0;36mallow_rasterization.<locals>.draw_wrapper\u001b[1;34m(artist, renderer)\u001b[0m\n\u001b[0;32m     48\u001b[0m     \u001b[38;5;28;01mif\u001b[39;00m artist\u001b[38;5;241m.\u001b[39mget_agg_filter() \u001b[38;5;129;01mis\u001b[39;00m \u001b[38;5;129;01mnot\u001b[39;00m \u001b[38;5;28;01mNone\u001b[39;00m:\n\u001b[0;32m     49\u001b[0m         renderer\u001b[38;5;241m.\u001b[39mstart_filter()\n\u001b[1;32m---> 51\u001b[0m     \u001b[38;5;28;01mreturn\u001b[39;00m \u001b[43mdraw\u001b[49m\u001b[43m(\u001b[49m\u001b[43martist\u001b[49m\u001b[43m,\u001b[49m\u001b[43m \u001b[49m\u001b[43mrenderer\u001b[49m\u001b[43m)\u001b[49m\n\u001b[0;32m     52\u001b[0m \u001b[38;5;28;01mfinally\u001b[39;00m:\n\u001b[0;32m     53\u001b[0m     \u001b[38;5;28;01mif\u001b[39;00m artist\u001b[38;5;241m.\u001b[39mget_agg_filter() \u001b[38;5;129;01mis\u001b[39;00m \u001b[38;5;129;01mnot\u001b[39;00m \u001b[38;5;28;01mNone\u001b[39;00m:\n",
      "File \u001b[1;32m~\\AppData\\Local\\Packages\\PythonSoftwareFoundation.Python.3.9_qbz5n2kfra8p0\\LocalCache\\local-packages\\Python39\\site-packages\\matplotlib\\text.py:687\u001b[0m, in \u001b[0;36mText.draw\u001b[1;34m(self, renderer)\u001b[0m\n\u001b[0;32m    684\u001b[0m renderer\u001b[38;5;241m.\u001b[39mopen_group(\u001b[38;5;124m'\u001b[39m\u001b[38;5;124mtext\u001b[39m\u001b[38;5;124m'\u001b[39m, \u001b[38;5;28mself\u001b[39m\u001b[38;5;241m.\u001b[39mget_gid())\n\u001b[0;32m    686\u001b[0m \u001b[38;5;28;01mwith\u001b[39;00m \u001b[38;5;28mself\u001b[39m\u001b[38;5;241m.\u001b[39m_cm_set(text\u001b[38;5;241m=\u001b[39m\u001b[38;5;28mself\u001b[39m\u001b[38;5;241m.\u001b[39m_get_wrapped_text()):\n\u001b[1;32m--> 687\u001b[0m     bbox, info, descent \u001b[38;5;241m=\u001b[39m \u001b[38;5;28;43mself\u001b[39;49m\u001b[38;5;241;43m.\u001b[39;49m\u001b[43m_get_layout\u001b[49m\u001b[43m(\u001b[49m\u001b[43mrenderer\u001b[49m\u001b[43m)\u001b[49m\n\u001b[0;32m    688\u001b[0m     trans \u001b[38;5;241m=\u001b[39m \u001b[38;5;28mself\u001b[39m\u001b[38;5;241m.\u001b[39mget_transform()\n\u001b[0;32m    690\u001b[0m     \u001b[38;5;66;03m# don't use self.get_position here, which refers to text\u001b[39;00m\n\u001b[0;32m    691\u001b[0m     \u001b[38;5;66;03m# position in Text:\u001b[39;00m\n",
      "File \u001b[1;32m~\\AppData\\Local\\Packages\\PythonSoftwareFoundation.Python.3.9_qbz5n2kfra8p0\\LocalCache\\local-packages\\Python39\\site-packages\\matplotlib\\text.py:321\u001b[0m, in \u001b[0;36mText._get_layout\u001b[1;34m(self, renderer)\u001b[0m\n\u001b[0;32m    319\u001b[0m clean_line, ismath \u001b[38;5;241m=\u001b[39m \u001b[38;5;28mself\u001b[39m\u001b[38;5;241m.\u001b[39m_preprocess_math(line)\n\u001b[0;32m    320\u001b[0m \u001b[38;5;28;01mif\u001b[39;00m clean_line:\n\u001b[1;32m--> 321\u001b[0m     w, h, d \u001b[38;5;241m=\u001b[39m \u001b[43m_get_text_metrics_with_cache\u001b[49m\u001b[43m(\u001b[49m\n\u001b[0;32m    322\u001b[0m \u001b[43m        \u001b[49m\u001b[43mrenderer\u001b[49m\u001b[43m,\u001b[49m\u001b[43m \u001b[49m\u001b[43mclean_line\u001b[49m\u001b[43m,\u001b[49m\u001b[43m \u001b[49m\u001b[38;5;28;43mself\u001b[39;49m\u001b[38;5;241;43m.\u001b[39;49m\u001b[43m_fontproperties\u001b[49m\u001b[43m,\u001b[49m\n\u001b[0;32m    323\u001b[0m \u001b[43m        \u001b[49m\u001b[43mismath\u001b[49m\u001b[38;5;241;43m=\u001b[39;49m\u001b[43mismath\u001b[49m\u001b[43m,\u001b[49m\u001b[43m \u001b[49m\u001b[43mdpi\u001b[49m\u001b[38;5;241;43m=\u001b[39;49m\u001b[38;5;28;43mself\u001b[39;49m\u001b[38;5;241;43m.\u001b[39;49m\u001b[43mfigure\u001b[49m\u001b[38;5;241;43m.\u001b[39;49m\u001b[43mdpi\u001b[49m\u001b[43m)\u001b[49m\n\u001b[0;32m    324\u001b[0m \u001b[38;5;28;01melse\u001b[39;00m:\n\u001b[0;32m    325\u001b[0m     w \u001b[38;5;241m=\u001b[39m h \u001b[38;5;241m=\u001b[39m d \u001b[38;5;241m=\u001b[39m \u001b[38;5;241m0\u001b[39m\n",
      "File \u001b[1;32m~\\AppData\\Local\\Packages\\PythonSoftwareFoundation.Python.3.9_qbz5n2kfra8p0\\LocalCache\\local-packages\\Python39\\site-packages\\matplotlib\\text.py:97\u001b[0m, in \u001b[0;36m_get_text_metrics_with_cache\u001b[1;34m(renderer, text, fontprop, ismath, dpi)\u001b[0m\n\u001b[0;32m     94\u001b[0m \u001b[38;5;124;03m\"\"\"Call ``renderer.get_text_width_height_descent``, caching the results.\"\"\"\u001b[39;00m\n\u001b[0;32m     95\u001b[0m \u001b[38;5;66;03m# Cached based on a copy of fontprop so that later in-place mutations of\u001b[39;00m\n\u001b[0;32m     96\u001b[0m \u001b[38;5;66;03m# the passed-in argument do not mess up the cache.\u001b[39;00m\n\u001b[1;32m---> 97\u001b[0m \u001b[38;5;28;01mreturn\u001b[39;00m \u001b[43m_get_text_metrics_with_cache_impl\u001b[49m\u001b[43m(\u001b[49m\n\u001b[0;32m     98\u001b[0m \u001b[43m    \u001b[49m\u001b[43mweakref\u001b[49m\u001b[38;5;241;43m.\u001b[39;49m\u001b[43mref\u001b[49m\u001b[43m(\u001b[49m\u001b[43mrenderer\u001b[49m\u001b[43m)\u001b[49m\u001b[43m,\u001b[49m\u001b[43m \u001b[49m\u001b[43mtext\u001b[49m\u001b[43m,\u001b[49m\u001b[43m \u001b[49m\u001b[43mfontprop\u001b[49m\u001b[38;5;241;43m.\u001b[39;49m\u001b[43mcopy\u001b[49m\u001b[43m(\u001b[49m\u001b[43m)\u001b[49m\u001b[43m,\u001b[49m\u001b[43m \u001b[49m\u001b[43mismath\u001b[49m\u001b[43m,\u001b[49m\u001b[43m \u001b[49m\u001b[43mdpi\u001b[49m\u001b[43m)\u001b[49m\n",
      "File \u001b[1;32m~\\AppData\\Local\\Packages\\PythonSoftwareFoundation.Python.3.9_qbz5n2kfra8p0\\LocalCache\\local-packages\\Python39\\site-packages\\matplotlib\\text.py:105\u001b[0m, in \u001b[0;36m_get_text_metrics_with_cache_impl\u001b[1;34m(renderer_ref, text, fontprop, ismath, dpi)\u001b[0m\n\u001b[0;32m    101\u001b[0m \u001b[38;5;129m@functools\u001b[39m\u001b[38;5;241m.\u001b[39mlru_cache(\u001b[38;5;241m4096\u001b[39m)\n\u001b[0;32m    102\u001b[0m \u001b[38;5;28;01mdef\u001b[39;00m \u001b[38;5;21m_get_text_metrics_with_cache_impl\u001b[39m(\n\u001b[0;32m    103\u001b[0m         renderer_ref, text, fontprop, ismath, dpi):\n\u001b[0;32m    104\u001b[0m     \u001b[38;5;66;03m# dpi is unused, but participates in cache invalidation (via the renderer).\u001b[39;00m\n\u001b[1;32m--> 105\u001b[0m     \u001b[38;5;28;01mreturn\u001b[39;00m \u001b[43mrenderer_ref\u001b[49m\u001b[43m(\u001b[49m\u001b[43m)\u001b[49m\u001b[38;5;241;43m.\u001b[39;49m\u001b[43mget_text_width_height_descent\u001b[49m\u001b[43m(\u001b[49m\u001b[43mtext\u001b[49m\u001b[43m,\u001b[49m\u001b[43m \u001b[49m\u001b[43mfontprop\u001b[49m\u001b[43m,\u001b[49m\u001b[43m \u001b[49m\u001b[43mismath\u001b[49m\u001b[43m)\u001b[49m\n",
      "File \u001b[1;32m~\\AppData\\Local\\Packages\\PythonSoftwareFoundation.Python.3.9_qbz5n2kfra8p0\\LocalCache\\local-packages\\Python39\\site-packages\\matplotlib\\backends\\backend_agg.py:235\u001b[0m, in \u001b[0;36mRendererAgg.get_text_width_height_descent\u001b[1;34m(self, s, prop, ismath)\u001b[0m\n\u001b[0;32m    231\u001b[0m     \u001b[38;5;28;01mreturn\u001b[39;00m w, h, d\n\u001b[0;32m    233\u001b[0m \u001b[38;5;28;01mif\u001b[39;00m ismath:\n\u001b[0;32m    234\u001b[0m     ox, oy, width, height, descent, font_image \u001b[38;5;241m=\u001b[39m \\\n\u001b[1;32m--> 235\u001b[0m         \u001b[38;5;28;43mself\u001b[39;49m\u001b[38;5;241;43m.\u001b[39;49m\u001b[43mmathtext_parser\u001b[49m\u001b[38;5;241;43m.\u001b[39;49m\u001b[43mparse\u001b[49m\u001b[43m(\u001b[49m\u001b[43ms\u001b[49m\u001b[43m,\u001b[49m\u001b[43m \u001b[49m\u001b[38;5;28;43mself\u001b[39;49m\u001b[38;5;241;43m.\u001b[39;49m\u001b[43mdpi\u001b[49m\u001b[43m,\u001b[49m\u001b[43m \u001b[49m\u001b[43mprop\u001b[49m\u001b[43m)\u001b[49m\n\u001b[0;32m    236\u001b[0m     \u001b[38;5;28;01mreturn\u001b[39;00m width, height, descent\n\u001b[0;32m    238\u001b[0m font \u001b[38;5;241m=\u001b[39m \u001b[38;5;28mself\u001b[39m\u001b[38;5;241m.\u001b[39m_prepare_font(prop)\n",
      "File \u001b[1;32m~\\AppData\\Local\\Packages\\PythonSoftwareFoundation.Python.3.9_qbz5n2kfra8p0\\LocalCache\\local-packages\\Python39\\site-packages\\matplotlib\\mathtext.py:226\u001b[0m, in \u001b[0;36mMathTextParser.parse\u001b[1;34m(self, s, dpi, prop)\u001b[0m\n\u001b[0;32m    222\u001b[0m \u001b[38;5;66;03m# lru_cache can't decorate parse() directly because prop\u001b[39;00m\n\u001b[0;32m    223\u001b[0m \u001b[38;5;66;03m# is mutable; key the cache using an internal copy (see\u001b[39;00m\n\u001b[0;32m    224\u001b[0m \u001b[38;5;66;03m# text._get_text_metrics_with_cache for a similar case).\u001b[39;00m\n\u001b[0;32m    225\u001b[0m prop \u001b[38;5;241m=\u001b[39m prop\u001b[38;5;241m.\u001b[39mcopy() \u001b[38;5;28;01mif\u001b[39;00m prop \u001b[38;5;129;01mis\u001b[39;00m \u001b[38;5;129;01mnot\u001b[39;00m \u001b[38;5;28;01mNone\u001b[39;00m \u001b[38;5;28;01melse\u001b[39;00m \u001b[38;5;28;01mNone\u001b[39;00m\n\u001b[1;32m--> 226\u001b[0m \u001b[38;5;28;01mreturn\u001b[39;00m \u001b[38;5;28;43mself\u001b[39;49m\u001b[38;5;241;43m.\u001b[39;49m\u001b[43m_parse_cached\u001b[49m\u001b[43m(\u001b[49m\u001b[43ms\u001b[49m\u001b[43m,\u001b[49m\u001b[43m \u001b[49m\u001b[43mdpi\u001b[49m\u001b[43m,\u001b[49m\u001b[43m \u001b[49m\u001b[43mprop\u001b[49m\u001b[43m)\u001b[49m\n",
      "File \u001b[1;32m~\\AppData\\Local\\Packages\\PythonSoftwareFoundation.Python.3.9_qbz5n2kfra8p0\\LocalCache\\local-packages\\Python39\\site-packages\\matplotlib\\mathtext.py:247\u001b[0m, in \u001b[0;36mMathTextParser._parse_cached\u001b[1;34m(self, s, dpi, prop)\u001b[0m\n\u001b[0;32m    244\u001b[0m \u001b[38;5;28;01mif\u001b[39;00m \u001b[38;5;28mself\u001b[39m\u001b[38;5;241m.\u001b[39m_parser \u001b[38;5;129;01mis\u001b[39;00m \u001b[38;5;28;01mNone\u001b[39;00m:  \u001b[38;5;66;03m# Cache the parser globally.\u001b[39;00m\n\u001b[0;32m    245\u001b[0m     \u001b[38;5;28mself\u001b[39m\u001b[38;5;241m.\u001b[39m\u001b[38;5;18m__class__\u001b[39m\u001b[38;5;241m.\u001b[39m_parser \u001b[38;5;241m=\u001b[39m _mathtext\u001b[38;5;241m.\u001b[39mParser()\n\u001b[1;32m--> 247\u001b[0m box \u001b[38;5;241m=\u001b[39m \u001b[38;5;28;43mself\u001b[39;49m\u001b[38;5;241;43m.\u001b[39;49m\u001b[43m_parser\u001b[49m\u001b[38;5;241;43m.\u001b[39;49m\u001b[43mparse\u001b[49m\u001b[43m(\u001b[49m\u001b[43ms\u001b[49m\u001b[43m,\u001b[49m\u001b[43m \u001b[49m\u001b[43mfontset\u001b[49m\u001b[43m,\u001b[49m\u001b[43m \u001b[49m\u001b[43mfontsize\u001b[49m\u001b[43m,\u001b[49m\u001b[43m \u001b[49m\u001b[43mdpi\u001b[49m\u001b[43m)\u001b[49m\n\u001b[0;32m    248\u001b[0m output \u001b[38;5;241m=\u001b[39m _mathtext\u001b[38;5;241m.\u001b[39mship(box)\n\u001b[0;32m    249\u001b[0m \u001b[38;5;28;01mif\u001b[39;00m \u001b[38;5;28mself\u001b[39m\u001b[38;5;241m.\u001b[39m_output_type \u001b[38;5;241m==\u001b[39m \u001b[38;5;124m\"\u001b[39m\u001b[38;5;124mvector\u001b[39m\u001b[38;5;124m\"\u001b[39m:\n",
      "File \u001b[1;32m~\\AppData\\Local\\Packages\\PythonSoftwareFoundation.Python.3.9_qbz5n2kfra8p0\\LocalCache\\local-packages\\Python39\\site-packages\\matplotlib\\_mathtext.py:1985\u001b[0m, in \u001b[0;36mParser.parse\u001b[1;34m(self, s, fonts_object, fontsize, dpi)\u001b[0m\n\u001b[0;32m   1983\u001b[0m     result \u001b[38;5;241m=\u001b[39m \u001b[38;5;28mself\u001b[39m\u001b[38;5;241m.\u001b[39m_expression\u001b[38;5;241m.\u001b[39mparseString(s)\n\u001b[0;32m   1984\u001b[0m \u001b[38;5;28;01mexcept\u001b[39;00m ParseBaseException \u001b[38;5;28;01mas\u001b[39;00m err:\n\u001b[1;32m-> 1985\u001b[0m     \u001b[38;5;28;01mraise\u001b[39;00m \u001b[38;5;167;01mValueError\u001b[39;00m(\u001b[38;5;124m\"\u001b[39m\u001b[38;5;130;01m\\n\u001b[39;00m\u001b[38;5;124m\"\u001b[39m\u001b[38;5;241m.\u001b[39mjoin([\u001b[38;5;124m\"\u001b[39m\u001b[38;5;124m\"\u001b[39m,\n\u001b[0;32m   1986\u001b[0m                                 err\u001b[38;5;241m.\u001b[39mline,\n\u001b[0;32m   1987\u001b[0m                                 \u001b[38;5;124m\"\u001b[39m\u001b[38;5;124m \u001b[39m\u001b[38;5;124m\"\u001b[39m \u001b[38;5;241m*\u001b[39m (err\u001b[38;5;241m.\u001b[39mcolumn \u001b[38;5;241m-\u001b[39m \u001b[38;5;241m1\u001b[39m) \u001b[38;5;241m+\u001b[39m \u001b[38;5;124m\"\u001b[39m\u001b[38;5;124m^\u001b[39m\u001b[38;5;124m\"\u001b[39m,\n\u001b[0;32m   1988\u001b[0m                                 \u001b[38;5;28mstr\u001b[39m(err)])) \u001b[38;5;28;01mfrom\u001b[39;00m \u001b[38;5;21;01merr\u001b[39;00m\n\u001b[0;32m   1989\u001b[0m \u001b[38;5;28mself\u001b[39m\u001b[38;5;241m.\u001b[39m_state_stack \u001b[38;5;241m=\u001b[39m \u001b[38;5;28;01mNone\u001b[39;00m\n\u001b[0;32m   1990\u001b[0m \u001b[38;5;28mself\u001b[39m\u001b[38;5;241m.\u001b[39m_in_subscript_or_superscript \u001b[38;5;241m=\u001b[39m \u001b[38;5;28;01mFalse\u001b[39;00m\n",
      "\u001b[1;31mValueError\u001b[0m: \n\\C\n^\nUnknown symbol: \\C, found '\\'  (at char 0), (line:1, col:1)"
     ]
    },
    {
     "data": {
      "text/plain": [
       "<Figure size 640x480 with 1 Axes>"
      ]
     },
     "metadata": {},
     "output_type": "display_data"
    }
   ],
   "source": [
    "X, y = leagueIF, leagueOF\n",
    "\n",
    "param_range = np.logspace(-6, -1, 5)\n",
    "train_scores, test_scores = validation_curve(\n",
    "    league_svm,\n",
    "    X,\n",
    "    y,\n",
    "    param_name=\"C\",\n",
    "    param_range=param_range,\n",
    "    scoring=\"accuracy\",\n",
    "    n_jobs=2,\n",
    ")\n",
    "train_scores_mean = np.mean(train_scores, axis=1)\n",
    "train_scores_std = np.std(train_scores, axis=1)\n",
    "test_scores_mean = np.mean(test_scores, axis=1)\n",
    "test_scores_std = np.std(test_scores, axis=1)\n",
    "\n",
    "pyplot.title(\"Validation Curve\")\n",
    "pyplot.xlabel(r\"$\\C$\")\n",
    "pyplot.ylabel(\"Accuracy\")\n",
    "pyplot.ylim(0.0, 1.1)\n",
    "lw = 2\n",
    "pyplot.semilogx(\n",
    "    param_range, train_scores_mean, label=\"Training score\", color=\"darkorange\", lw=lw\n",
    ")\n",
    "pyplot.fill_between(\n",
    "    param_range,\n",
    "    train_scores_mean - train_scores_std,\n",
    "    train_scores_mean + train_scores_std,\n",
    "    alpha=0.2,\n",
    "    color=\"darkorange\",\n",
    "    lw=lw,\n",
    ")\n",
    "pyplot.semilogx(\n",
    "    param_range, test_scores_mean, label=\"Cross-validation score\", color=\"navy\", lw=lw\n",
    ")\n",
    "pyplot.fill_between(\n",
    "    param_range,\n",
    "    test_scores_mean - test_scores_std,\n",
    "    test_scores_mean + test_scores_std,\n",
    "    alpha=0.2,\n",
    "    color=\"navy\",\n",
    "    lw=lw,\n",
    ")\n",
    "pyplot.legend(loc=\"best\")\n",
    "pyplot.show()"
   ]
  },
  {
   "cell_type": "markdown",
   "id": "c31943de",
   "metadata": {},
   "source": [
    "## validation curve"
   ]
  },
  {
   "cell_type": "code",
   "execution_count": 18,
   "id": "e51676d6",
   "metadata": {},
   "outputs": [
    {
     "ename": "ValueError",
     "evalue": "Invalid parameter 'Kernel' for estimator SVC(gamma=0.001). Valid parameters are: ['C', 'break_ties', 'cache_size', 'class_weight', 'coef0', 'decision_function_shape', 'degree', 'gamma', 'kernel', 'max_iter', 'probability', 'random_state', 'shrinking', 'tol', 'verbose'].",
     "output_type": "error",
     "traceback": [
      "\u001b[1;31m---------------------------------------------------------------------------\u001b[0m",
      "\u001b[1;31m_RemoteTraceback\u001b[0m                          Traceback (most recent call last)",
      "\u001b[1;31m_RemoteTraceback\u001b[0m: \n\"\"\"\nTraceback (most recent call last):\n  File \"C:\\Users\\ishyg\\AppData\\Local\\Packages\\PythonSoftwareFoundation.Python.3.9_qbz5n2kfra8p0\\LocalCache\\local-packages\\Python39\\site-packages\\joblib\\externals\\loky\\process_executor.py\", line 428, in _process_worker\n    r = call_item()\n  File \"C:\\Users\\ishyg\\AppData\\Local\\Packages\\PythonSoftwareFoundation.Python.3.9_qbz5n2kfra8p0\\LocalCache\\local-packages\\Python39\\site-packages\\joblib\\externals\\loky\\process_executor.py\", line 275, in __call__\n    return self.fn(*self.args, **self.kwargs)\n  File \"C:\\Users\\ishyg\\AppData\\Local\\Packages\\PythonSoftwareFoundation.Python.3.9_qbz5n2kfra8p0\\LocalCache\\local-packages\\Python39\\site-packages\\joblib\\_parallel_backends.py\", line 620, in __call__\n    return self.func(*args, **kwargs)\n  File \"C:\\Users\\ishyg\\AppData\\Local\\Packages\\PythonSoftwareFoundation.Python.3.9_qbz5n2kfra8p0\\LocalCache\\local-packages\\Python39\\site-packages\\joblib\\parallel.py\", line 288, in __call__\n    return [func(*args, **kwargs)\n  File \"C:\\Users\\ishyg\\AppData\\Local\\Packages\\PythonSoftwareFoundation.Python.3.9_qbz5n2kfra8p0\\LocalCache\\local-packages\\Python39\\site-packages\\joblib\\parallel.py\", line 288, in <listcomp>\n    return [func(*args, **kwargs)\n  File \"C:\\Users\\ishyg\\AppData\\Local\\Packages\\PythonSoftwareFoundation.Python.3.9_qbz5n2kfra8p0\\LocalCache\\local-packages\\Python39\\site-packages\\sklearn\\utils\\parallel.py\", line 123, in __call__\n    return self.function(*args, **kwargs)\n  File \"C:\\Users\\ishyg\\AppData\\Local\\Packages\\PythonSoftwareFoundation.Python.3.9_qbz5n2kfra8p0\\LocalCache\\local-packages\\Python39\\site-packages\\sklearn\\model_selection\\_validation.py\", line 674, in _fit_and_score\n    estimator = estimator.set_params(**cloned_parameters)\n  File \"C:\\Users\\ishyg\\AppData\\Local\\Packages\\PythonSoftwareFoundation.Python.3.9_qbz5n2kfra8p0\\LocalCache\\local-packages\\Python39\\site-packages\\sklearn\\base.py\", line 205, in set_params\n    raise ValueError(\nValueError: Invalid parameter 'Kernel' for estimator SVC(gamma=0.001). Valid parameters are: ['C', 'break_ties', 'cache_size', 'class_weight', 'coef0', 'decision_function_shape', 'degree', 'gamma', 'kernel', 'max_iter', 'probability', 'random_state', 'shrinking', 'tol', 'verbose'].\n\"\"\"",
      "\nThe above exception was the direct cause of the following exception:\n",
      "\u001b[1;31mValueError\u001b[0m                                Traceback (most recent call last)",
      "Cell \u001b[1;32mIn [18], line 4\u001b[0m\n\u001b[0;32m      1\u001b[0m X, y \u001b[38;5;241m=\u001b[39m leagueIF, leagueOF\n\u001b[0;32m      3\u001b[0m param_range \u001b[38;5;241m=\u001b[39m np\u001b[38;5;241m.\u001b[39mlogspace(\u001b[38;5;241m-\u001b[39m\u001b[38;5;241m6\u001b[39m, \u001b[38;5;241m-\u001b[39m\u001b[38;5;241m1\u001b[39m, \u001b[38;5;241m5\u001b[39m)\n\u001b[1;32m----> 4\u001b[0m train_scores, test_scores \u001b[38;5;241m=\u001b[39m \u001b[43mvalidation_curve\u001b[49m\u001b[43m(\u001b[49m\n\u001b[0;32m      5\u001b[0m \u001b[43m    \u001b[49m\u001b[43mleague_svm\u001b[49m\u001b[43m,\u001b[49m\n\u001b[0;32m      6\u001b[0m \u001b[43m    \u001b[49m\u001b[43mX\u001b[49m\u001b[43m,\u001b[49m\n\u001b[0;32m      7\u001b[0m \u001b[43m    \u001b[49m\u001b[43my\u001b[49m\u001b[43m,\u001b[49m\n\u001b[0;32m      8\u001b[0m \u001b[43m    \u001b[49m\u001b[43mparam_name\u001b[49m\u001b[38;5;241;43m=\u001b[39;49m\u001b[38;5;124;43m\"\u001b[39;49m\u001b[38;5;124;43mKernel\u001b[39;49m\u001b[38;5;124;43m\"\u001b[39;49m\u001b[43m,\u001b[49m\n\u001b[0;32m      9\u001b[0m \u001b[43m    \u001b[49m\u001b[43mparam_range\u001b[49m\u001b[38;5;241;43m=\u001b[39;49m\u001b[43mparam_range\u001b[49m\u001b[43m,\u001b[49m\n\u001b[0;32m     10\u001b[0m \u001b[43m    \u001b[49m\u001b[43mscoring\u001b[49m\u001b[38;5;241;43m=\u001b[39;49m\u001b[38;5;124;43m\"\u001b[39;49m\u001b[38;5;124;43maccuracy\u001b[39;49m\u001b[38;5;124;43m\"\u001b[39;49m\u001b[43m,\u001b[49m\n\u001b[0;32m     11\u001b[0m \u001b[43m    \u001b[49m\u001b[43mn_jobs\u001b[49m\u001b[38;5;241;43m=\u001b[39;49m\u001b[38;5;241;43m2\u001b[39;49m\u001b[43m,\u001b[49m\n\u001b[0;32m     12\u001b[0m \u001b[43m)\u001b[49m\n\u001b[0;32m     13\u001b[0m train_scores_mean \u001b[38;5;241m=\u001b[39m np\u001b[38;5;241m.\u001b[39mmean(train_scores, axis\u001b[38;5;241m=\u001b[39m\u001b[38;5;241m1\u001b[39m)\n\u001b[0;32m     14\u001b[0m train_scores_std \u001b[38;5;241m=\u001b[39m np\u001b[38;5;241m.\u001b[39mstd(train_scores, axis\u001b[38;5;241m=\u001b[39m\u001b[38;5;241m1\u001b[39m)\n",
      "File \u001b[1;32m~\\AppData\\Local\\Packages\\PythonSoftwareFoundation.Python.3.9_qbz5n2kfra8p0\\LocalCache\\local-packages\\Python39\\site-packages\\sklearn\\model_selection\\_validation.py:1876\u001b[0m, in \u001b[0;36mvalidation_curve\u001b[1;34m(estimator, X, y, param_name, param_range, groups, cv, scoring, n_jobs, pre_dispatch, verbose, error_score, fit_params)\u001b[0m\n\u001b[0;32m   1873\u001b[0m scorer \u001b[38;5;241m=\u001b[39m check_scoring(estimator, scoring\u001b[38;5;241m=\u001b[39mscoring)\n\u001b[0;32m   1875\u001b[0m parallel \u001b[38;5;241m=\u001b[39m Parallel(n_jobs\u001b[38;5;241m=\u001b[39mn_jobs, pre_dispatch\u001b[38;5;241m=\u001b[39mpre_dispatch, verbose\u001b[38;5;241m=\u001b[39mverbose)\n\u001b[1;32m-> 1876\u001b[0m results \u001b[38;5;241m=\u001b[39m \u001b[43mparallel\u001b[49m\u001b[43m(\u001b[49m\n\u001b[0;32m   1877\u001b[0m \u001b[43m    \u001b[49m\u001b[43mdelayed\u001b[49m\u001b[43m(\u001b[49m\u001b[43m_fit_and_score\u001b[49m\u001b[43m)\u001b[49m\u001b[43m(\u001b[49m\n\u001b[0;32m   1878\u001b[0m \u001b[43m        \u001b[49m\u001b[43mclone\u001b[49m\u001b[43m(\u001b[49m\u001b[43mestimator\u001b[49m\u001b[43m)\u001b[49m\u001b[43m,\u001b[49m\n\u001b[0;32m   1879\u001b[0m \u001b[43m        \u001b[49m\u001b[43mX\u001b[49m\u001b[43m,\u001b[49m\n\u001b[0;32m   1880\u001b[0m \u001b[43m        \u001b[49m\u001b[43my\u001b[49m\u001b[43m,\u001b[49m\n\u001b[0;32m   1881\u001b[0m \u001b[43m        \u001b[49m\u001b[43mscorer\u001b[49m\u001b[43m,\u001b[49m\n\u001b[0;32m   1882\u001b[0m \u001b[43m        \u001b[49m\u001b[43mtrain\u001b[49m\u001b[43m,\u001b[49m\n\u001b[0;32m   1883\u001b[0m \u001b[43m        \u001b[49m\u001b[43mtest\u001b[49m\u001b[43m,\u001b[49m\n\u001b[0;32m   1884\u001b[0m \u001b[43m        \u001b[49m\u001b[43mverbose\u001b[49m\u001b[43m,\u001b[49m\n\u001b[0;32m   1885\u001b[0m \u001b[43m        \u001b[49m\u001b[43mparameters\u001b[49m\u001b[38;5;241;43m=\u001b[39;49m\u001b[43m{\u001b[49m\u001b[43mparam_name\u001b[49m\u001b[43m:\u001b[49m\u001b[43m \u001b[49m\u001b[43mv\u001b[49m\u001b[43m}\u001b[49m\u001b[43m,\u001b[49m\n\u001b[0;32m   1886\u001b[0m \u001b[43m        \u001b[49m\u001b[43mfit_params\u001b[49m\u001b[38;5;241;43m=\u001b[39;49m\u001b[43mfit_params\u001b[49m\u001b[43m,\u001b[49m\n\u001b[0;32m   1887\u001b[0m \u001b[43m        \u001b[49m\u001b[43mreturn_train_score\u001b[49m\u001b[38;5;241;43m=\u001b[39;49m\u001b[38;5;28;43;01mTrue\u001b[39;49;00m\u001b[43m,\u001b[49m\n\u001b[0;32m   1888\u001b[0m \u001b[43m        \u001b[49m\u001b[43merror_score\u001b[49m\u001b[38;5;241;43m=\u001b[39;49m\u001b[43merror_score\u001b[49m\u001b[43m,\u001b[49m\n\u001b[0;32m   1889\u001b[0m \u001b[43m    \u001b[49m\u001b[43m)\u001b[49m\n\u001b[0;32m   1890\u001b[0m \u001b[43m    \u001b[49m\u001b[38;5;66;43;03m# NOTE do not change order of iteration to allow one time cv splitters\u001b[39;49;00m\n\u001b[0;32m   1891\u001b[0m \u001b[43m    \u001b[49m\u001b[38;5;28;43;01mfor\u001b[39;49;00m\u001b[43m \u001b[49m\u001b[43mtrain\u001b[49m\u001b[43m,\u001b[49m\u001b[43m \u001b[49m\u001b[43mtest\u001b[49m\u001b[43m \u001b[49m\u001b[38;5;129;43;01min\u001b[39;49;00m\u001b[43m \u001b[49m\u001b[43mcv\u001b[49m\u001b[38;5;241;43m.\u001b[39;49m\u001b[43msplit\u001b[49m\u001b[43m(\u001b[49m\u001b[43mX\u001b[49m\u001b[43m,\u001b[49m\u001b[43m \u001b[49m\u001b[43my\u001b[49m\u001b[43m,\u001b[49m\u001b[43m \u001b[49m\u001b[43mgroups\u001b[49m\u001b[43m)\u001b[49m\n\u001b[0;32m   1892\u001b[0m \u001b[43m    \u001b[49m\u001b[38;5;28;43;01mfor\u001b[39;49;00m\u001b[43m \u001b[49m\u001b[43mv\u001b[49m\u001b[43m \u001b[49m\u001b[38;5;129;43;01min\u001b[39;49;00m\u001b[43m \u001b[49m\u001b[43mparam_range\u001b[49m\n\u001b[0;32m   1893\u001b[0m \u001b[43m\u001b[49m\u001b[43m)\u001b[49m\n\u001b[0;32m   1894\u001b[0m n_params \u001b[38;5;241m=\u001b[39m \u001b[38;5;28mlen\u001b[39m(param_range)\n\u001b[0;32m   1896\u001b[0m results \u001b[38;5;241m=\u001b[39m _aggregate_score_dicts(results)\n",
      "File \u001b[1;32m~\\AppData\\Local\\Packages\\PythonSoftwareFoundation.Python.3.9_qbz5n2kfra8p0\\LocalCache\\local-packages\\Python39\\site-packages\\sklearn\\utils\\parallel.py:63\u001b[0m, in \u001b[0;36mParallel.__call__\u001b[1;34m(self, iterable)\u001b[0m\n\u001b[0;32m     58\u001b[0m config \u001b[38;5;241m=\u001b[39m get_config()\n\u001b[0;32m     59\u001b[0m iterable_with_config \u001b[38;5;241m=\u001b[39m (\n\u001b[0;32m     60\u001b[0m     (_with_config(delayed_func, config), args, kwargs)\n\u001b[0;32m     61\u001b[0m     \u001b[38;5;28;01mfor\u001b[39;00m delayed_func, args, kwargs \u001b[38;5;129;01min\u001b[39;00m iterable\n\u001b[0;32m     62\u001b[0m )\n\u001b[1;32m---> 63\u001b[0m \u001b[38;5;28;01mreturn\u001b[39;00m \u001b[38;5;28;43msuper\u001b[39;49m\u001b[43m(\u001b[49m\u001b[43m)\u001b[49m\u001b[38;5;241;43m.\u001b[39;49m\u001b[38;5;21;43m__call__\u001b[39;49m\u001b[43m(\u001b[49m\u001b[43miterable_with_config\u001b[49m\u001b[43m)\u001b[49m\n",
      "File \u001b[1;32m~\\AppData\\Local\\Packages\\PythonSoftwareFoundation.Python.3.9_qbz5n2kfra8p0\\LocalCache\\local-packages\\Python39\\site-packages\\joblib\\parallel.py:1098\u001b[0m, in \u001b[0;36mParallel.__call__\u001b[1;34m(self, iterable)\u001b[0m\n\u001b[0;32m   1095\u001b[0m     \u001b[38;5;28mself\u001b[39m\u001b[38;5;241m.\u001b[39m_iterating \u001b[38;5;241m=\u001b[39m \u001b[38;5;28;01mFalse\u001b[39;00m\n\u001b[0;32m   1097\u001b[0m \u001b[38;5;28;01mwith\u001b[39;00m \u001b[38;5;28mself\u001b[39m\u001b[38;5;241m.\u001b[39m_backend\u001b[38;5;241m.\u001b[39mretrieval_context():\n\u001b[1;32m-> 1098\u001b[0m     \u001b[38;5;28;43mself\u001b[39;49m\u001b[38;5;241;43m.\u001b[39;49m\u001b[43mretrieve\u001b[49m\u001b[43m(\u001b[49m\u001b[43m)\u001b[49m\n\u001b[0;32m   1099\u001b[0m \u001b[38;5;66;03m# Make sure that we get a last message telling us we are done\u001b[39;00m\n\u001b[0;32m   1100\u001b[0m elapsed_time \u001b[38;5;241m=\u001b[39m time\u001b[38;5;241m.\u001b[39mtime() \u001b[38;5;241m-\u001b[39m \u001b[38;5;28mself\u001b[39m\u001b[38;5;241m.\u001b[39m_start_time\n",
      "File \u001b[1;32m~\\AppData\\Local\\Packages\\PythonSoftwareFoundation.Python.3.9_qbz5n2kfra8p0\\LocalCache\\local-packages\\Python39\\site-packages\\joblib\\parallel.py:975\u001b[0m, in \u001b[0;36mParallel.retrieve\u001b[1;34m(self)\u001b[0m\n\u001b[0;32m    973\u001b[0m \u001b[38;5;28;01mtry\u001b[39;00m:\n\u001b[0;32m    974\u001b[0m     \u001b[38;5;28;01mif\u001b[39;00m \u001b[38;5;28mgetattr\u001b[39m(\u001b[38;5;28mself\u001b[39m\u001b[38;5;241m.\u001b[39m_backend, \u001b[38;5;124m'\u001b[39m\u001b[38;5;124msupports_timeout\u001b[39m\u001b[38;5;124m'\u001b[39m, \u001b[38;5;28;01mFalse\u001b[39;00m):\n\u001b[1;32m--> 975\u001b[0m         \u001b[38;5;28mself\u001b[39m\u001b[38;5;241m.\u001b[39m_output\u001b[38;5;241m.\u001b[39mextend(\u001b[43mjob\u001b[49m\u001b[38;5;241;43m.\u001b[39;49m\u001b[43mget\u001b[49m\u001b[43m(\u001b[49m\u001b[43mtimeout\u001b[49m\u001b[38;5;241;43m=\u001b[39;49m\u001b[38;5;28;43mself\u001b[39;49m\u001b[38;5;241;43m.\u001b[39;49m\u001b[43mtimeout\u001b[49m\u001b[43m)\u001b[49m)\n\u001b[0;32m    976\u001b[0m     \u001b[38;5;28;01melse\u001b[39;00m:\n\u001b[0;32m    977\u001b[0m         \u001b[38;5;28mself\u001b[39m\u001b[38;5;241m.\u001b[39m_output\u001b[38;5;241m.\u001b[39mextend(job\u001b[38;5;241m.\u001b[39mget())\n",
      "File \u001b[1;32m~\\AppData\\Local\\Packages\\PythonSoftwareFoundation.Python.3.9_qbz5n2kfra8p0\\LocalCache\\local-packages\\Python39\\site-packages\\joblib\\_parallel_backends.py:567\u001b[0m, in \u001b[0;36mLokyBackend.wrap_future_result\u001b[1;34m(future, timeout)\u001b[0m\n\u001b[0;32m    564\u001b[0m \u001b[38;5;124;03m\"\"\"Wrapper for Future.result to implement the same behaviour as\u001b[39;00m\n\u001b[0;32m    565\u001b[0m \u001b[38;5;124;03mAsyncResults.get from multiprocessing.\"\"\"\u001b[39;00m\n\u001b[0;32m    566\u001b[0m \u001b[38;5;28;01mtry\u001b[39;00m:\n\u001b[1;32m--> 567\u001b[0m     \u001b[38;5;28;01mreturn\u001b[39;00m \u001b[43mfuture\u001b[49m\u001b[38;5;241;43m.\u001b[39;49m\u001b[43mresult\u001b[49m\u001b[43m(\u001b[49m\u001b[43mtimeout\u001b[49m\u001b[38;5;241;43m=\u001b[39;49m\u001b[43mtimeout\u001b[49m\u001b[43m)\u001b[49m\n\u001b[0;32m    568\u001b[0m \u001b[38;5;28;01mexcept\u001b[39;00m CfTimeoutError \u001b[38;5;28;01mas\u001b[39;00m e:\n\u001b[0;32m    569\u001b[0m     \u001b[38;5;28;01mraise\u001b[39;00m \u001b[38;5;167;01mTimeoutError\u001b[39;00m \u001b[38;5;28;01mfrom\u001b[39;00m \u001b[38;5;21;01me\u001b[39;00m\n",
      "File \u001b[1;32mC:\\Program Files\\WindowsApps\\PythonSoftwareFoundation.Python.3.9_3.9.3568.0_x64__qbz5n2kfra8p0\\lib\\concurrent\\futures\\_base.py:446\u001b[0m, in \u001b[0;36mFuture.result\u001b[1;34m(self, timeout)\u001b[0m\n\u001b[0;32m    444\u001b[0m     \u001b[38;5;28;01mraise\u001b[39;00m CancelledError()\n\u001b[0;32m    445\u001b[0m \u001b[38;5;28;01melif\u001b[39;00m \u001b[38;5;28mself\u001b[39m\u001b[38;5;241m.\u001b[39m_state \u001b[38;5;241m==\u001b[39m FINISHED:\n\u001b[1;32m--> 446\u001b[0m     \u001b[38;5;28;01mreturn\u001b[39;00m \u001b[38;5;28;43mself\u001b[39;49m\u001b[38;5;241;43m.\u001b[39;49m\u001b[43m__get_result\u001b[49m\u001b[43m(\u001b[49m\u001b[43m)\u001b[49m\n\u001b[0;32m    447\u001b[0m \u001b[38;5;28;01melse\u001b[39;00m:\n\u001b[0;32m    448\u001b[0m     \u001b[38;5;28;01mraise\u001b[39;00m \u001b[38;5;167;01mTimeoutError\u001b[39;00m()\n",
      "File \u001b[1;32mC:\\Program Files\\WindowsApps\\PythonSoftwareFoundation.Python.3.9_3.9.3568.0_x64__qbz5n2kfra8p0\\lib\\concurrent\\futures\\_base.py:391\u001b[0m, in \u001b[0;36mFuture.__get_result\u001b[1;34m(self)\u001b[0m\n\u001b[0;32m    389\u001b[0m \u001b[38;5;28;01mif\u001b[39;00m \u001b[38;5;28mself\u001b[39m\u001b[38;5;241m.\u001b[39m_exception:\n\u001b[0;32m    390\u001b[0m     \u001b[38;5;28;01mtry\u001b[39;00m:\n\u001b[1;32m--> 391\u001b[0m         \u001b[38;5;28;01mraise\u001b[39;00m \u001b[38;5;28mself\u001b[39m\u001b[38;5;241m.\u001b[39m_exception\n\u001b[0;32m    392\u001b[0m     \u001b[38;5;28;01mfinally\u001b[39;00m:\n\u001b[0;32m    393\u001b[0m         \u001b[38;5;66;03m# Break a reference cycle with the exception in self._exception\u001b[39;00m\n\u001b[0;32m    394\u001b[0m         \u001b[38;5;28mself\u001b[39m \u001b[38;5;241m=\u001b[39m \u001b[38;5;28;01mNone\u001b[39;00m\n",
      "\u001b[1;31mValueError\u001b[0m: Invalid parameter 'Kernel' for estimator SVC(gamma=0.001). Valid parameters are: ['C', 'break_ties', 'cache_size', 'class_weight', 'coef0', 'decision_function_shape', 'degree', 'gamma', 'kernel', 'max_iter', 'probability', 'random_state', 'shrinking', 'tol', 'verbose']."
     ]
    }
   ],
   "source": [
    "X, y = leagueIF, leagueOF\n",
    "\n",
    "param_range = np.logspace(-6, -1, 5)\n",
    "train_scores, test_scores = validation_curve(\n",
    "    league_svm,\n",
    "    X,\n",
    "    y,\n",
    "    param_name=\"Kernel\",\n",
    "    param_range=param_range,\n",
    "    scoring=\"accuracy\",\n",
    "    n_jobs=2,\n",
    ")\n",
    "train_scores_mean = np.mean(train_scores, axis=1)\n",
    "train_scores_std = np.std(train_scores, axis=1)\n",
    "test_scores_mean = np.mean(test_scores, axis=1)\n",
    "test_scores_std = np.std(test_scores, axis=1)\n",
    "\n",
    "pyplot.title(\"Validation Curve\")\n",
    "pyplot.xlabel(\"Kernel\")\n",
    "pyplot.ylabel(\"Accuracy\")\n",
    "pyplot.ylim(0.0, 1.1)\n",
    "lw = 2\n",
    "pyplot.semilogx(\n",
    "    param_range, train_scores_mean, label=\"Training score\", color=\"darkorange\", lw=lw\n",
    ")\n",
    "pyplot.fill_between(\n",
    "    param_range,\n",
    "    train_scores_mean - train_scores_std,\n",
    "    train_scores_mean + train_scores_std,\n",
    "    alpha=0.2,\n",
    "    color=\"darkorange\",\n",
    "    lw=lw,\n",
    ")\n",
    "pyplot.semilogx(\n",
    "    param_range, test_scores_mean, label=\"Cross-validation score\", color=\"navy\", lw=lw\n",
    ")\n",
    "pyplot.fill_between(\n",
    "    param_range,\n",
    "    test_scores_mean - test_scores_std,\n",
    "    test_scores_mean + test_scores_std,\n",
    "    alpha=0.2,\n",
    "    color=\"navy\",\n",
    "    lw=lw,\n",
    ")\n",
    "pyplot.legend(loc=\"best\")\n",
    "pyplot.show()"
   ]
  },
  {
   "cell_type": "markdown",
   "id": "d959535a-dd35-409c-b620-f29df573a6f0",
   "metadata": {
    "id": "d959535a-dd35-409c-b620-f29df573a6f0"
   },
   "source": [
    "**Trained on single team test on single team (without outlier removal)**"
   ]
  },
  {
   "cell_type": "code",
   "execution_count": null,
   "id": "9c4d93b6-beab-47ba-8438-8fb1799a2a32",
   "metadata": {
    "id": "9c4d93b6-beab-47ba-8438-8fb1799a2a32"
   },
   "outputs": [],
   "source": [
    "team_svm = SVC()\n",
    "team_svm.fit(teamIF_train_scale, teamOF_train)\n",
    "pred = team_svm.predict(teamIF_test_scale)"
   ]
  },
  {
   "cell_type": "code",
   "execution_count": null,
   "id": "339e00c6-a70d-4cae-a20e-0ae0fbb8e425",
   "metadata": {
    "id": "339e00c6-a70d-4cae-a20e-0ae0fbb8e425",
    "outputId": "29da670e-b608-4b24-a70e-73fd60d1b295"
   },
   "outputs": [],
   "source": [
    "print(classification_report(teamOF_test, pred))\n",
    "print(\"score has %0.2f accuracy with a standard deviation of %0.2f\" % (scores.mean(), scores.std()))"
   ]
  },
  {
   "cell_type": "markdown",
   "id": "5a1a0d69",
   "metadata": {},
   "source": [
    "## Learning curve"
   ]
  },
  {
   "cell_type": "code",
   "execution_count": null,
   "id": "43817dd9",
   "metadata": {},
   "outputs": [],
   "source": [
    "\n",
    "fig, ax = pyplot.subplots(nrows=1, ncols=2, figsize=(10, 6), sharey=True)\n",
    "\n",
    "common_params = {\n",
    "    \"X\": teamIF,\n",
    "    \"y\": teamOF,\n",
    "    \"train_sizes\": np.linspace(0.1, 1.0, 5),\n",
    "    \"cv\": ShuffleSplit(n_splits=5, test_size=0.2, random_state=0),\n",
    "    \"score_type\": \"both\",\n",
    "    \"n_jobs\": 4,\n",
    "    \"line_kw\": {\"marker\": \"o\"},\n",
    "    \"std_display_style\": \"fill_between\",\n",
    "    \"score_name\": \"Accuracy\",\n",
    "}\n",
    "\n",
    "for ax_idx, estimator in enumerate([team_svm]):\n",
    "    LearningCurveDisplay.from_estimator(estimator, **common_params, ax=ax[ax_idx])\n",
    "    handles, label = ax[ax_idx].get_legend_handles_labels()\n",
    "    ax[ax_idx].legend(handles[:2], [\"Training Score\", \"Test Score\"])\n",
    "    ax[ax_idx].set_title(f\"Learning Curve for SVM\")"
   ]
  },
  {
   "cell_type": "markdown",
   "id": "9cc44612",
   "metadata": {},
   "source": [
    "## validation curve"
   ]
  },
  {
   "cell_type": "code",
   "execution_count": null,
   "id": "b939d8b8",
   "metadata": {},
   "outputs": [],
   "source": [
    "X, y = teamIF, teamOF\n",
    "\n",
    "param_range = np.logspace(-6, -1, 5)\n",
    "train_scores, test_scores = validation_curve(\n",
    "    league_svm,\n",
    "    X,\n",
    "    y,\n",
    "    param_name=\"gamma\",\n",
    "    param_range=param_range,\n",
    "    scoring=\"accuracy\",\n",
    "    n_jobs=2,\n",
    ")\n",
    "train_scores_mean = np.mean(train_scores, axis=1)\n",
    "train_scores_std = np.std(train_scores, axis=1)\n",
    "test_scores_mean = np.mean(test_scores, axis=1)\n",
    "test_scores_std = np.std(test_scores, axis=1)\n",
    "\n",
    "pyplot.title(\"Validation Curve\")\n",
    "pyplot.xlabel(r\"$\\gamma$\")\n",
    "pyplot.ylabel(\"Accuracy\")\n",
    "pyplot.ylim(0.0, 1.1)\n",
    "lw = 2\n",
    "pyplot.semilogx(\n",
    "    param_range, train_scores_mean, label=\"Training score\", color=\"darkorange\", lw=lw\n",
    ")\n",
    "pyplot.fill_between(\n",
    "    param_range,\n",
    "    train_scores_mean - train_scores_std,\n",
    "    train_scores_mean + train_scores_std,\n",
    "    alpha=0.2,\n",
    "    color=\"darkorange\",\n",
    "    lw=lw,\n",
    ")\n",
    "pyplot.semilogx(\n",
    "    param_range, test_scores_mean, label=\"Cross-validation score\", color=\"navy\", lw=lw\n",
    ")\n",
    "pyplot.fill_between(\n",
    "    param_range,\n",
    "    test_scores_mean - test_scores_std,\n",
    "    test_scores_mean + test_scores_std,\n",
    "    alpha=0.2,\n",
    "    color=\"navy\",\n",
    "    lw=lw,\n",
    ")\n",
    "pyplot.legend(loc=\"best\")\n",
    "pyplot.show()"
   ]
  },
  {
   "cell_type": "markdown",
   "id": "46a4b5c8",
   "metadata": {},
   "source": [
    "## validation curve"
   ]
  },
  {
   "cell_type": "code",
   "execution_count": null,
   "id": "43962c4f",
   "metadata": {},
   "outputs": [],
   "source": [
    "X, y = leagueIF, leagueOF\n",
    "\n",
    "param_range = np.logspace(-6, -1, 5)\n",
    "train_scores, test_scores = validation_curve(\n",
    "    league_svm,\n",
    "    X,\n",
    "    y,\n",
    "    param_name=\"C\",\n",
    "    param_range=param_range,\n",
    "    scoring=\"accuracy\",\n",
    "    n_jobs=2,\n",
    ")\n",
    "train_scores_mean = np.mean(train_scores, axis=1)\n",
    "train_scores_std = np.std(train_scores, axis=1)\n",
    "test_scores_mean = np.mean(test_scores, axis=1)\n",
    "test_scores_std = np.std(test_scores, axis=1)\n",
    "\n",
    "pyplot.title(\"Validation Curve\")\n",
    "pyplot.xlabel(r\"$\\C$\")\n",
    "pyplot.ylabel(\"Accuracy\")\n",
    "pyplot.ylim(0.0, 1.1)\n",
    "lw = 2\n",
    "pyplot.semilogx(\n",
    "    param_range, train_scores_mean, label=\"Training score\", color=\"darkorange\", lw=lw\n",
    ")\n",
    "pyplot.fill_between(\n",
    "    param_range,\n",
    "    train_scores_mean - train_scores_std,\n",
    "    train_scores_mean + train_scores_std,\n",
    "    alpha=0.2,\n",
    "    color=\"darkorange\",\n",
    "    lw=lw,\n",
    ")\n",
    "pyplot.semilogx(\n",
    "    param_range, test_scores_mean, label=\"Cross-validation score\", color=\"navy\", lw=lw\n",
    ")\n",
    "pyplot.fill_between(\n",
    "    param_range,\n",
    "    test_scores_mean - test_scores_std,\n",
    "    test_scores_mean + test_scores_std,\n",
    "    alpha=0.2,\n",
    "    color=\"navy\",\n",
    "    lw=lw,\n",
    ")\n",
    "pyplot.legend(loc=\"best\")\n",
    "pyplot.show()"
   ]
  },
  {
   "cell_type": "markdown",
   "id": "a2ee42c6",
   "metadata": {},
   "source": [
    "## validation curve"
   ]
  },
  {
   "cell_type": "code",
   "execution_count": null,
   "id": "4c7dcbe4",
   "metadata": {},
   "outputs": [],
   "source": [
    "X, y = leagueIF, leagueOF\n",
    "\n",
    "param_range = np.logspace(-6, -1, 5)\n",
    "train_scores, test_scores = validation_curve(\n",
    "    league_svm,\n",
    "    X,\n",
    "    y,\n",
    "    param_name=\"Kernel\",\n",
    "    param_range=param_range,\n",
    "    scoring=\"accuracy\",\n",
    "    n_jobs=2,\n",
    ")\n",
    "train_scores_mean = np.mean(train_scores, axis=1)\n",
    "train_scores_std = np.std(train_scores, axis=1)\n",
    "test_scores_mean = np.mean(test_scores, axis=1)\n",
    "test_scores_std = np.std(test_scores, axis=1)\n",
    "\n",
    "pyplot.title(\"Validation Curve\")\n",
    "pyplot.xlabel(\"Kernel\")\n",
    "pyplot.ylabel(\"Accuracy\")\n",
    "pyplot.ylim(0.0, 1.1)\n",
    "lw = 2\n",
    "pyplot.semilogx(\n",
    "    param_range, train_scores_mean, label=\"Training score\", color=\"darkorange\", lw=lw\n",
    ")\n",
    "pyplot.fill_between(\n",
    "    param_range,\n",
    "    train_scores_mean - train_scores_std,\n",
    "    train_scores_mean + train_scores_std,\n",
    "    alpha=0.2,\n",
    "    color=\"darkorange\",\n",
    "    lw=lw,\n",
    ")\n",
    "pyplot.semilogx(\n",
    "    param_range, test_scores_mean, label=\"Cross-validation score\", color=\"navy\", lw=lw\n",
    ")\n",
    "pyplot.fill_between(\n",
    "    param_range,\n",
    "    test_scores_mean - test_scores_std,\n",
    "    test_scores_mean + test_scores_std,\n",
    "    alpha=0.2,\n",
    "    color=\"navy\",\n",
    "    lw=lw,\n",
    ")\n",
    "pyplot.legend(loc=\"best\")\n",
    "pyplot.show()"
   ]
  },
  {
   "cell_type": "markdown",
   "id": "23c73ad1-a393-4f65-89fa-b8e4dce43bb3",
   "metadata": {
    "id": "23c73ad1-a393-4f65-89fa-b8e4dce43bb3"
   },
   "source": [
    "**Trained on single team tested on another team (without outlier removal)**"
   ]
  },
  {
   "cell_type": "code",
   "execution_count": null,
   "id": "5c6432c1-503c-48b2-8571-4a58b8152ad3",
   "metadata": {
    "id": "5c6432c1-503c-48b2-8571-4a58b8152ad3",
    "outputId": "e2dd7695-a161-41a2-8167-f9271ae1ba60"
   },
   "outputs": [],
   "source": [
    "g = pull_team('GSW',df)\n",
    "g = clean_team(g)\n",
    "gswIF = g.drop(['WL_HOME', 'GAME_ID', 'GAME_DATE', 'TEAM_ABBREVIATION_HOME',\n",
    "                        'TEAM_ABBREVIATION_AWAY', 'PTS_PAINT_HOME', 'PTS_PAINT_AWAY',\n",
    "                        'PTS_2ND_CHANCE_AWAY','PTS_2ND_CHANCE_AWAY'], axis=1)\n",
    "gswOF = g.WL_HOME"
   ]
  },
  {
   "cell_type": "code",
   "execution_count": null,
   "id": "7a15639d-9828-4025-b6f4-32637edf920f",
   "metadata": {
    "id": "7a15639d-9828-4025-b6f4-32637edf920f"
   },
   "outputs": [],
   "source": [
    "gswIF_train, gswIF_test, gswOF_train, gswOF_test = train_test_split(gswIF, gswOF, test_size=.25)\n",
    "scale = MinMaxScaler()\n",
    "scale.fit(gswIF_train)\n",
    "gswIF_train_scale = scale.transform(gswIF_train)\n",
    "gswIF_test_scale = scale.transform(gswIF_test)"
   ]
  },
  {
   "cell_type": "code",
   "execution_count": null,
   "id": "591fd537-d8e2-4fee-823b-6d21fc9873ad",
   "metadata": {
    "id": "591fd537-d8e2-4fee-823b-6d21fc9873ad",
    "outputId": "efcd957e-c175-4387-be61-4b8212bd6014"
   },
   "outputs": [],
   "source": [
    "pred = team_svm.predict(gswIF_test_scale)\n",
    "scores = cross_val_score(team_svm, teamIF, teamOF, cv=5)\n",
    "print(classification_report(gswOF_test, pred))\n",
    "print(\"score has %0.2f accuracy with a standard deviation of %0.2f\" % (scores.mean(), scores.std()))"
   ]
  },
  {
   "cell_type": "markdown",
   "id": "8YpCvZqGVHjv",
   "metadata": {
    "id": "8YpCvZqGVHjv"
   },
   "source": [
    "this time we test on a different team from the one we trained on. the f1 score is lower but to a lesser degree but the recall has taken a bit of a hit. the precision however has increased. This is to be expected since we are using one teams training for another team."
   ]
  },
  {
   "cell_type": "markdown",
   "id": "3f943ab1-1619-4d97-b6b0-6d30a4c1b70e",
   "metadata": {
    "id": "3f943ab1-1619-4d97-b6b0-6d30a4c1b70e"
   },
   "source": [
    "**Trained on single team tested on single team (wtih outlier removal)**"
   ]
  },
  {
   "cell_type": "code",
   "execution_count": null,
   "id": "750bc3f8-903b-4c9a-8c45-f0b85c6a96f6",
   "metadata": {
    "id": "750bc3f8-903b-4c9a-8c45-f0b85c6a96f6",
    "outputId": "9d52419b-838a-4e8b-a46a-9d467b63370d"
   },
   "outputs": [],
   "source": [
    "x = remove_outliers(x)\n",
    "teamIF = x.drop(['WL_HOME', 'GAME_ID', 'GAME_DATE', 'TEAM_ABBREVIATION_HOME',\n",
    "                        'TEAM_ABBREVIATION_AWAY', 'PTS_PAINT_HOME', 'PTS_PAINT_AWAY',\n",
    "                        'PTS_2ND_CHANCE_AWAY','PTS_2ND_CHANCE_AWAY'], axis=1)\n",
    "teamOF = x.WL_HOME\n",
    "teamIF_train, teamIF_test, teamOF_train, teamOF_test = train_test_split(teamIF, teamOF, test_size=.25)\n",
    "scale = MinMaxScaler()\n",
    "scale.fit(teamIF_train)\n",
    "teamIF_train_scale = scale.transform(teamIF_train)\n",
    "teamIF_test_scale = scale.transform(teamIF_test)\n",
    "temp = SVC()\n",
    "temp.fit(teamIF_train_scale, teamOF_train)\n",
    "#pred = team_svm.predict(teamIF_test_scale)\n",
    "pred = temp.predict(teamIF_test_scale)\n",
    "scores = cross_val_score(team_svm, teamIF, teamOF, cv=5)\n",
    "print(classification_report(teamOF_test, pred))\n",
    "print(\"score has %0.2f accuracy with a standard deviation of %0.2f\" % (scores.mean(), scores.std()))"
   ]
  },
  {
   "cell_type": "markdown",
   "id": "b8OSV7lfVtWS",
   "metadata": {
    "id": "b8OSV7lfVtWS"
   },
   "source": [
    "now with outliars removed we got the interesting case that across the board the stats were better (precision recall f1) removing the outlairs gave the SVM something more clean and reliable to work with."
   ]
  },
  {
   "cell_type": "markdown",
   "id": "2b0be3d1-241e-4e38-ab33-2c96c55bb124",
   "metadata": {
    "id": "2b0be3d1-241e-4e38-ab33-2c96c55bb124"
   },
   "source": [
    "**Trained on single team tested on another team (with outlier removal)**"
   ]
  },
  {
   "cell_type": "code",
   "execution_count": null,
   "id": "ae4c7cd5-913b-4e92-899a-4034aed23b3d",
   "metadata": {
    "id": "ae4c7cd5-913b-4e92-899a-4034aed23b3d",
    "outputId": "618cc865-4fc5-4093-ed59-4d321358a3a2"
   },
   "outputs": [],
   "source": [
    "g = remove_outliers(g)\n",
    "gswIF = g.drop(['WL_HOME', 'GAME_ID', 'GAME_DATE', 'TEAM_ABBREVIATION_HOME',\n",
    "                    'TEAM_ABBREVIATION_AWAY'], axis=1)\n",
    "gswOF = g.WL_HOME\n",
    "pred = team_svm.predict(gswIF_test_scale)\n",
    "scores = cross_val_score(team_svm, gswIF, gswOF, cv=5)\n",
    "print(classification_report(gswOF_test, pred))\n",
    "print(\"score has %0.2f accuracy with a standard deviation of %0.2f\" % (scores.mean(), scores.std()))"
   ]
  },
  {
   "cell_type": "markdown",
   "id": "b34be182",
   "metadata": {},
   "source": [
    "## Learning curve"
   ]
  },
  {
   "cell_type": "code",
   "execution_count": null,
   "id": "0baad75b",
   "metadata": {},
   "outputs": [],
   "source": [
    "\n",
    "fig, ax = pyplot.subplots(nrows=1, ncols=2, figsize=(10, 6), sharey=True)\n",
    "\n",
    "common_params = {\n",
    "    \"X\": leagueIF,\n",
    "    \"y\": leagueOF,\n",
    "    \"train_sizes\": np.linspace(0.1, 1.0, 5),\n",
    "    \"cv\": ShuffleSplit(n_splits=5, test_size=0.2, random_state=0),\n",
    "    \"score_type\": \"both\",\n",
    "    \"n_jobs\": 4,\n",
    "    \"line_kw\": {\"marker\": \"o\"},\n",
    "    \"std_display_style\": \"fill_between\",\n",
    "    \"score_name\": \"Accuracy\",\n",
    "}\n",
    "\n",
    "for ax_idx, estimator in enumerate([league_svm]):\n",
    "    LearningCurveDisplay.from_estimator(estimator, **common_params, ax=ax[ax_idx])\n",
    "    handles, label = ax[ax_idx].get_legend_handles_labels()\n",
    "    ax[ax_idx].legend(handles[:2], [\"Training Score\", \"Test Score\"])\n",
    "    ax[ax_idx].set_title(f\"Learning Curve for SVM\")"
   ]
  },
  {
   "cell_type": "markdown",
   "id": "8c06de6a",
   "metadata": {},
   "source": [
    "## validation curve"
   ]
  },
  {
   "cell_type": "code",
   "execution_count": null,
   "id": "4cc1ac17",
   "metadata": {},
   "outputs": [],
   "source": [
    "X, y = leagueIF, leagueOF\n",
    "\n",
    "param_range = np.logspace(-6, -1, 5)\n",
    "train_scores, test_scores = validation_curve(\n",
    "    league_svm,\n",
    "    X,\n",
    "    y,\n",
    "    param_name=\"gamma\",\n",
    "    param_range=param_range,\n",
    "    scoring=\"accuracy\",\n",
    "    n_jobs=2,\n",
    ")\n",
    "train_scores_mean = np.mean(train_scores, axis=1)\n",
    "train_scores_std = np.std(train_scores, axis=1)\n",
    "test_scores_mean = np.mean(test_scores, axis=1)\n",
    "test_scores_std = np.std(test_scores, axis=1)\n",
    "\n",
    "pyplot.title(\"Validation Curve\")\n",
    "pyplot.xlabel(r\"$\\gamma$\")\n",
    "pyplot.ylabel(\"Accuracy\")\n",
    "pyplot.ylim(0.0, 1.1)\n",
    "lw = 2\n",
    "pyplot.semilogx(\n",
    "    param_range, train_scores_mean, label=\"Training score\", color=\"darkorange\", lw=lw\n",
    ")\n",
    "pyplot.fill_between(\n",
    "    param_range,\n",
    "    train_scores_mean - train_scores_std,\n",
    "    train_scores_mean + train_scores_std,\n",
    "    alpha=0.2,\n",
    "    color=\"darkorange\",\n",
    "    lw=lw,\n",
    ")\n",
    "pyplot.semilogx(\n",
    "    param_range, test_scores_mean, label=\"Cross-validation score\", color=\"navy\", lw=lw\n",
    ")\n",
    "pyplot.fill_between(\n",
    "    param_range,\n",
    "    test_scores_mean - test_scores_std,\n",
    "    test_scores_mean + test_scores_std,\n",
    "    alpha=0.2,\n",
    "    color=\"navy\",\n",
    "    lw=lw,\n",
    ")\n",
    "pyplot.legend(loc=\"best\")\n",
    "pyplot.show()"
   ]
  },
  {
   "cell_type": "markdown",
   "id": "5815cf77",
   "metadata": {},
   "source": [
    "## validation curve"
   ]
  },
  {
   "cell_type": "code",
   "execution_count": null,
   "id": "6390d971",
   "metadata": {},
   "outputs": [],
   "source": [
    "X, y = leagueIF, leagueOF\n",
    "\n",
    "param_range = np.logspace(-6, -1, 5)\n",
    "train_scores, test_scores = validation_curve(\n",
    "    league_svm,\n",
    "    X,\n",
    "    y,\n",
    "    param_name=\"C\",\n",
    "    param_range=param_range,\n",
    "    scoring=\"accuracy\",\n",
    "    n_jobs=2,\n",
    ")\n",
    "train_scores_mean = np.mean(train_scores, axis=1)\n",
    "train_scores_std = np.std(train_scores, axis=1)\n",
    "test_scores_mean = np.mean(test_scores, axis=1)\n",
    "test_scores_std = np.std(test_scores, axis=1)\n",
    "\n",
    "pyplot.title(\"Validation Curve\")\n",
    "pyplot.xlabel(r\"$\\C$\")\n",
    "pyplot.ylabel(\"Accuracy\")\n",
    "pyplot.ylim(0.0, 1.1)\n",
    "lw = 2\n",
    "pyplot.semilogx(\n",
    "    param_range, train_scores_mean, label=\"Training score\", color=\"darkorange\", lw=lw\n",
    ")\n",
    "pyplot.fill_between(\n",
    "    param_range,\n",
    "    train_scores_mean - train_scores_std,\n",
    "    train_scores_mean + train_scores_std,\n",
    "    alpha=0.2,\n",
    "    color=\"darkorange\",\n",
    "    lw=lw,\n",
    ")\n",
    "pyplot.semilogx(\n",
    "    param_range, test_scores_mean, label=\"Cross-validation score\", color=\"navy\", lw=lw\n",
    ")\n",
    "pyplot.fill_between(\n",
    "    param_range,\n",
    "    test_scores_mean - test_scores_std,\n",
    "    test_scores_mean + test_scores_std,\n",
    "    alpha=0.2,\n",
    "    color=\"navy\",\n",
    "    lw=lw,\n",
    ")\n",
    "pyplot.legend(loc=\"best\")\n",
    "pyplot.show()"
   ]
  },
  {
   "cell_type": "markdown",
   "id": "aa70fbb5",
   "metadata": {},
   "source": [
    "## validation curve"
   ]
  },
  {
   "cell_type": "code",
   "execution_count": null,
   "id": "0f8d039a",
   "metadata": {},
   "outputs": [],
   "source": [
    "X, y = leagueIF, leagueOF\n",
    "\n",
    "param_range = np.logspace(-6, -1, 5)\n",
    "train_scores, test_scores = validation_curve(\n",
    "    league_svm,\n",
    "    X,\n",
    "    y,\n",
    "    param_name=\"Kernel\",\n",
    "    param_range=param_range,\n",
    "    scoring=\"accuracy\",\n",
    "    n_jobs=2,\n",
    ")\n",
    "train_scores_mean = np.mean(train_scores, axis=1)\n",
    "train_scores_std = np.std(train_scores, axis=1)\n",
    "test_scores_mean = np.mean(test_scores, axis=1)\n",
    "test_scores_std = np.std(test_scores, axis=1)\n",
    "\n",
    "pyplot.title(\"Validation Curve\")\n",
    "pyplot.xlabel(\"Kernel\")\n",
    "pyplot.ylabel(\"Accuracy\")\n",
    "pyplot.ylim(0.0, 1.1)\n",
    "lw = 2\n",
    "pyplot.semilogx(\n",
    "    param_range, train_scores_mean, label=\"Training score\", color=\"darkorange\", lw=lw\n",
    ")\n",
    "pyplot.fill_between(\n",
    "    param_range,\n",
    "    train_scores_mean - train_scores_std,\n",
    "    train_scores_mean + train_scores_std,\n",
    "    alpha=0.2,\n",
    "    color=\"darkorange\",\n",
    "    lw=lw,\n",
    ")\n",
    "pyplot.semilogx(\n",
    "    param_range, test_scores_mean, label=\"Cross-validation score\", color=\"navy\", lw=lw\n",
    ")\n",
    "pyplot.fill_between(\n",
    "    param_range,\n",
    "    test_scores_mean - test_scores_std,\n",
    "    test_scores_mean + test_scores_std,\n",
    "    alpha=0.2,\n",
    "    color=\"navy\",\n",
    "    lw=lw,\n",
    ")\n",
    "pyplot.legend(loc=\"best\")\n",
    "pyplot.show()"
   ]
  },
  {
   "cell_type": "markdown",
   "id": "vkvshgxsV9Zo",
   "metadata": {
    "id": "vkvshgxsV9Zo"
   },
   "source": [
    "yet with outliar removal testing on a different team using training of the previous team seems to put us back at a f1 of 93%. but this can once again be explained by using one teams data to predict another team. here however the precision and recall are amazing."
   ]
  },
  {
   "cell_type": "markdown",
   "id": "179e2d49",
   "metadata": {},
   "source": [
    "## Transitional Era"
   ]
  },
  {
   "cell_type": "code",
   "execution_count": null,
   "id": "051836fc",
   "metadata": {
    "id": "f28e6245-5919-46a0-a7ad-8abfcae9dcc0"
   },
   "outputs": [],
   "source": [
    "df = pd.read_csv('1995_2013.csv')\n",
    "df['WL_HOME'] = [0 if x == 'L' else 1 for x in df['WL_HOME']]\n",
    "print(\"number of games in 1995-2013 set: \",len(df))"
   ]
  },
  {
   "cell_type": "markdown",
   "id": "c835b42c",
   "metadata": {
    "id": "f33b5c92-b892-4818-ab62-d209cef5045f"
   },
   "source": [
    "Here we create a subeset of the dataset containing all of the games for the selected team from the dataset. We then check for any missing values in the dataframe and replace them with that team's average performance for that category. After doing so we check again for missing values to ensure that there are none."
   ]
  },
  {
   "cell_type": "code",
   "execution_count": null,
   "id": "03a9f513",
   "metadata": {
    "id": "7d38452f-28df-4125-abae-44ccea01609d",
    "outputId": "1bce557d-4d8a-4ec4-ff91-33f54522ac38"
   },
   "outputs": [],
   "source": [
    "x = pull_team(\"MIN\", df)\n",
    "print(\"number of Minnesota games in 1990-2019 set pre removal: \", len(x))\n",
    "x = clean_team(x)\n",
    "x2 = remove_outliers(x)\n",
    "print(\"number of Minnesota games in 1990-2019 set post removal: \", len(x))"
   ]
  },
  {
   "cell_type": "markdown",
   "id": "fcafd269",
   "metadata": {
    "id": "7c960e26-14e0-4296-ac4f-f5f1bfc802c6"
   },
   "source": [
    "**Trained on full league, tested on single team (without outlier removal)**"
   ]
  },
  {
   "cell_type": "code",
   "execution_count": null,
   "id": "72f47d02",
   "metadata": {
    "id": "adfd501b-0493-4c00-ac3c-b7d029c24f45"
   },
   "outputs": [],
   "source": [
    "league = clean_team(df)\n",
    "leagueIF = league.drop(['WL_HOME', 'GAME_ID', 'GAME_DATE', 'TEAM_ABBREVIATION_HOME',\n",
    "                        'TEAM_ABBREVIATION_AWAY', 'PTS_PAINT_HOME', 'PTS_PAINT_AWAY',\n",
    "                        'PTS_2ND_CHANCE_AWAY','PTS_2ND_CHANCE_AWAY'], axis=1)\n",
    "leagueOF = league.WL_HOME"
   ]
  },
  {
   "cell_type": "code",
   "execution_count": null,
   "id": "b6d07e34",
   "metadata": {
    "id": "8da07578-e367-47fc-9607-4d30cef1871b"
   },
   "outputs": [],
   "source": [
    "leagueIF_train, leagueIF_test, leagueOF_train, leagueOF_test = train_test_split(leagueIF, leagueOF, test_size=.20)\n",
    "scale = MinMaxScaler()\n",
    "scale.fit(leagueIF_train)\n",
    "leagueIF_train_scale = scale.transform(leagueIF_train)\n",
    "leagueIF_test_scale = scale.transform(leagueIF_test)\n",
    "league_svm = SVC()\n",
    "league_svm.fit(leagueIF_train_scale, leagueOF_train)"
   ]
  },
  {
   "cell_type": "code",
   "execution_count": null,
   "id": "95c7eea4",
   "metadata": {
    "id": "f088500a-f7d0-46f5-a0af-988742b5dd07",
    "outputId": "6265db57-bfad-4dd2-da07-8788bf200cbd"
   },
   "outputs": [],
   "source": [
    "teamIF = x.drop(['WL_HOME', 'GAME_ID', 'GAME_DATE', 'TEAM_ABBREVIATION_HOME',\n",
    "                        'TEAM_ABBREVIATION_AWAY', 'PTS_PAINT_HOME', 'PTS_PAINT_AWAY',\n",
    "                        'PTS_2ND_CHANCE_AWAY','PTS_2ND_CHANCE_AWAY'], axis=1)\n",
    "teamOF = x.WL_HOME"
   ]
  },
  {
   "cell_type": "code",
   "execution_count": null,
   "id": "d1dc7913",
   "metadata": {
    "id": "e9cef1d6-ffc9-47f5-9deb-d8fabb496b2c"
   },
   "outputs": [],
   "source": [
    "teamIF_train, teamIF_test, teamOF_train, teamOF_test = train_test_split(teamIF, teamOF, test_size=.25)\n",
    "scale = MinMaxScaler()\n",
    "scale.fit(teamIF_train)\n",
    "teamIF_train_scale = scale.transform(teamIF_train)\n",
    "teamIF_test_scale = scale.transform(teamIF_test)"
   ]
  },
  {
   "cell_type": "code",
   "execution_count": null,
   "id": "d9d16525",
   "metadata": {
    "id": "460db92b-70c9-4abc-836f-8d52c180d5dc"
   },
   "outputs": [],
   "source": [
    "pred = league_svm.predict(teamIF_test_scale)"
   ]
  },
  {
   "cell_type": "code",
   "execution_count": null,
   "id": "f8661370",
   "metadata": {
    "id": "88b10623-1e9a-4d44-b10b-d3bac22c5728",
    "outputId": "fdc7ee9b-ef1b-4b23-af2e-ec97ddb8a93b"
   },
   "outputs": [],
   "source": [
    "scores = cross_val_score(league_svm, teamIF, teamOF, cv=5)\n",
    "print(classification_report(teamOF_test, pred))\n",
    "print(league_svm.score(teamIF_test_scale, teamOF_test))"
   ]
  },
  {
   "cell_type": "markdown",
   "id": "31f64983",
   "metadata": {},
   "source": [
    "## Learning curve"
   ]
  },
  {
   "cell_type": "code",
   "execution_count": null,
   "id": "f38a3512",
   "metadata": {},
   "outputs": [],
   "source": [
    "\n",
    "fig, ax = pyplot.subplots(nrows=1, ncols=2, figsize=(10, 6), sharey=True)\n",
    "\n",
    "common_params = {\n",
    "    \"X\": leagueIF,\n",
    "    \"y\": leagueOF,\n",
    "    \"train_sizes\": np.linspace(0.1, 1.0, 5),\n",
    "    \"cv\": ShuffleSplit(n_splits=5, test_size=0.2, random_state=0),\n",
    "    \"score_type\": \"both\",\n",
    "    \"n_jobs\": 4,\n",
    "    \"line_kw\": {\"marker\": \"o\"},\n",
    "    \"std_display_style\": \"fill_between\",\n",
    "    \"score_name\": \"Accuracy\",\n",
    "}\n",
    "\n",
    "for ax_idx, estimator in enumerate([league_svm]):\n",
    "    LearningCurveDisplay.from_estimator(estimator, **common_params, ax=ax[ax_idx])\n",
    "    handles, label = ax[ax_idx].get_legend_handles_labels()\n",
    "    ax[ax_idx].legend(handles[:2], [\"Training Score\", \"Test Score\"])\n",
    "    ax[ax_idx].set_title(f\"Learning Curve for SVM\")"
   ]
  },
  {
   "cell_type": "markdown",
   "id": "9859e2dd",
   "metadata": {},
   "source": [
    "## validation curve"
   ]
  },
  {
   "cell_type": "code",
   "execution_count": null,
   "id": "2bb9c8b9",
   "metadata": {},
   "outputs": [],
   "source": [
    "X, y = leagueIF, leagueOF\n",
    "\n",
    "param_range = np.logspace(-6, -1, 5)\n",
    "train_scores, test_scores = validation_curve(\n",
    "    league_svm,\n",
    "    X,\n",
    "    y,\n",
    "    param_name=\"gamma\",\n",
    "    param_range=param_range,\n",
    "    scoring=\"accuracy\",\n",
    "    n_jobs=2,\n",
    ")\n",
    "train_scores_mean = np.mean(train_scores, axis=1)\n",
    "train_scores_std = np.std(train_scores, axis=1)\n",
    "test_scores_mean = np.mean(test_scores, axis=1)\n",
    "test_scores_std = np.std(test_scores, axis=1)\n",
    "\n",
    "pyplot.title(\"Validation Curve\")\n",
    "pyplot.xlabel(r\"$\\gamma$\")\n",
    "pyplot.ylabel(\"Accuracy\")\n",
    "pyplot.ylim(0.0, 1.1)\n",
    "lw = 2\n",
    "pyplot.semilogx(\n",
    "    param_range, train_scores_mean, label=\"Training score\", color=\"darkorange\", lw=lw\n",
    ")\n",
    "pyplot.fill_between(\n",
    "    param_range,\n",
    "    train_scores_mean - train_scores_std,\n",
    "    train_scores_mean + train_scores_std,\n",
    "    alpha=0.2,\n",
    "    color=\"darkorange\",\n",
    "    lw=lw,\n",
    ")\n",
    "pyplot.semilogx(\n",
    "    param_range, test_scores_mean, label=\"Cross-validation score\", color=\"navy\", lw=lw\n",
    ")\n",
    "pyplot.fill_between(\n",
    "    param_range,\n",
    "    test_scores_mean - test_scores_std,\n",
    "    test_scores_mean + test_scores_std,\n",
    "    alpha=0.2,\n",
    "    color=\"navy\",\n",
    "    lw=lw,\n",
    ")\n",
    "pyplot.legend(loc=\"best\")\n",
    "pyplot.show()"
   ]
  },
  {
   "cell_type": "markdown",
   "id": "b19aff83",
   "metadata": {
    "id": "d959535a-dd35-409c-b620-f29df573a6f0"
   },
   "source": [
    "**Trained on single team test on single team (without outlier removal)**"
   ]
  },
  {
   "cell_type": "code",
   "execution_count": null,
   "id": "70191673",
   "metadata": {
    "id": "9c4d93b6-beab-47ba-8438-8fb1799a2a32"
   },
   "outputs": [],
   "source": [
    "team_svm = SVC()\n",
    "team_svm.fit(teamIF_train_scale, teamOF_train)\n",
    "pred = team_svm.predict(teamIF_test_scale)"
   ]
  },
  {
   "cell_type": "code",
   "execution_count": null,
   "id": "24cb1871",
   "metadata": {
    "id": "339e00c6-a70d-4cae-a20e-0ae0fbb8e425",
    "outputId": "29da670e-b608-4b24-a70e-73fd60d1b295"
   },
   "outputs": [],
   "source": [
    "print(classification_report(teamOF_test, pred))\n",
    "print(\"score has %0.2f accuracy with a standard deviation of %0.2f\" % (scores.mean(), scores.std()))"
   ]
  },
  {
   "cell_type": "markdown",
   "id": "6ce43a40",
   "metadata": {},
   "source": [
    "## Learning curve"
   ]
  },
  {
   "cell_type": "code",
   "execution_count": null,
   "id": "b4477e24",
   "metadata": {},
   "outputs": [],
   "source": [
    "\n",
    "fig, ax = pyplot.subplots(nrows=1, ncols=2, figsize=(10, 6), sharey=True)\n",
    "\n",
    "common_params = {\n",
    "    \"X\": teamIF,\n",
    "    \"y\": teamOF,\n",
    "    \"train_sizes\": np.linspace(0.1, 1.0, 5),\n",
    "    \"cv\": ShuffleSplit(n_splits=5, test_size=0.2, random_state=0),\n",
    "    \"score_type\": \"both\",\n",
    "    \"n_jobs\": 4,\n",
    "    \"line_kw\": {\"marker\": \"o\"},\n",
    "    \"std_display_style\": \"fill_between\",\n",
    "    \"score_name\": \"Accuracy\",\n",
    "}\n",
    "\n",
    "for ax_idx, estimator in enumerate([team_svm]):\n",
    "    LearningCurveDisplay.from_estimator(estimator, **common_params, ax=ax[ax_idx])\n",
    "    handles, label = ax[ax_idx].get_legend_handles_labels()\n",
    "    ax[ax_idx].legend(handles[:2], [\"Training Score\", \"Test Score\"])\n",
    "    ax[ax_idx].set_title(f\"Learning Curve for SVM\")"
   ]
  },
  {
   "cell_type": "markdown",
   "id": "acefacc5",
   "metadata": {},
   "source": [
    "## validation curve"
   ]
  },
  {
   "cell_type": "code",
   "execution_count": null,
   "id": "059c1987",
   "metadata": {},
   "outputs": [],
   "source": [
    "X, y = teamIF, teamOF\n",
    "\n",
    "param_range = np.logspace(-6, -1, 5)\n",
    "train_scores, test_scores = validation_curve(\n",
    "    league_svm,\n",
    "    X,\n",
    "    y,\n",
    "    param_name=\"gamma\",\n",
    "    param_range=param_range,\n",
    "    scoring=\"accuracy\",\n",
    "    n_jobs=2,\n",
    ")\n",
    "train_scores_mean = np.mean(train_scores, axis=1)\n",
    "train_scores_std = np.std(train_scores, axis=1)\n",
    "test_scores_mean = np.mean(test_scores, axis=1)\n",
    "test_scores_std = np.std(test_scores, axis=1)\n",
    "\n",
    "pyplot.title(\"Validation Curve\")\n",
    "pyplot.xlabel(r\"$\\gamma$\")\n",
    "pyplot.ylabel(\"Accuracy\")\n",
    "pyplot.ylim(0.0, 1.1)\n",
    "lw = 2\n",
    "pyplot.semilogx(\n",
    "    param_range, train_scores_mean, label=\"Training score\", color=\"darkorange\", lw=lw\n",
    ")\n",
    "pyplot.fill_between(\n",
    "    param_range,\n",
    "    train_scores_mean - train_scores_std,\n",
    "    train_scores_mean + train_scores_std,\n",
    "    alpha=0.2,\n",
    "    color=\"darkorange\",\n",
    "    lw=lw,\n",
    ")\n",
    "pyplot.semilogx(\n",
    "    param_range, test_scores_mean, label=\"Cross-validation score\", color=\"navy\", lw=lw\n",
    ")\n",
    "pyplot.fill_between(\n",
    "    param_range,\n",
    "    test_scores_mean - test_scores_std,\n",
    "    test_scores_mean + test_scores_std,\n",
    "    alpha=0.2,\n",
    "    color=\"navy\",\n",
    "    lw=lw,\n",
    ")\n",
    "pyplot.legend(loc=\"best\")\n",
    "pyplot.show()"
   ]
  },
  {
   "cell_type": "markdown",
   "id": "11aac757",
   "metadata": {
    "id": "lounAJ4nTrnS"
   },
   "source": [
    "temp"
   ]
  },
  {
   "cell_type": "markdown",
   "id": "07131751",
   "metadata": {
    "id": "23c73ad1-a393-4f65-89fa-b8e4dce43bb3"
   },
   "source": [
    "**Trained on single team tested on another team (without outlier removal)**"
   ]
  },
  {
   "cell_type": "code",
   "execution_count": null,
   "id": "4291db07",
   "metadata": {
    "id": "5c6432c1-503c-48b2-8571-4a58b8152ad3",
    "outputId": "e2dd7695-a161-41a2-8167-f9271ae1ba60"
   },
   "outputs": [],
   "source": [
    "g = pull_team('GSW',df)\n",
    "g = clean_team(g)\n",
    "gswIF = g.drop(['WL_HOME', 'GAME_ID', 'GAME_DATE', 'TEAM_ABBREVIATION_HOME',\n",
    "                        'TEAM_ABBREVIATION_AWAY', 'PTS_PAINT_HOME', 'PTS_PAINT_AWAY',\n",
    "                        'PTS_2ND_CHANCE_AWAY','PTS_2ND_CHANCE_AWAY'], axis=1)\n",
    "gswOF = g.WL_HOME"
   ]
  },
  {
   "cell_type": "code",
   "execution_count": null,
   "id": "4090691b",
   "metadata": {
    "id": "7a15639d-9828-4025-b6f4-32637edf920f"
   },
   "outputs": [],
   "source": [
    "gswIF_train, gswIF_test, gswOF_train, gswOF_test = train_test_split(gswIF, gswOF, test_size=.25)\n",
    "scale = MinMaxScaler()\n",
    "scale.fit(gswIF_train)\n",
    "gswIF_train_scale = scale.transform(gswIF_train)\n",
    "gswIF_test_scale = scale.transform(gswIF_test)"
   ]
  },
  {
   "cell_type": "code",
   "execution_count": null,
   "id": "76665bbe",
   "metadata": {
    "id": "591fd537-d8e2-4fee-823b-6d21fc9873ad",
    "outputId": "efcd957e-c175-4387-be61-4b8212bd6014"
   },
   "outputs": [],
   "source": [
    "pred = team_svm.predict(gswIF_test_scale)\n",
    "scores = cross_val_score(team_svm, teamIF, teamOF, cv=5)\n",
    "print(classification_report(gswOF_test, pred))\n",
    "print(\"score has %0.2f accuracy with a standard deviation of %0.2f\" % (scores.mean(), scores.std()))"
   ]
  },
  {
   "cell_type": "markdown",
   "id": "094f2b9b",
   "metadata": {},
   "source": [
    "temp"
   ]
  },
  {
   "cell_type": "code",
   "execution_count": null,
   "id": "d416929e",
   "metadata": {
    "id": "830ba745-925d-4ddb-a407-5a538e24daca",
    "outputId": "8245b2e9-7026-4ddc-a9c2-f75fcd5cadc5"
   },
   "outputs": [],
   "source": [
    "pred = team_svm.predict(gswIF_test_scale)\n",
    "scores = cross_val_score(team_svm, teamIF, teamOF, cv=5)\n",
    "print(classification_report(gswOF_test, pred))\n",
    "print(\"score has %0.2f accuracy with a standard deviation of %0.2f\" % (scores.mean(), scores.std()))"
   ]
  },
  {
   "cell_type": "markdown",
   "id": "f12950f2",
   "metadata": {
    "id": "3f943ab1-1619-4d97-b6b0-6d30a4c1b70e"
   },
   "source": [
    "**Trained on single team tested on single team (wtih outlier removal)**"
   ]
  },
  {
   "cell_type": "code",
   "execution_count": null,
   "id": "fa9ad7a5",
   "metadata": {
    "id": "750bc3f8-903b-4c9a-8c45-f0b85c6a96f6",
    "outputId": "9d52419b-838a-4e8b-a46a-9d467b63370d"
   },
   "outputs": [],
   "source": [
    "x = remove_outliers(x)\n",
    "teamIF = x.drop(['WL_HOME', 'GAME_ID', 'GAME_DATE', 'TEAM_ABBREVIATION_HOME',\n",
    "                        'TEAM_ABBREVIATION_AWAY', 'PTS_PAINT_HOME', 'PTS_PAINT_AWAY',\n",
    "                        'PTS_2ND_CHANCE_AWAY','PTS_2ND_CHANCE_AWAY'], axis=1)\n",
    "teamOF = x.WL_HOME\n",
    "teamIF_train, teamIF_test, teamOF_train, teamOF_test = train_test_split(teamIF, teamOF, test_size=.25)\n",
    "scale = MinMaxScaler()\n",
    "scale.fit(teamIF_train)\n",
    "teamIF_train_scale = scale.transform(teamIF_train)\n",
    "teamIF_test_scale = scale.transform(teamIF_test)\n",
    "temp = SVC()\n",
    "temp.fit(teamIF_train_scale, teamOF_train)\n",
    "#pred = team_svm.predict(teamIF_test_scale)\n",
    "pred = temp.predict(teamIF_test_scale)\n",
    "scores = cross_val_score(team_svm, teamIF, teamOF, cv=5)\n",
    "print(classification_report(teamOF_test, pred))\n",
    "print(\"score has %0.2f accuracy with a standard deviation of %0.2f\" % (scores.mean(), scores.std()))"
   ]
  },
  {
   "cell_type": "markdown",
   "id": "2de4b91d",
   "metadata": {
    "id": "b8OSV7lfVtWS"
   },
   "source": [
    "temp"
   ]
  },
  {
   "cell_type": "markdown",
   "id": "7ea6562a",
   "metadata": {
    "id": "2b0be3d1-241e-4e38-ab33-2c96c55bb124"
   },
   "source": [
    "**Trained on single team tested on another team (with outlier removal)**"
   ]
  },
  {
   "cell_type": "code",
   "execution_count": null,
   "id": "16c275d2",
   "metadata": {
    "id": "ae4c7cd5-913b-4e92-899a-4034aed23b3d",
    "outputId": "618cc865-4fc5-4093-ed59-4d321358a3a2"
   },
   "outputs": [],
   "source": [
    "g = remove_outliers(g)\n",
    "gswIF = g.drop(['WL_HOME', 'GAME_ID', 'GAME_DATE', 'TEAM_ABBREVIATION_HOME',\n",
    "                    'TEAM_ABBREVIATION_AWAY'], axis=1)\n",
    "gswOF = g.WL_HOME\n",
    "pred = team_svm.predict(gswIF_test_scale)\n",
    "scores = cross_val_score(team_svm, gswIF, gswOF, cv=5)\n",
    "print(classification_report(gswOF_test, pred))\n",
    "print(\"score has %0.2f accuracy with a standard deviation of %0.2f\" % (scores.mean(), scores.std()))"
   ]
  },
  {
   "cell_type": "markdown",
   "id": "5cda0ef0",
   "metadata": {
    "id": "vkvshgxsV9Zo"
   },
   "source": [
    "temp"
   ]
  },
  {
   "cell_type": "markdown",
   "id": "a436466e",
   "metadata": {},
   "source": [
    "## Modern Era"
   ]
  },
  {
   "cell_type": "code",
   "execution_count": null,
   "id": "57c1109c",
   "metadata": {
    "id": "f28e6245-5919-46a0-a7ad-8abfcae9dcc0"
   },
   "outputs": [],
   "source": [
    " df = pd.read_csv('2013_2019.csv')\n",
    " df['WL_HOME'] = [0 if x == 'L' else 1 for x in df['WL_HOME']]"
   ]
  },
  {
   "cell_type": "markdown",
   "id": "cc0dbc50",
   "metadata": {
    "id": "f33b5c92-b892-4818-ab62-d209cef5045f"
   },
   "source": [
    "Here we create a subeset of the dataset containing all of the games for the selected team from the dataset. We then check for any missing values in the dataframe and replace them with that team's average performance for that category. After doing so we check again for missing values to ensure that there are none."
   ]
  },
  {
   "cell_type": "code",
   "execution_count": null,
   "id": "1d776dd9",
   "metadata": {
    "id": "7d38452f-28df-4125-abae-44ccea01609d",
    "outputId": "1bce557d-4d8a-4ec4-ff91-33f54522ac38"
   },
   "outputs": [],
   "source": [
    "x = pull_team(\"MIN\", df)\n",
    "x = clean_team(x)\n",
    "x = remove_outliers(x)"
   ]
  },
  {
   "cell_type": "markdown",
   "id": "0bdae5e2",
   "metadata": {
    "id": "7c960e26-14e0-4296-ac4f-f5f1bfc802c6"
   },
   "source": [
    "**Trained on full league, tested on single team (without outlier removal)**"
   ]
  },
  {
   "cell_type": "code",
   "execution_count": null,
   "id": "e35eb493",
   "metadata": {
    "id": "adfd501b-0493-4c00-ac3c-b7d029c24f45"
   },
   "outputs": [],
   "source": [
    "league = clean_team(df)\n",
    "leagueIF = league.drop(['WL_HOME', 'GAME_ID', 'GAME_DATE', 'TEAM_ABBREVIATION_HOME',\n",
    "                        'TEAM_ABBREVIATION_AWAY', 'PTS_PAINT_HOME', 'PTS_PAINT_AWAY',\n",
    "                        'PTS_2ND_CHANCE_AWAY','PTS_2ND_CHANCE_AWAY'], axis=1)\n",
    "leagueOF = league.WL_HOME"
   ]
  },
  {
   "cell_type": "code",
   "execution_count": null,
   "id": "72392de7",
   "metadata": {
    "id": "8da07578-e367-47fc-9607-4d30cef1871b"
   },
   "outputs": [],
   "source": [
    "leagueIF_train, leagueIF_test, leagueOF_train, leagueOF_test = train_test_split(leagueIF, leagueOF, test_size=.20)\n",
    "scale = MinMaxScaler()\n",
    "scale.fit(leagueIF_train)\n",
    "leagueIF_train_scale = scale.transform(leagueIF_train)\n",
    "leagueIF_test_scale = scale.transform(leagueIF_test)\n",
    "league_svm = SVC()\n",
    "league_svm.fit(leagueIF_train_scale, leagueOF_train)"
   ]
  },
  {
   "cell_type": "code",
   "execution_count": null,
   "id": "0fe5a045",
   "metadata": {
    "id": "f088500a-f7d0-46f5-a0af-988742b5dd07",
    "outputId": "6265db57-bfad-4dd2-da07-8788bf200cbd"
   },
   "outputs": [],
   "source": [
    "x = pull_team(\"MIN\", df)\n",
    "x = clean_team(x)\n",
    "teamIF = x.drop(['WL_HOME', 'GAME_ID', 'GAME_DATE', 'TEAM_ABBREVIATION_HOME',\n",
    "                        'TEAM_ABBREVIATION_AWAY', 'PTS_PAINT_HOME', 'PTS_PAINT_AWAY',\n",
    "                        'PTS_2ND_CHANCE_AWAY','PTS_2ND_CHANCE_AWAY'], axis=1)\n",
    "teamOF = x.WL_HOME"
   ]
  },
  {
   "cell_type": "code",
   "execution_count": null,
   "id": "cb84735f",
   "metadata": {
    "id": "e9cef1d6-ffc9-47f5-9deb-d8fabb496b2c"
   },
   "outputs": [],
   "source": [
    "teamIF_train, teamIF_test, teamOF_train, teamOF_test = train_test_split(teamIF, teamOF, test_size=.25)\n",
    "scale = MinMaxScaler()\n",
    "scale.fit(teamIF_train)\n",
    "teamIF_train_scale = scale.transform(teamIF_train)\n",
    "teamIF_test_scale = scale.transform(teamIF_test)"
   ]
  },
  {
   "cell_type": "code",
   "execution_count": null,
   "id": "7ac8b69e",
   "metadata": {
    "id": "460db92b-70c9-4abc-836f-8d52c180d5dc"
   },
   "outputs": [],
   "source": [
    "pred = league_svm.predict(teamIF_test_scale)"
   ]
  },
  {
   "cell_type": "code",
   "execution_count": null,
   "id": "8e1ba22e",
   "metadata": {
    "id": "88b10623-1e9a-4d44-b10b-d3bac22c5728",
    "outputId": "fdc7ee9b-ef1b-4b23-af2e-ec97ddb8a93b"
   },
   "outputs": [],
   "source": [
    "scores = cross_val_score(league_svm, teamIF, teamOF, cv=5)\n",
    "print(classification_report(teamOF_test, pred))\n",
    "print(league_svm.score(teamIF_test_scale, teamOF_test))"
   ]
  },
  {
   "cell_type": "markdown",
   "id": "de70081d",
   "metadata": {},
   "source": [
    "## Learning curve"
   ]
  },
  {
   "cell_type": "code",
   "execution_count": null,
   "id": "151f80bc",
   "metadata": {},
   "outputs": [],
   "source": [
    "\n",
    "fig, ax = pyplot.subplots(nrows=1, ncols=2, figsize=(10, 6), sharey=True)\n",
    "\n",
    "common_params = {\n",
    "    \"X\": leagueIF,\n",
    "    \"y\": leagueOF,\n",
    "    \"train_sizes\": np.linspace(0.1, 1.0, 5),\n",
    "    \"cv\": ShuffleSplit(n_splits=5, test_size=0.2, random_state=0),\n",
    "    \"score_type\": \"both\",\n",
    "    \"n_jobs\": 4,\n",
    "    \"line_kw\": {\"marker\": \"o\"},\n",
    "    \"std_display_style\": \"fill_between\",\n",
    "    \"score_name\": \"Accuracy\",\n",
    "}\n",
    "\n",
    "for ax_idx, estimator in enumerate([league_svm]):\n",
    "    LearningCurveDisplay.from_estimator(estimator, **common_params, ax=ax[ax_idx])\n",
    "    handles, label = ax[ax_idx].get_legend_handles_labels()\n",
    "    ax[ax_idx].legend(handles[:2], [\"Training Score\", \"Test Score\"])\n",
    "    ax[ax_idx].set_title(f\"Learning Curve for SVM\")"
   ]
  },
  {
   "cell_type": "markdown",
   "id": "f0904804",
   "metadata": {},
   "source": [
    "## validation curve"
   ]
  },
  {
   "cell_type": "code",
   "execution_count": null,
   "id": "46fd52cf",
   "metadata": {},
   "outputs": [],
   "source": [
    "X, y = leagueIF, leagueOF\n",
    "\n",
    "param_range = np.logspace(-6, -1, 5)\n",
    "train_scores, test_scores = validation_curve(\n",
    "    league_svm,\n",
    "    X,\n",
    "    y,\n",
    "    param_name=\"gamma\",\n",
    "    param_range=param_range,\n",
    "    scoring=\"accuracy\",\n",
    "    n_jobs=2,\n",
    ")\n",
    "train_scores_mean = np.mean(train_scores, axis=1)\n",
    "train_scores_std = np.std(train_scores, axis=1)\n",
    "test_scores_mean = np.mean(test_scores, axis=1)\n",
    "test_scores_std = np.std(test_scores, axis=1)\n",
    "\n",
    "pyplot.title(\"Validation Curve\")\n",
    "pyplot.xlabel(r\"$\\gamma$\")\n",
    "pyplot.ylabel(\"Accuracy\")\n",
    "pyplot.ylim(0.0, 1.1)\n",
    "lw = 2\n",
    "pyplot.semilogx(\n",
    "    param_range, train_scores_mean, label=\"Training score\", color=\"darkorange\", lw=lw\n",
    ")\n",
    "pyplot.fill_between(\n",
    "    param_range,\n",
    "    train_scores_mean - train_scores_std,\n",
    "    train_scores_mean + train_scores_std,\n",
    "    alpha=0.2,\n",
    "    color=\"darkorange\",\n",
    "    lw=lw,\n",
    ")\n",
    "pyplot.semilogx(\n",
    "    param_range, test_scores_mean, label=\"Cross-validation score\", color=\"navy\", lw=lw\n",
    ")\n",
    "pyplot.fill_between(\n",
    "    param_range,\n",
    "    test_scores_mean - test_scores_std,\n",
    "    test_scores_mean + test_scores_std,\n",
    "    alpha=0.2,\n",
    "    color=\"navy\",\n",
    "    lw=lw,\n",
    ")\n",
    "pyplot.legend(loc=\"best\")\n",
    "pyplot.show()"
   ]
  },
  {
   "cell_type": "markdown",
   "id": "155a04a0",
   "metadata": {
    "id": "tQk7YyNsS_xw"
   },
   "source": [
    "so we train our SVM on the entire league and try to use that data to then predict the outcome for a single team. this is our baseline standard with the accuracy being at 85%. this is post pruning of outliars. "
   ]
  },
  {
   "cell_type": "markdown",
   "id": "f3a5b450",
   "metadata": {
    "id": "d959535a-dd35-409c-b620-f29df573a6f0"
   },
   "source": [
    "**Trained on single team test on single team (without outlier removal)**"
   ]
  },
  {
   "cell_type": "code",
   "execution_count": null,
   "id": "60e77f40",
   "metadata": {
    "id": "9c4d93b6-beab-47ba-8438-8fb1799a2a32"
   },
   "outputs": [],
   "source": [
    "team_svm = SVC()\n",
    "team_svm.fit(teamIF_train_scale, teamOF_train)\n",
    "pred = team_svm.predict(teamIF_test_scale)"
   ]
  },
  {
   "cell_type": "code",
   "execution_count": null,
   "id": "1b507fcc",
   "metadata": {
    "id": "339e00c6-a70d-4cae-a20e-0ae0fbb8e425",
    "outputId": "29da670e-b608-4b24-a70e-73fd60d1b295"
   },
   "outputs": [],
   "source": [
    "print(classification_report(teamOF_test, pred))\n",
    "print(\"score has %0.2f accuracy with a standard deviation of %0.2f\" % (scores.mean(), scores.std()))"
   ]
  },
  {
   "cell_type": "markdown",
   "id": "9a87faa2",
   "metadata": {},
   "source": [
    "## Learning curve"
   ]
  },
  {
   "cell_type": "code",
   "execution_count": null,
   "id": "fc54e44e",
   "metadata": {},
   "outputs": [],
   "source": [
    "\n",
    "fig, ax = pyplot.subplots(nrows=1, ncols=2, figsize=(10, 6), sharey=True)\n",
    "\n",
    "common_params = {\n",
    "    \"X\": teamIF,\n",
    "    \"y\": teamOF,\n",
    "    \"train_sizes\": np.linspace(0.1, 1.0, 5),\n",
    "    \"cv\": ShuffleSplit(n_splits=5, test_size=0.2, random_state=0),\n",
    "    \"score_type\": \"both\",\n",
    "    \"n_jobs\": 4,\n",
    "    \"line_kw\": {\"marker\": \"o\"},\n",
    "    \"std_display_style\": \"fill_between\",\n",
    "    \"score_name\": \"Accuracy\",\n",
    "}\n",
    "\n",
    "for ax_idx, estimator in enumerate([team_svm]):\n",
    "    LearningCurveDisplay.from_estimator(estimator, **common_params, ax=ax[ax_idx])\n",
    "    handles, label = ax[ax_idx].get_legend_handles_labels()\n",
    "    ax[ax_idx].legend(handles[:2], [\"Training Score\", \"Test Score\"])\n",
    "    ax[ax_idx].set_title(f\"Learning Curve for SVM\")"
   ]
  },
  {
   "cell_type": "markdown",
   "id": "00e2dab9",
   "metadata": {},
   "source": [
    "## validation curve"
   ]
  },
  {
   "cell_type": "code",
   "execution_count": null,
   "id": "b7f0df2f",
   "metadata": {},
   "outputs": [],
   "source": [
    "X, y = teamIF, teamOF\n",
    "\n",
    "param_range = np.logspace(-6, -1, 5)\n",
    "train_scores, test_scores = validation_curve(\n",
    "    league_svm,\n",
    "    X,\n",
    "    y,\n",
    "    param_name=\"gamma\",\n",
    "    param_range=param_range,\n",
    "    scoring=\"accuracy\",\n",
    "    n_jobs=2,\n",
    ")\n",
    "train_scores_mean = np.mean(train_scores, axis=1)\n",
    "train_scores_std = np.std(train_scores, axis=1)\n",
    "test_scores_mean = np.mean(test_scores, axis=1)\n",
    "test_scores_std = np.std(test_scores, axis=1)\n",
    "\n",
    "pyplot.title(\"Validation Curve\")\n",
    "pyplot.xlabel(r\"$\\gamma$\")\n",
    "pyplot.ylabel(\"Accuracy\")\n",
    "pyplot.ylim(0.0, 1.1)\n",
    "lw = 2\n",
    "pyplot.semilogx(\n",
    "    param_range, train_scores_mean, label=\"Training score\", color=\"darkorange\", lw=lw\n",
    ")\n",
    "pyplot.fill_between(\n",
    "    param_range,\n",
    "    train_scores_mean - train_scores_std,\n",
    "    train_scores_mean + train_scores_std,\n",
    "    alpha=0.2,\n",
    "    color=\"darkorange\",\n",
    "    lw=lw,\n",
    ")\n",
    "pyplot.semilogx(\n",
    "    param_range, test_scores_mean, label=\"Cross-validation score\", color=\"navy\", lw=lw\n",
    ")\n",
    "pyplot.fill_between(\n",
    "    param_range,\n",
    "    test_scores_mean - test_scores_std,\n",
    "    test_scores_mean + test_scores_std,\n",
    "    alpha=0.2,\n",
    "    color=\"navy\",\n",
    "    lw=lw,\n",
    ")\n",
    "pyplot.legend(loc=\"best\")\n",
    "pyplot.show()"
   ]
  },
  {
   "cell_type": "markdown",
   "id": "751a4805",
   "metadata": {
    "id": "lounAJ4nTrnS"
   },
   "source": [
    "temp"
   ]
  },
  {
   "cell_type": "markdown",
   "id": "6d1cea78",
   "metadata": {
    "id": "23c73ad1-a393-4f65-89fa-b8e4dce43bb3"
   },
   "source": [
    "**Trained on single team tested on another team (without outlier removal)**"
   ]
  },
  {
   "cell_type": "code",
   "execution_count": null,
   "id": "e58651db",
   "metadata": {
    "id": "5c6432c1-503c-48b2-8571-4a58b8152ad3",
    "outputId": "e2dd7695-a161-41a2-8167-f9271ae1ba60"
   },
   "outputs": [],
   "source": [
    "g = pull_team('GSW',df)\n",
    "g = clean_team(g)\n",
    "gswIF = g.drop(['WL_HOME', 'GAME_ID', 'GAME_DATE', 'TEAM_ABBREVIATION_HOME',\n",
    "                        'TEAM_ABBREVIATION_AWAY', 'PTS_PAINT_HOME', 'PTS_PAINT_AWAY',\n",
    "                        'PTS_2ND_CHANCE_AWAY','PTS_2ND_CHANCE_AWAY'], axis=1)\n",
    "gswOF = g.WL_HOME"
   ]
  },
  {
   "cell_type": "code",
   "execution_count": null,
   "id": "78a681d9",
   "metadata": {
    "id": "7a15639d-9828-4025-b6f4-32637edf920f"
   },
   "outputs": [],
   "source": [
    "gswIF_train, gswIF_test, gswOF_train, gswOF_test = train_test_split(gswIF, gswOF, test_size=.25)\n",
    "scale = MinMaxScaler()\n",
    "scale.fit(gswIF_train)\n",
    "gswIF_train_scale = scale.transform(gswIF_train)\n",
    "gswIF_test_scale = scale.transform(gswIF_test)"
   ]
  },
  {
   "cell_type": "code",
   "execution_count": null,
   "id": "362839c6",
   "metadata": {
    "id": "591fd537-d8e2-4fee-823b-6d21fc9873ad",
    "outputId": "efcd957e-c175-4387-be61-4b8212bd6014"
   },
   "outputs": [],
   "source": [
    "pred = team_svm.predict(gswIF_test_scale)\n",
    "scores = cross_val_score(team_svm, teamIF, teamOF, cv=5)\n",
    "print(classification_report(gswOF_test, pred))\n",
    "print(\"score has %0.2f accuracy with a standard deviation of %0.2f\" % (scores.mean(), scores.std()))"
   ]
  },
  {
   "cell_type": "markdown",
   "id": "051d06d7",
   "metadata": {},
   "source": [
    "temp"
   ]
  },
  {
   "cell_type": "code",
   "execution_count": null,
   "id": "651feeb4",
   "metadata": {
    "id": "830ba745-925d-4ddb-a407-5a538e24daca",
    "outputId": "8245b2e9-7026-4ddc-a9c2-f75fcd5cadc5"
   },
   "outputs": [],
   "source": [
    "pred = team_svm.predict(gswIF_test_scale)\n",
    "scores = cross_val_score(team_svm, teamIF, teamOF, cv=5)\n",
    "print(classification_report(gswOF_test, pred))\n",
    "print(\"score has %0.2f accuracy with a standard deviation of %0.2f\" % (scores.mean(), scores.std()))"
   ]
  },
  {
   "cell_type": "markdown",
   "id": "c8e83a6a",
   "metadata": {
    "id": "3f943ab1-1619-4d97-b6b0-6d30a4c1b70e"
   },
   "source": [
    "**Trained on single team tested on single team (wtih outlier removal)**"
   ]
  },
  {
   "cell_type": "code",
   "execution_count": null,
   "id": "1faf6ccc",
   "metadata": {
    "id": "750bc3f8-903b-4c9a-8c45-f0b85c6a96f6",
    "outputId": "9d52419b-838a-4e8b-a46a-9d467b63370d"
   },
   "outputs": [],
   "source": [
    "x = remove_outliers(x)\n",
    "teamIF = x.drop(['WL_HOME', 'GAME_ID', 'GAME_DATE', 'TEAM_ABBREVIATION_HOME',\n",
    "                        'TEAM_ABBREVIATION_AWAY', 'PTS_PAINT_HOME', 'PTS_PAINT_AWAY',\n",
    "                        'PTS_2ND_CHANCE_AWAY','PTS_2ND_CHANCE_AWAY'], axis=1)\n",
    "teamOF = x.WL_HOME\n",
    "teamIF_train, teamIF_test, teamOF_train, teamOF_test = train_test_split(teamIF, teamOF, test_size=.25)\n",
    "scale = MinMaxScaler()\n",
    "scale.fit(teamIF_train)\n",
    "teamIF_train_scale = scale.transform(teamIF_train)\n",
    "teamIF_test_scale = scale.transform(teamIF_test)\n",
    "temp = SVC()\n",
    "temp.fit(teamIF_train_scale, teamOF_train)\n",
    "#pred = team_svm.predict(teamIF_test_scale)\n",
    "pred = temp.predict(teamIF_test_scale)\n",
    "scores = cross_val_score(team_svm, teamIF, teamOF, cv=5)\n",
    "print(classification_report(teamOF_test, pred))\n",
    "print(\"score has %0.2f accuracy with a standard deviation of %0.2f\" % (scores.mean(), scores.std()))"
   ]
  },
  {
   "cell_type": "markdown",
   "id": "ea70e721",
   "metadata": {
    "id": "b8OSV7lfVtWS"
   },
   "source": [
    "temp"
   ]
  },
  {
   "cell_type": "markdown",
   "id": "bf9e03f3",
   "metadata": {
    "id": "2b0be3d1-241e-4e38-ab33-2c96c55bb124"
   },
   "source": [
    "**Trained on single team tested on another team (with outlier removal)**"
   ]
  },
  {
   "cell_type": "code",
   "execution_count": null,
   "id": "321feceb",
   "metadata": {
    "id": "ae4c7cd5-913b-4e92-899a-4034aed23b3d",
    "outputId": "618cc865-4fc5-4093-ed59-4d321358a3a2"
   },
   "outputs": [],
   "source": [
    "g = remove_outliers(g)\n",
    "gswIF = g.drop(['WL_HOME', 'GAME_ID', 'GAME_DATE', 'TEAM_ABBREVIATION_HOME',\n",
    "                    'TEAM_ABBREVIATION_AWAY'], axis=1)\n",
    "gswOF = g.WL_HOME\n",
    "pred = team_svm.predict(gswIF_test_scale)\n",
    "scores = cross_val_score(team_svm, gswIF, gswOF, cv=5)\n",
    "print(classification_report(gswOF_test, pred))\n",
    "print(\"score has %0.2f accuracy with a standard deviation of %0.2f\" % (scores.mean(), scores.std()))"
   ]
  }
 ],
 "metadata": {
  "colab": {
   "provenance": []
  },
  "kernelspec": {
   "display_name": "Python 3 (ipykernel)",
   "language": "python",
   "name": "python3"
  },
  "language_info": {
   "codemirror_mode": {
    "name": "ipython",
    "version": 3
   },
   "file_extension": ".py",
   "mimetype": "text/x-python",
   "name": "python",
   "nbconvert_exporter": "python",
   "pygments_lexer": "ipython3",
   "version": "3.9.13"
  }
 },
 "nbformat": 4,
 "nbformat_minor": 5
}
