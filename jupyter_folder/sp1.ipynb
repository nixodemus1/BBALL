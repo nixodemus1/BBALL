{
  "cells": [
    {
      "cell_type": "markdown",
      "id": "79111278-1381-40be-87f7-e14fb19f76ff",
      "metadata": {
        "id": "79111278-1381-40be-87f7-e14fb19f76ff"
      },
      "source": [
        "# Senior Project 1 Presentation\n",
        "Authors: Ismail Conze (Leader/ Analyzer), Kalyn Matthews (Document Facilitator), Nick Chowa (Data Interpreter)"
      ]
    },
    {
      "cell_type": "markdown",
      "id": "29b75beb-2a23-487a-9dc6-056cd51df5b5",
      "metadata": {
        "id": "29b75beb-2a23-487a-9dc6-056cd51df5b5"
      },
      "source": [
        "## Introduction"
      ]
    },
    {
      "cell_type": "markdown",
      "id": "ed22a191-5849-40b6-b30d-164786ed75be",
      "metadata": {
        "id": "ed22a191-5849-40b6-b30d-164786ed75be"
      },
      "source": [
        "Our Live onLine statistical analysis will serve as a moderately equipped NBA game predictor using reliable basketball stats as well as potent history, to heighten the fantasy league experience. The world of betting as we know it has relied heavily on the ability to make concise hypotheses of favorable teams/opponents. To which partner(s) and I sought to fulfill through the increased use of machine learning and selective features. \n",
        "\n",
        "Aside from the research already conducted, partners & I followed an independent approach that emphasized the importance of outlier recognition and filtration respective to team analysis. H"
      ]
    },
    {
      "cell_type": "markdown",
      "id": "bd25a16d-f649-402b-89e3-dda6ee24d0a0",
      "metadata": {
        "id": "bd25a16d-f649-402b-89e3-dda6ee24d0a0"
      },
      "source": [
        "## Methodology"
      ]
    },
    {
      "cell_type": "markdown",
      "id": "66097af6-afd7-4d6b-9742-e568af1eaa1f",
      "metadata": {
        "id": "66097af6-afd7-4d6b-9742-e568af1eaa1f"
      },
      "source": [
        "The data for our study was obtained from a publicly available sqlite database on Kaggle. This dataset is titled “Basketball Dataset” and contains stats pulled directly from the NBA API. These stats range from 1946 to the 2020 season. Looking more closely into the determination of appropriate sizing for our specific dataset we referenced the acceptable size for test sets ranging between 20-25% of the total observations."
      ]
    },
    {
      "cell_type": "markdown",
      "id": "275ceba4-f1b0-42c4-9bf8-e82e815f1aba",
      "metadata": {
        "id": "275ceba4-f1b0-42c4-9bf8-e82e815f1aba"
      },
      "source": [
        "## Preprocessing"
      ]
    },
    {
      "cell_type": "markdown",
      "id": "c175d22a-2e6c-4d84-b761-d842065d5423",
      "metadata": {
        "id": "c175d22a-2e6c-4d84-b761-d842065d5423"
      },
      "source": []
    },
    {
      "cell_type": "code",
      "execution_count": 3,

      "id": "671cfe50-c113-4745-872c-a0983996e2df",
      "metadata": {
        "id": "671cfe50-c113-4745-872c-a0983996e2df"
      },
      "outputs": [],
      "source": [
        "import numpy as np\n",
        "import pandas as pd\n",
        "import matplotlib.pyplot as pyplot\n",
        "from sklearn.impute import SimpleImputer\n",
        "from sklearn.preprocessing import MinMaxScaler\n",
        "from sklearn.metrics import confusion_matrix, ConfusionMatrixDisplay, classification_report\n",
        "from sklearn.model_selection import train_test_split\n",
        "from sklearn.svm import SVC\n",
        "from sklearn.model_selection import cross_val_score, cross_val_predict"
      ]
    },
    {
      "cell_type": "markdown",
      "id": "577eda72-13fe-4cd7-aab5-42d415c43e5b",
      "metadata": {
        "id": "577eda72-13fe-4cd7-aab5-42d415c43e5b"
      },
      "source": [
        "### Functions"
      ]
    },
    {
      "cell_type": "markdown",
      "id": "fef8656f-db8f-46b9-9ec8-7c401b694343",
      "metadata": {
        "id": "fef8656f-db8f-46b9-9ec8-7c401b694343"
      },
      "source": [
        "Takes in a dataframe and team name, returns a dataframe containing all of the games for the requested team."
      ]
    },
    {
      "cell_type": "code",
      "execution_count": 4,
      "id": "02196a99-2a6f-4906-9d4c-7af2be8913e8",
      "metadata": {
        "id": "02196a99-2a6f-4906-9d4c-7af2be8913e8"
      },
      "outputs": [],
      "source": [
        "def pull_team(team, games):\n",
        "    teams_games = games.loc[(games['TEAM_ABBREVIATION_HOME'] == team) |\n",
        "                            (games['TEAM_ABBREVIATION_AWAY'] == team)]\n",
        "    print('Number of games')\n",
        "    print(len(teams_games))\n",
        "    return teams_games\n"
      ]
    },
    {
      "cell_type": "markdown",
      "id": "39272297-bc3f-40df-bb54-52ce4209c860",
      "metadata": {
        "id": "39272297-bc3f-40df-bb54-52ce4209c860"
      },
      "source": [
        "Returns the indices and values of all elements considered outliers by the tukey method."
      ]
    },
    {
      "cell_type": "code",
      "execution_count": 5,
      "id": "d3d31546-999b-49ca-876e-c56c83c0590e",
      "metadata": {
        "id": "d3d31546-999b-49ca-876e-c56c83c0590e"
      },
      "outputs": [],
      "source": [
        "def find_outliers(x):\n",
        "    q1 = np.percentile(x, 25)\n",
        "    q3 = np.percentile(x, 75)\n",
        "    iqr = q3 - q1\n",
        "    floor = q1 - 1.5 * iqr\n",
        "    ceiling = q3 + 1.5 * iqr\n",
        "    outlier_indices = list(x.index[(x < floor) | (x > ceiling)])\n",
        "    outlier_values = list(x[outlier_indices])\n",
        "    return outlier_indices, outlier_values"
      ]
    },
    {
      "cell_type": "markdown",
      "id": "ae0e1a32-5af4-4b68-b528-74f8008db0e2",
      "metadata": {
        "id": "ae0e1a32-5af4-4b68-b528-74f8008db0e2"
      },
      "source": [
        "drops the indices of games containing outliers in a statistical category"
      ]
    },
    {
      "cell_type": "code",
      "execution_count": 6,
      "id": "0664d473-9d24-4a96-b04f-12a363983c86",
      "metadata": {
        "id": "0664d473-9d24-4a96-b04f-12a363983c86"
      },
      "outputs": [],
      "source": [
        "def remove_outliers(x):\n",
        "    indices = []\n",
        "    for c in x.columns:\n",
        "        if not x[c].map(type).eq(str).any():\n",
        "            if not c == \"GAME_ID\" or c == \"GAME_DATE\":\n",
        "                indices += find_outliers(x[c])[0]\n",
        "    x = x.drop(indices)\n",
        "    return x"
      ]
    },
    {
      "cell_type": "markdown",
      "id": "62385f65-1bbf-4e88-bc4d-8bca85cde05e",
      "metadata": {
        "id": "62385f65-1bbf-4e88-bc4d-8bca85cde05e"
      },
      "source": [
        "Separates teams into numerical and string columns, replaces missing numerical values with the median value of the statistic, and puts the two types of dataframes back together"
      ]
    },
    {
      "cell_type": "code",
      "execution_count": 7,
      "id": "21e16b80-1602-441c-90cd-b1b4d2fbfb0f",
      "metadata": {
        "id": "21e16b80-1602-441c-90cd-b1b4d2fbfb0f"
      },
      "outputs": [],
      "source": [
        "def clean_team(x):\n",
        "    # separate numerical features and categorical features\n",
        "    categorical_columns = []\n",
        "    numeric_columns = []\n",
        "    for c in x.columns:\n",
        "        if x[c].map(type).eq(str).any():\n",
        "            categorical_columns.append(c)\n",
        "        else:\n",
        "            numeric_columns.append(c)\n",
        "\n",
        "    # create two dataframes to hold the two types\n",
        "    data_numeric = x[numeric_columns]\n",
        "    data_categorical = pd.DataFrame(x[categorical_columns])\n",
        "\n",
        "    # replace missing values in numerical columns with median and then add the two types back together\n",
        "    imp = SimpleImputer(missing_values=np.nan, strategy='mean')\n",
        "    data_numeric = pd.DataFrame(imp.fit_transform(data_numeric), columns=data_numeric.columns, index=data_numeric.index)\n",
        "    x = pd.concat([data_numeric, data_categorical], axis=1)\n",
        "    return x"
      ]
    },
    {
      "cell_type": "markdown",
      "id": "5f44ce48-902f-4888-82e8-32113f2dbe11",
      "metadata": {
        "id": "5f44ce48-902f-4888-82e8-32113f2dbe11"
      },
      "source": [
        "### Process"
      ]
    },
    {
      "cell_type": "markdown",
      "id": "87b4ba02-210f-432d-85fa-29c64e62fd0e",
      "metadata": {
        "id": "87b4ba02-210f-432d-85fa-29c64e62fd0e"
      },
      "source": [
        "Read in the csv file containing game data and convert the win/loss column to "
      ]
    },
    {
      "cell_type": "code",
      "execution_count": 8,
      "id": "f28e6245-5919-46a0-a7ad-8abfcae9dcc0",
      "metadata": {
        "id": "f28e6245-5919-46a0-a7ad-8abfcae9dcc0"
      },
      "outputs": [],
      "source": [
        " df = pd.read_csv('games.csv')\n",
        " df['WL_HOME'] = [0 if x == 'L' else 1 for x in df['WL_HOME']]"
      ]
    },
    {
      "cell_type": "markdown",
      "id": "f33b5c92-b892-4818-ab62-d209cef5045f",
      "metadata": {
        "id": "f33b5c92-b892-4818-ab62-d209cef5045f"
      },
      "source": [
        "Here we create a subeset of the dataset containing all of the games for the selected team from the dataset. We then check for any missing values in the dataframe and replace them with that team's average performance for that category. After doing so we check again for missing values to ensure that there are none."
      ]
    },
    {
      "cell_type": "code",
      "execution_count": 9,
      "id": "7d38452f-28df-4125-abae-44ccea01609d",
      "metadata": {
        "id": "7d38452f-28df-4125-abae-44ccea01609d",
        "outputId": "5148992b-93a3-432b-fe26-f68c5ee7ee27",
        "colab": {
          "base_uri": "https://localhost:8080/"
        }
      },
      "outputs": [
        {
          "output_type": "stream",
          "name": "stdout",
          "text": [
            "Number of games\n",
            "411\n",
            "Missing Values GAME_ID                     0\n",
            "GAME_DATE                   0\n",
            "TEAM_ABBREVIATION_HOME      0\n",
            "TEAM_ABBREVIATION_HOME.1    0\n",
            "FGM_HOME                    0\n",
            "FGA_HOME                    0\n",
            "FG_PCT_HOME                 0\n",
            "FG3M_HOME                   0\n",
            "FG3A_HOME                   0\n",
            "FG3_PCT_HOME                0\n",
            "FTM_HOME                    0\n",
            "FTA_HOME                    0\n",
            "FT_PCT_HOME                 0\n",
            "OREB_HOME                   0\n",
            "DREB_HOME                   0\n",
            "REB_HOME                    0\n",
            "AST_HOME                    0\n",
            "STL_HOME                    0\n",
            "BLK_HOME                    0\n",
            "TOV_HOME                    0\n",
            "PF_HOME                     0\n",
            "PTS_HOME                    0\n",
            "PTS_2ND_CHANCE_HOME         1\n",
            "PTS_PAINT_HOME              1\n",
            "TEAM_ABBREVIATION_AWAY      0\n",
            "FGM_AWAY                    0\n",
            "FGA_AWAY                    0\n",
            "FG_PCT_AWAY                 0\n",
            "FG3M_AWAY                   0\n",
            "FG3A_AWAY                   0\n",
            "FG3_PCT_AWAY                0\n",
            "FTM_AWAY                    0\n",
            "FTA_AWAY                    0\n",
            "FT_PCT_AWAY                 0\n",
            "OREB_AWAY                   0\n",
            "DREB_AWAY                   0\n",
            "REB_AWAY                    0\n",
            "AST_AWAY                    0\n",
            "STL_AWAY                    0\n",
            "BLK_AWAY                    0\n",
            "TOV_AWAY                    0\n",
            "PF_AWAY                     0\n",
            "PTS_AWAY                    0\n",
            "PTS_2ND_CHANCE_AWAY         1\n",
            "PTS_PAINT_AWAY              1\n",
            "MIN_HOME                    0\n",
            "ATTENDANCE                  1\n",
            "WL_HOME                     0\n",
            "dtype: int64\n",
            "Missing Values GAME_ID                     0\n",
            "FGM_HOME                    0\n",
            "FGA_HOME                    0\n",
            "FG_PCT_HOME                 0\n",
            "FG3M_HOME                   0\n",
            "FG3A_HOME                   0\n",
            "FG3_PCT_HOME                0\n",
            "FTM_HOME                    0\n",
            "FTA_HOME                    0\n",
            "FT_PCT_HOME                 0\n",
            "OREB_HOME                   0\n",
            "DREB_HOME                   0\n",
            "REB_HOME                    0\n",
            "AST_HOME                    0\n",
            "STL_HOME                    0\n",
            "BLK_HOME                    0\n",
            "TOV_HOME                    0\n",
            "PF_HOME                     0\n",
            "PTS_HOME                    0\n",
            "PTS_2ND_CHANCE_HOME         0\n",
            "PTS_PAINT_HOME              0\n",
            "FGM_AWAY                    0\n",
            "FGA_AWAY                    0\n",
            "FG_PCT_AWAY                 0\n",
            "FG3M_AWAY                   0\n",
            "FG3A_AWAY                   0\n",
            "FG3_PCT_AWAY                0\n",
            "FTM_AWAY                    0\n",
            "FTA_AWAY                    0\n",
            "FT_PCT_AWAY                 0\n",
            "OREB_AWAY                   0\n",
            "DREB_AWAY                   0\n",
            "REB_AWAY                    0\n",
            "AST_AWAY                    0\n",
            "STL_AWAY                    0\n",
            "BLK_AWAY                    0\n",
            "TOV_AWAY                    0\n",
            "PF_AWAY                     0\n",
            "PTS_AWAY                    0\n",
            "PTS_2ND_CHANCE_AWAY         0\n",
            "PTS_PAINT_AWAY              0\n",
            "MIN_HOME                    0\n",
            "ATTENDANCE                  0\n",
            "WL_HOME                     0\n",
            "GAME_DATE                   0\n",
            "TEAM_ABBREVIATION_HOME      0\n",
            "TEAM_ABBREVIATION_HOME.1    0\n",
            "TEAM_ABBREVIATION_AWAY      0\n",
            "dtype: int64\n"
          ]
        }
      ],
      "source": [
        "x = pull_team(\"MIN\", df)\n",
        "print('Missing Values', x.isnull().sum())\n",
        "x = clean_team(x)\n",
        "print('Missing Values', x.isnull().sum())\n",
        "x = remove_outliers(x)"
      ]
    },
    {
      "cell_type": "markdown",
      "id": "7b82ff84-dc4c-42b7-b632-642d523ac7c6",
      "metadata": {
        "id": "7b82ff84-dc4c-42b7-b632-642d523ac7c6"
      },
      "source": [
        "Drops columns of identifying information that does not affect outcome and separates the outcome into a separate dataframe."
      ]
    },
    {
      "cell_type": "code",
      "execution_count": 10,
      "id": "e8d962e1-bb96-4180-b84c-615e9b99759b",
      "metadata": {
        "id": "e8d962e1-bb96-4180-b84c-615e9b99759b"
      },
      "outputs": [],
      "source": [
        "teamIF = x.drop(['WL_HOME', 'GAME_ID', 'GAME_DATE', 'TEAM_ABBREVIATION_HOME.1', 'TEAM_ABBREVIATION_HOME',\n",
        "                     'TEAM_ABBREVIATION_AWAY'], axis=1)\n",
        "teamOF = x.WL_HOME"
      ]
    },
    {
      "cell_type": "code",
      "execution_count": 11,
      "id": "409f0947-a8ef-4d32-ae8c-8ea43a450f00",
      "metadata": {
        "id": "409f0947-a8ef-4d32-ae8c-8ea43a450f00",
        "outputId": "eed20fc4-dea7-4059-ea03-e2f6ed2838fd",
        "colab": {
          "base_uri": "https://localhost:8080/"
        }
      },
      "outputs": [
        {
          "output_type": "stream",
          "name": "stdout",
          "text": [
            "      FGM_HOME  FGA_HOME  FG_PCT_HOME  FG3M_HOME  FG3A_HOME  FG3_PCT_HOME  \\\n",
            "14        43.0      82.0        0.524        4.0       15.0         0.267   \n",
            "19        37.0      76.0        0.487        4.0       10.0         0.400   \n",
            "33        38.0      85.0        0.447        4.0       12.0         0.333   \n",
            "59        36.0      82.0        0.439        8.0       21.0         0.381   \n",
            "85        41.0      78.0        0.526        5.0       13.0         0.385   \n",
            "...        ...       ...          ...        ...        ...           ...   \n",
            "6096      43.0      94.0        0.457        7.0       39.0         0.179   \n",
            "6113      43.0      86.0        0.500        8.0       24.0         0.333   \n",
            "6130      46.0      85.0        0.541       10.0       23.0         0.435   \n",
            "6140      38.0      91.0        0.418       13.0       42.0         0.310   \n",
            "6152      39.0      87.0        0.448       10.0       33.0         0.303   \n",
            "\n",
            "      FTM_HOME  FTA_HOME  FT_PCT_HOME  OREB_HOME  ...  AST_AWAY  STL_AWAY  \\\n",
            "14        15.0      20.0        0.750       10.0  ...      20.0       8.0   \n",
            "19        19.0      28.0        0.679       10.0  ...      20.0       3.0   \n",
            "33        25.0      31.0        0.806       13.0  ...      15.0       3.0   \n",
            "59        11.0      17.0        0.647        7.0  ...      22.0       9.0   \n",
            "85        15.0      17.0        0.882        6.0  ...      13.0       9.0   \n",
            "...        ...       ...          ...        ...  ...       ...       ...   \n",
            "6096      15.0      19.0        0.789       12.0  ...      26.0       6.0   \n",
            "6113      17.0      21.0        0.810        9.0  ...      24.0      10.0   \n",
            "6130      24.0      29.0        0.828        6.0  ...      27.0       6.0   \n",
            "6140      11.0      14.0        0.786        5.0  ...      24.0      10.0   \n",
            "6152      11.0      17.0        0.647       12.0  ...      24.0       6.0   \n",
            "\n",
            "      BLK_AWAY  TOV_AWAY  PF_AWAY  PTS_AWAY  PTS_2ND_CHANCE_AWAY  \\\n",
            "14         4.0      23.0     21.0     101.0                 17.0   \n",
            "19         5.0      12.0     24.0      91.0                 15.0   \n",
            "33         8.0      17.0     24.0     106.0                  8.0   \n",
            "59         4.0      13.0     21.0      98.0                 16.0   \n",
            "85         2.0      16.0     17.0      92.0                 25.0   \n",
            "...        ...       ...      ...       ...                  ...   \n",
            "6096       3.0      10.0     25.0     110.0                  4.0   \n",
            "6113       6.0      17.0     23.0     109.0                 15.0   \n",
            "6130       4.0      14.0     30.0     132.0                 21.0   \n",
            "6140       5.0      18.0     17.0     120.0                 11.0   \n",
            "6152       0.0      10.0     22.0      95.0                  9.0   \n",
            "\n",
            "      PTS_PAINT_AWAY  MIN_HOME  ATTENDANCE  \n",
            "14              34.0     240.0     17731.0  \n",
            "19              40.0     240.0     18296.0  \n",
            "33              34.0     240.0     19356.0  \n",
            "59              36.0     240.0     16302.0  \n",
            "85              48.0     240.0     19735.0  \n",
            "...              ...       ...         ...  \n",
            "6096            46.0     240.0     19576.0  \n",
            "6113            58.0     240.0     17763.0  \n",
            "6130            56.0     240.0     18978.0  \n",
            "6140            48.0     240.0     16119.0  \n",
            "6152            38.0     240.0     16332.0  \n",
            "\n",
            "[294 rows x 42 columns]\n",
            "14      1.0\n",
            "19      1.0\n",
            "33      0.0\n",
            "59      0.0\n",
            "85      1.0\n",
            "       ... \n",
            "6096    0.0\n",
            "6113    1.0\n",
            "6130    0.0\n",
            "6140    0.0\n",
            "6152    1.0\n",
            "Name: WL_HOME, Length: 294, dtype: float64\n"
          ]
        }
      ],
      "source": [
        "print(teamIF)\n",
        "print(teamOF)"
      ]
    },
    {
      "cell_type": "markdown",
      "id": "7c960e26-14e0-4296-ac4f-f5f1bfc802c6",
      "metadata": {
        "id": "7c960e26-14e0-4296-ac4f-f5f1bfc802c6"
      },
      "source": [
        "**Trained on full league, tested on single team (without outlier removal)**"
      ]
    },
    {
      "cell_type": "code",
      "execution_count": 12,
      "id": "adfd501b-0493-4c00-ac3c-b7d029c24f45",
      "metadata": {
        "id": "adfd501b-0493-4c00-ac3c-b7d029c24f45"
      },
      "outputs": [],
      "source": [
        "league = clean_team(df)\n",
        "leagueIF = league.drop(['WL_HOME', 'GAME_ID', 'GAME_DATE', 'TEAM_ABBREVIATION_HOME.1', 'TEAM_ABBREVIATION_HOME',\n",
        "                            'TEAM_ABBREVIATION_AWAY'], axis=1)\n",
        "leagueOF = league.WL_HOME"
      ]
    },
    {
      "cell_type": "code",
      "execution_count": 13,
      "id": "8da07578-e367-47fc-9607-4d30cef1871b",
      "metadata": {
        "id": "8da07578-e367-47fc-9607-4d30cef1871b",
        "colab": {
          "base_uri": "https://localhost:8080/",
          "height": 75
        },
        "outputId": "2368df49-5329-4e23-d780-3e6c273cf1d9"
      },
      "outputs": [
        {
          "output_type": "execute_result",
          "data": {
            "text/plain": [
              "SVC()"
            ],
            "text/html": [
              "<style>#sk-container-id-1 {color: black;background-color: white;}#sk-container-id-1 pre{padding: 0;}#sk-container-id-1 div.sk-toggleable {background-color: white;}#sk-container-id-1 label.sk-toggleable__label {cursor: pointer;display: block;width: 100%;margin-bottom: 0;padding: 0.3em;box-sizing: border-box;text-align: center;}#sk-container-id-1 label.sk-toggleable__label-arrow:before {content: \"▸\";float: left;margin-right: 0.25em;color: #696969;}#sk-container-id-1 label.sk-toggleable__label-arrow:hover:before {color: black;}#sk-container-id-1 div.sk-estimator:hover label.sk-toggleable__label-arrow:before {color: black;}#sk-container-id-1 div.sk-toggleable__content {max-height: 0;max-width: 0;overflow: hidden;text-align: left;background-color: #f0f8ff;}#sk-container-id-1 div.sk-toggleable__content pre {margin: 0.2em;color: black;border-radius: 0.25em;background-color: #f0f8ff;}#sk-container-id-1 input.sk-toggleable__control:checked~div.sk-toggleable__content {max-height: 200px;max-width: 100%;overflow: auto;}#sk-container-id-1 input.sk-toggleable__control:checked~label.sk-toggleable__label-arrow:before {content: \"▾\";}#sk-container-id-1 div.sk-estimator input.sk-toggleable__control:checked~label.sk-toggleable__label {background-color: #d4ebff;}#sk-container-id-1 div.sk-label input.sk-toggleable__control:checked~label.sk-toggleable__label {background-color: #d4ebff;}#sk-container-id-1 input.sk-hidden--visually {border: 0;clip: rect(1px 1px 1px 1px);clip: rect(1px, 1px, 1px, 1px);height: 1px;margin: -1px;overflow: hidden;padding: 0;position: absolute;width: 1px;}#sk-container-id-1 div.sk-estimator {font-family: monospace;background-color: #f0f8ff;border: 1px dotted black;border-radius: 0.25em;box-sizing: border-box;margin-bottom: 0.5em;}#sk-container-id-1 div.sk-estimator:hover {background-color: #d4ebff;}#sk-container-id-1 div.sk-parallel-item::after {content: \"\";width: 100%;border-bottom: 1px solid gray;flex-grow: 1;}#sk-container-id-1 div.sk-label:hover label.sk-toggleable__label {background-color: #d4ebff;}#sk-container-id-1 div.sk-serial::before {content: \"\";position: absolute;border-left: 1px solid gray;box-sizing: border-box;top: 0;bottom: 0;left: 50%;z-index: 0;}#sk-container-id-1 div.sk-serial {display: flex;flex-direction: column;align-items: center;background-color: white;padding-right: 0.2em;padding-left: 0.2em;position: relative;}#sk-container-id-1 div.sk-item {position: relative;z-index: 1;}#sk-container-id-1 div.sk-parallel {display: flex;align-items: stretch;justify-content: center;background-color: white;position: relative;}#sk-container-id-1 div.sk-item::before, #sk-container-id-1 div.sk-parallel-item::before {content: \"\";position: absolute;border-left: 1px solid gray;box-sizing: border-box;top: 0;bottom: 0;left: 50%;z-index: -1;}#sk-container-id-1 div.sk-parallel-item {display: flex;flex-direction: column;z-index: 1;position: relative;background-color: white;}#sk-container-id-1 div.sk-parallel-item:first-child::after {align-self: flex-end;width: 50%;}#sk-container-id-1 div.sk-parallel-item:last-child::after {align-self: flex-start;width: 50%;}#sk-container-id-1 div.sk-parallel-item:only-child::after {width: 0;}#sk-container-id-1 div.sk-dashed-wrapped {border: 1px dashed gray;margin: 0 0.4em 0.5em 0.4em;box-sizing: border-box;padding-bottom: 0.4em;background-color: white;}#sk-container-id-1 div.sk-label label {font-family: monospace;font-weight: bold;display: inline-block;line-height: 1.2em;}#sk-container-id-1 div.sk-label-container {text-align: center;}#sk-container-id-1 div.sk-container {/* jupyter's `normalize.less` sets `[hidden] { display: none; }` but bootstrap.min.css set `[hidden] { display: none !important; }` so we also need the `!important` here to be able to override the default hidden behavior on the sphinx rendered scikit-learn.org. See: https://github.com/scikit-learn/scikit-learn/issues/21755 */display: inline-block !important;position: relative;}#sk-container-id-1 div.sk-text-repr-fallback {display: none;}</style><div id=\"sk-container-id-1\" class=\"sk-top-container\"><div class=\"sk-text-repr-fallback\"><pre>SVC()</pre><b>In a Jupyter environment, please rerun this cell to show the HTML representation or trust the notebook. <br />On GitHub, the HTML representation is unable to render, please try loading this page with nbviewer.org.</b></div><div class=\"sk-container\" hidden><div class=\"sk-item\"><div class=\"sk-estimator sk-toggleable\"><input class=\"sk-toggleable__control sk-hidden--visually\" id=\"sk-estimator-id-1\" type=\"checkbox\" checked><label for=\"sk-estimator-id-1\" class=\"sk-toggleable__label sk-toggleable__label-arrow\">SVC</label><div class=\"sk-toggleable__content\"><pre>SVC()</pre></div></div></div></div></div>"
            ]
          },
          "metadata": {},
          "execution_count": 13
        }
      ],
      "source": [
        "leagueIF_train, leagueIF_test, leagueOF_train, leagueOF_test = train_test_split(leagueIF, leagueOF, test_size=.20)\n",
        "scale = MinMaxScaler()\n",
        "scale.fit(leagueIF_train)\n",
        "leagueIF_train_scale = scale.transform(leagueIF_train)\n",
        "leagueIF_test_scale = scale.transform(leagueIF_test)\n",
        "league_svm = SVC()\n",
        "league_svm.fit(leagueIF_train_scale, leagueOF_train)"
      ]
    },
    {
      "cell_type": "code",
      "execution_count": 14,
      "id": "f088500a-f7d0-46f5-a0af-988742b5dd07",
      "metadata": {
        "id": "f088500a-f7d0-46f5-a0af-988742b5dd07",
        "outputId": "19703735-6d17-45d8-f65a-3f729fd8e96c",
        "colab": {
          "base_uri": "https://localhost:8080/"
        }
      },
      "outputs": [
        {
          "output_type": "stream",
          "name": "stdout",
          "text": [
            "Number of games\n",
            "411\n"
          ]
        }
      ],
      "source": [
        "x = pull_team(\"MIN\", df)\n",
        "x = clean_team(x)\n",
        "teamIF = x.drop(['WL_HOME', 'GAME_ID', 'GAME_DATE', 'TEAM_ABBREVIATION_HOME.1', 'TEAM_ABBREVIATION_HOME',\n",
        "                     'TEAM_ABBREVIATION_AWAY'], axis=1)\n",
        "teamOF = x.WL_HOME"
      ]
    },
    {
      "cell_type": "code",
      "execution_count": 15,
      "id": "e9cef1d6-ffc9-47f5-9deb-d8fabb496b2c",
      "metadata": {
        "id": "e9cef1d6-ffc9-47f5-9deb-d8fabb496b2c"
      },
      "outputs": [],
      "source": [
        "teamIF_train, teamIF_test, teamOF_train, teamOF_test = train_test_split(teamIF, teamOF, test_size=.25)\n",
        "scale = MinMaxScaler()\n",
        "scale.fit(teamIF_train)\n",
        "teamIF_train_scale = scale.transform(teamIF_train)\n",
        "teamIF_test_scale = scale.transform(teamIF_test)"
      ]
    },
    {
      "cell_type": "code",
      "execution_count": 16,
      "id": "460db92b-70c9-4abc-836f-8d52c180d5dc",
      "metadata": {
        "id": "460db92b-70c9-4abc-836f-8d52c180d5dc"
      },
      "outputs": [],
      "source": [
        "pred = league_svm.predict(teamIF_test_scale)"
      ]
    },
    {
      "cell_type": "code",
      "execution_count": 17,
      "id": "88b10623-1e9a-4d44-b10b-d3bac22c5728",
      "metadata": {
        "id": "88b10623-1e9a-4d44-b10b-d3bac22c5728",
        "outputId": "e809a94a-bcd8-4414-d52c-ee051f310270",
        "colab": {
          "base_uri": "https://localhost:8080/"
        }
      },
      "outputs": [
        {
          "output_type": "stream",
          "name": "stdout",
          "text": [
            "              precision    recall  f1-score   support\n",
            "\n",
            "         0.0       0.95      1.00      0.98        42\n",
            "         1.0       1.00      0.97      0.98        61\n",
            "\n",
            "    accuracy                           0.98       103\n",
            "   macro avg       0.98      0.98      0.98       103\n",
            "weighted avg       0.98      0.98      0.98       103\n",
            "\n",
            "0.9805825242718447\n"
          ]
        }
      ],
      "source": [
        "scores = cross_val_score(league_svm, teamIF, teamOF, cv=5)\n",
        "print(classification_report(teamOF_test, pred))\n",
        "print(league_svm.score(teamIF_test_scale, teamOF_test))"
      ]
    },
    {
      "cell_type": "markdown",
      "source": [
        "so we train our SVM on the entire league and try to use that data to then predict the outcome for a single team. this is our baseline standard with the accuracy being at 85%. this is post pruning of outliars. "
      ],
      "metadata": {
        "id": "tQk7YyNsS_xw"
      },
      "id": "tQk7YyNsS_xw"
    },
    {
      "cell_type": "markdown",
      "id": "d959535a-dd35-409c-b620-f29df573a6f0",
      "metadata": {
        "id": "d959535a-dd35-409c-b620-f29df573a6f0"
      },
      "source": [
        "**Trained on single team test on single team (without outlier removal)**"
      ]
    },
    {
      "cell_type": "code",
      "execution_count": 18,
      "id": "9c4d93b6-beab-47ba-8438-8fb1799a2a32",
      "metadata": {
        "id": "9c4d93b6-beab-47ba-8438-8fb1799a2a32"
      },
      "outputs": [],
      "source": [
        "team_svm = SVC()\n",
        "team_svm.fit(teamIF_train_scale, teamOF_train)\n",
        "pred = team_svm.predict(teamIF_test_scale)"
      ]
    },
    {
      "cell_type": "code",
      "execution_count": 19,
      "id": "5cfee274-8e28-4704-9c41-27adead260d1",
      "metadata": {
        "id": "5cfee274-8e28-4704-9c41-27adead260d1",
        "colab": {
          "base_uri": "https://localhost:8080/"
        },
        "outputId": "e7bd7f19-75a3-4c3a-f31b-04a255283d96"
      },
      "outputs": [
        {
          "output_type": "stream",
          "name": "stdout",
          "text": [
            "score has 0.57 accuracy with a standard deviation of 0.04\n"
          ]
        }
      ],
      "source": [
        "scores = cross_val_score(team_svm, teamIF, teamOF, cv=5)\n",
        "print(\"score has %0.2f accuracy with a standard deviation of %0.2f\" % (scores.mean(), scores.std()))"
      ]
    },
    {
      "cell_type": "code",
      "execution_count": 20,
      "id": "339e00c6-a70d-4cae-a20e-0ae0fbb8e425",
      "metadata": {
        "id": "339e00c6-a70d-4cae-a20e-0ae0fbb8e425",
        "outputId": "e7783664-1d4e-4535-b5fc-4389ba32d2ab",
        "colab": {
          "base_uri": "https://localhost:8080/"
        }
      },
      "outputs": [
        {
          "output_type": "stream",
          "name": "stdout",
          "text": [
            "              precision    recall  f1-score   support\n",
            "\n",
            "         0.0       1.00      0.81      0.89        42\n",
            "         1.0       0.88      1.00      0.94        61\n",
            "\n",
            "    accuracy                           0.92       103\n",
            "   macro avg       0.94      0.90      0.92       103\n",
            "weighted avg       0.93      0.92      0.92       103\n",
            "\n",
            "0.5922330097087378\n"
          ]
        },
        {
          "output_type": "stream",
          "name": "stderr",
          "text": [
            "/usr/local/lib/python3.9/dist-packages/sklearn/base.py:432: UserWarning: X has feature names, but SVC was fitted without feature names\n",
            "  warnings.warn(\n"
          ]
        }
      ],
      "source": [
        "print(classification_report(teamOF_test, pred))\n",
        "print(team_svm.score(teamIF_test, teamOF_test))"
      ]
    },
    {
      "cell_type": "markdown",
      "source": [
        "Here we now train the SVM on a single team and then test on that team. the F1 is great here at 93%. precision is also high at ~93%. this is cause we have tested on the team we traied and can assume that they will continue to preform the same. "
      ],
      "metadata": {
        "id": "lounAJ4nTrnS"
      },
      "id": "lounAJ4nTrnS"
    },
    {
      "cell_type": "markdown",
      "id": "23c73ad1-a393-4f65-89fa-b8e4dce43bb3",
      "metadata": {
        "id": "23c73ad1-a393-4f65-89fa-b8e4dce43bb3"
      },
      "source": [
        "**Trained on single team tested on another team (without outlier removal)**"
      ]
    },
    {
      "cell_type": "code",
      "execution_count": 21,
      "id": "5c6432c1-503c-48b2-8571-4a58b8152ad3",
      "metadata": {
        "id": "5c6432c1-503c-48b2-8571-4a58b8152ad3",
        "outputId": "a1755024-d07a-49c5-8ebe-974d17496a03",
        "colab": {
          "base_uri": "https://localhost:8080/"
        }
      },
      "outputs": [
        {
          "output_type": "stream",
          "name": "stdout",
          "text": [
            "Number of games\n",
            "410\n"
          ]
        }
      ],
      "source": [
        "g = pull_team('GSW',df)\n",
        "g = clean_team(g)\n",
        "gswIF = g.drop(['WL_HOME', 'GAME_ID', 'GAME_DATE', 'TEAM_ABBREVIATION_HOME.1', 'TEAM_ABBREVIATION_HOME',\n",
        "                    'TEAM_ABBREVIATION_AWAY'], axis=1)\n",
        "gswOF = g.WL_HOME"
      ]
    },
    {
      "cell_type": "code",
      "execution_count": 22,
      "id": "7a15639d-9828-4025-b6f4-32637edf920f",
      "metadata": {
        "id": "7a15639d-9828-4025-b6f4-32637edf920f"
      },
      "outputs": [],
      "source": [
        "gswIF_train, gswIF_test, gswOF_train, gswOF_test = train_test_split(gswIF, gswOF, test_size=.25)\n",
        "scale = MinMaxScaler()\n",
        "scale.fit(gswIF_train)\n",
        "gswIF_train_scale = scale.transform(gswIF_train)\n",
        "gswIF_test_scale = scale.transform(gswIF_test)"
      ]
    },
    {
      "cell_type": "code",
      "execution_count": 23,
      "id": "591fd537-d8e2-4fee-823b-6d21fc9873ad",
      "metadata": {
        "id": "591fd537-d8e2-4fee-823b-6d21fc9873ad",
        "outputId": "6665d87b-26d1-4437-bd2b-2e6c01df55f8",
        "colab": {
          "base_uri": "https://localhost:8080/"
        }
      },
      "outputs": [
        {
          "output_type": "stream",
          "name": "stdout",
          "text": [
            "              precision    recall  f1-score   support\n",
            "\n",
            "         0.0       1.00      0.85      0.92        47\n",
            "         1.0       0.89      1.00      0.94        56\n",
            "\n",
            "    accuracy                           0.93       103\n",
            "   macro avg       0.94      0.93      0.93       103\n",
            "weighted avg       0.94      0.93      0.93       103\n",
            "\n",
            "0.5436893203883495\n",
            "score has 0.57 accuracy with a standard deviation of 0.04\n"
          ]
        },
        {
          "output_type": "stream",
          "name": "stderr",
          "text": [
            "/usr/local/lib/python3.9/dist-packages/sklearn/base.py:432: UserWarning: X has feature names, but SVC was fitted without feature names\n",
            "  warnings.warn(\n"
          ]
        }
      ],
      "source": [
        "pred = team_svm.predict(gswIF_test_scale)\n",
        "scores = cross_val_score(team_svm, teamIF, teamOF, cv=5)\n",
        "print(classification_report(gswOF_test, pred))\n",
        "print(team_svm.score(gswIF_test, gswOF_test))\n",
        "print(\"score has %0.2f accuracy with a standard deviation of %0.2f\" % (scores.mean(), scores.std()))"
      ]
    },
    {
      "cell_type": "markdown",
      "source": [
        "this time we test on a different team from the one we trained on. the f1 score is lower but to a lesser degree but the recall has taken a bit of a hit. the precision however has increased. This is to be expected since we are using one teams training for another team."
      ],
      "metadata": {
        "id": "8YpCvZqGVHjv"
      },
      "id": "8YpCvZqGVHjv"
    },
    {
      "cell_type": "code",
      "execution_count": 24,
      "id": "830ba745-925d-4ddb-a407-5a538e24daca",
      "metadata": {
        "id": "830ba745-925d-4ddb-a407-5a538e24daca",
        "outputId": "307ce3e9-df3d-44fd-c325-cb7d46b9987c",
        "colab": {
          "base_uri": "https://localhost:8080/"
        }
      },
      "outputs": [
        {
          "output_type": "stream",
          "name": "stdout",
          "text": [
            "              precision    recall  f1-score   support\n",
            "\n",
            "         0.0       1.00      0.85      0.92        47\n",
            "         1.0       0.89      1.00      0.94        56\n",
            "\n",
            "    accuracy                           0.93       103\n",
            "   macro avg       0.94      0.93      0.93       103\n",
            "weighted avg       0.94      0.93      0.93       103\n",
            "\n",
            "0.5436893203883495\n",
            "score has 0.57 accuracy with a standard deviation of 0.04\n"
          ]
        },
        {
          "output_type": "stream",
          "name": "stderr",
          "text": [
            "/usr/local/lib/python3.9/dist-packages/sklearn/base.py:432: UserWarning: X has feature names, but SVC was fitted without feature names\n",
            "  warnings.warn(\n"
          ]
        }
      ],
      "source": [
        "pred = team_svm.predict(gswIF_test_scale)\n",
        "scores = cross_val_score(team_svm, teamIF, teamOF, cv=5)\n",
        "print(classification_report(gswOF_test, pred))\n",
        "print(team_svm.score(gswIF_test, gswOF_test))\n",
        "print(\"score has %0.2f accuracy with a standard deviation of %0.2f\" % (scores.mean(), scores.std()))"
      ]
    },
    {
      "cell_type": "markdown",
      "id": "d75055df-94b6-482a-b4c4-af2bdc558227",
      "metadata": {
        "id": "d75055df-94b6-482a-b4c4-af2bdc558227"
      },
      "source": [
        "Trained on full league, tested on single team (with outlier removal)"
      ]
    },
    {
      "cell_type": "code",
      "execution_count": 25,
      "id": "e268a62e-acae-4fe8-b510-6478504cb840",
      "metadata": {
        "id": "e268a62e-acae-4fe8-b510-6478504cb840"
      },
      "outputs": [],
      "source": [
        "league = remove_outliers(league)\n",
        "league_outlier_svm = SVC()"
      ]
    },
    {
      "cell_type": "markdown",
      "id": "3f943ab1-1619-4d97-b6b0-6d30a4c1b70e",
      "metadata": {
        "id": "3f943ab1-1619-4d97-b6b0-6d30a4c1b70e"
      },
      "source": [
        "**Trained on single team tested on single team (wtih outlier removal)**"
      ]
    },
    {
      "cell_type": "code",
      "execution_count": 26,
      "id": "750bc3f8-903b-4c9a-8c45-f0b85c6a96f6",
      "metadata": {
        "id": "750bc3f8-903b-4c9a-8c45-f0b85c6a96f6",
        "outputId": "c082bc6c-5062-40a6-c513-e4b49f7efa0c",
        "colab": {
          "base_uri": "https://localhost:8080/"
        }
      },
      "outputs": [
        {
          "output_type": "stream",
          "name": "stdout",
          "text": [
            "              precision    recall  f1-score   support\n",
            "\n",
            "         0.0       0.86      1.00      0.92        30\n",
            "         1.0       1.00      0.89      0.94        44\n",
            "\n",
            "    accuracy                           0.93        74\n",
            "   macro avg       0.93      0.94      0.93        74\n",
            "weighted avg       0.94      0.93      0.93        74\n",
            "\n",
            "0.5945945945945946\n",
            "score has 0.53 accuracy with a standard deviation of 0.07\n"
          ]
        },
        {
          "output_type": "stream",
          "name": "stderr",
          "text": [
            "/usr/local/lib/python3.9/dist-packages/sklearn/base.py:432: UserWarning: X has feature names, but SVC was fitted without feature names\n",
            "  warnings.warn(\n"
          ]
        }
      ],
      "source": [
        "x = remove_outliers(x)\n",
        "teamIF = x.drop(['WL_HOME', 'GAME_ID', 'GAME_DATE', 'TEAM_ABBREVIATION_HOME.1', 'TEAM_ABBREVIATION_HOME',\n",
        "                     'TEAM_ABBREVIATION_AWAY'], axis=1)\n",
        "teamOF = x.WL_HOME\n",
        "teamIF_train, teamIF_test, teamOF_train, teamOF_test = train_test_split(teamIF, teamOF, test_size=.25)\n",
        "scale = MinMaxScaler()\n",
        "scale.fit(teamIF_train)\n",
        "teamIF_train_scale = scale.transform(teamIF_train)\n",
        "teamIF_test_scale = scale.transform(teamIF_test)\n",
        "temp = SVC()\n",
        "temp.fit(teamIF_train_scale, teamOF_train)\n",
        "#pred = team_svm.predict(teamIF_test_scale)\n",
        "pred = temp.predict(teamIF_test_scale)\n",
        "scores = cross_val_score(team_svm, teamIF, teamOF, cv=5)\n",
        "print(classification_report(teamOF_test, pred))\n",
        "print(team_svm.score(teamIF_test, teamOF_test))\n",
        "print(\"score has %0.2f accuracy with a standard deviation of %0.2f\" % (scores.mean(), scores.std()))"
      ]
    },
    {
      "cell_type": "markdown",
      "source": [
        "now with outliars removed we got the interesting case that across the board the stats were better (precision recall f1) removing the outlairs gave the SVM something more clean and reliable to work with."
      ],
      "metadata": {
        "id": "b8OSV7lfVtWS"
      },
      "id": "b8OSV7lfVtWS"
    },
    {
      "cell_type": "markdown",
      "id": "2b0be3d1-241e-4e38-ab33-2c96c55bb124",
      "metadata": {
        "id": "2b0be3d1-241e-4e38-ab33-2c96c55bb124"
      },
      "source": [
        "**Trained on single team tested on another team (with outlier removal)**"
      ]
    },
    {
      "cell_type": "code",
      "execution_count": 27,
      "id": "ae4c7cd5-913b-4e92-899a-4034aed23b3d",
      "metadata": {
        "id": "ae4c7cd5-913b-4e92-899a-4034aed23b3d",
        "outputId": "15c815d5-9fdd-4ab3-d739-25762afae6df",
        "colab": {
          "base_uri": "https://localhost:8080/"
        }
      },
      "outputs": [
        {
          "output_type": "stream",
          "name": "stdout",
          "text": [
            "              precision    recall  f1-score   support\n",
            "\n",
            "         0.0       1.00      0.85      0.92        47\n",
            "         1.0       0.89      1.00      0.94        56\n",
            "\n",
            "    accuracy                           0.93       103\n",
            "   macro avg       0.94      0.93      0.93       103\n",
            "weighted avg       0.94      0.93      0.93       103\n",
            "\n",
            "0.5436893203883495\n",
            "score has 0.63 accuracy with a standard deviation of 0.01\n"
          ]
        },
        {
          "output_type": "stream",
          "name": "stderr",
          "text": [
            "/usr/local/lib/python3.9/dist-packages/sklearn/base.py:432: UserWarning: X has feature names, but SVC was fitted without feature names\n",
            "  warnings.warn(\n"
          ]
        }
      ],
      "source": [
        "g = remove_outliers(g)\n",
        "gswIF = g.drop(['WL_HOME', 'GAME_ID', 'GAME_DATE', 'TEAM_ABBREVIATION_HOME.1', 'TEAM_ABBREVIATION_HOME',\n",
        "                    'TEAM_ABBREVIATION_AWAY'], axis=1)\n",
        "gswOF = g.WL_HOME\n",
        "pred = team_svm.predict(gswIF_test_scale)\n",
        "scores = cross_val_score(team_svm, gswIF, gswOF, cv=5)\n",
        "print(classification_report(gswOF_test, pred))\n",
        "print(team_svm.score(gswIF_test, gswOF_test))\n",
        "print(\"score has %0.2f accuracy with a standard deviation of %0.2f\" % (scores.mean(), scores.std()))"
      ]
    },
    {
      "cell_type": "markdown",
      "source": [
        "yet with outliar removal testing on a different team using training of the previous team seems to put us back at a f1 of 93%. but this can once again be explained by using one teams data to predict another team. here however the precision and recall are amazing."
      ],
      "metadata": {
        "id": "vkvshgxsV9Zo"
      },
      "id": "vkvshgxsV9Zo"
    },
    {
      "cell_type": "markdown",
      "id": "bb8ffff5-8278-4d25-b7e2-a813c6fd3653",
      "metadata": {
        "id": "bb8ffff5-8278-4d25-b7e2-a813c6fd3653"
      },
      "source": [
        "## Results"
      ]
    },
    {
      "cell_type": "markdown",
      "source": [
        "if we just compair our stats against the league you can see a remarkable increase in the accuracy of the prediction although that can be marked up to having less data to work with. Another interesting case in the data (though not surprising) is the increase in all stats due to outliars being removed. having cleaner data to work with, and more importantly MORE data to work with should help us get more accurate results. we will continue to tweak what we can to make the SVM as good as possible."
      ],
      "metadata": {
        "id": "40eJErPqWTFy"
      },
      "id": "40eJErPqWTFy"
    },
    {
      "cell_type": "markdown",
      "id": "504bd062-ab16-47ba-bd3d-f78837f76019",
      "metadata": {
        "id": "504bd062-ab16-47ba-bd3d-f78837f76019"
      },
      "source": [
        "## Plans for senior project 2"
      ]
    },
    {
      "cell_type": "markdown",
      "id": "03074d13-26d4-4d20-8008-cbca57f12960",
      "metadata": {
        "id": "03074d13-26d4-4d20-8008-cbca57f12960"
      },
      "source": [
        "Algorithm for estimating stats of nth future game\n",
        "<br>\n",
        "RSM ensemble\n",
        "<br>\n",
        "Front and back end of website for users\n",
        "<br>\n",
        "database\n",
        "<br>\n",
        "pipeline to pull stats from new games"
      ]
    }
  ],
  "metadata": {
    "kernelspec": {
      "display_name": "Python 3 (ipykernel)",
      "language": "python",
      "name": "python3"
    },
    "language_info": {
      "codemirror_mode": {
        "name": "ipython",
        "version": 3
      },
      "file_extension": ".py",
      "mimetype": "text/x-python",
      "name": "python",
      "nbconvert_exporter": "python",
      "pygments_lexer": "ipython3",
      "version": "3.9.13"
    },
    "colab": {
      "provenance": [],
      "include_colab_link": true
    }
  },
  "nbformat": 4,
  "nbformat_minor": 5
}